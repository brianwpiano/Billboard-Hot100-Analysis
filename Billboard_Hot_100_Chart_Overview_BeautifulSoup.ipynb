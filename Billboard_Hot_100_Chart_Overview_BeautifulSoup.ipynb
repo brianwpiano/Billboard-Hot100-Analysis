{
  "cells": [
    {
      "cell_type": "markdown",
      "metadata": {},
      "source": [
        "Billboard Hot 100 Chart Overview"
      ]
    },
    {
      "cell_type": "code",
      "execution_count": null,
      "metadata": {},
      "outputs": [],
      "source": [
        "# Import all libraries\n",
        "import pandas as pd\n",
        "from bs4 import BeautifulSoup\n",
        "import requests\n",
        "import time\n",
        "from datetime import datetime, timedelta\n",
        "from matplotlib import pyplot as plt\n",
        "import plotly.express as px"
      ]
    },
    {
      "cell_type": "code",
      "execution_count": 87,
      "metadata": {
        "colab": {
          "base_uri": "https://localhost:8080/"
        },
        "id": "7--ISL_Ur2o6",
        "outputId": "ae3c35b4-22fa-488e-9940-216494d328f0"
      },
      "outputs": [
        {
          "name": "stdout",
          "output_type": "stream",
          "text": [
            "['2019-01-05', '2019-01-12', '2019-01-19', '2019-01-26', '2019-02-02', '2019-02-09', '2019-02-16', '2019-02-23', '2019-03-02', '2019-03-09', '2019-03-16', '2019-03-23', '2019-03-30', '2019-04-06', '2019-04-13', '2019-04-20', '2019-04-27', '2019-05-04', '2019-05-11', '2019-05-18', '2019-05-25', '2019-06-01', '2019-06-08', '2019-06-15', '2019-06-22', '2019-06-29', '2019-07-06', '2019-07-13', '2019-07-20', '2019-07-27', '2019-08-03', '2019-08-10', '2019-08-17', '2019-08-24', '2019-08-31', '2019-09-07', '2019-09-14', '2019-09-21', '2019-09-28', '2019-10-05', '2019-10-12', '2019-10-19', '2019-10-26', '2019-11-02', '2019-11-09', '2019-11-16', '2019-11-23', '2019-11-30', '2019-12-07', '2019-12-14', '2019-12-21', '2019-12-28', '2020-01-04', '2020-01-11', '2020-01-18', '2020-01-25', '2020-02-01', '2020-02-08', '2020-02-15', '2020-02-22', '2020-02-29', '2020-03-07', '2020-03-14', '2020-03-21', '2020-03-28', '2020-04-04', '2020-04-11', '2020-04-18', '2020-04-25', '2020-05-02', '2020-05-09', '2020-05-16', '2020-05-23', '2020-05-30', '2020-06-06', '2020-06-13', '2020-06-20', '2020-06-27', '2020-07-04', '2020-07-11', '2020-07-18', '2020-07-25', '2020-08-01', '2020-08-08', '2020-08-15', '2020-08-22', '2020-08-29', '2020-09-05', '2020-09-12', '2020-09-19', '2020-09-26', '2020-10-03', '2020-10-10', '2020-10-17', '2020-10-24', '2020-10-31', '2020-11-07', '2020-11-14', '2020-11-21', '2020-11-28', '2020-12-05', '2020-12-12', '2020-12-19', '2020-12-26', '2021-01-02', '2021-01-09', '2021-01-16', '2021-01-23', '2021-01-30', '2021-02-06', '2021-02-13', '2021-02-20', '2021-02-27', '2021-03-06', '2021-03-13', '2021-03-20', '2021-03-27', '2021-04-03', '2021-04-10', '2021-04-17', '2021-04-24', '2021-05-01', '2021-05-08', '2021-05-15', '2021-05-22', '2021-05-29', '2021-06-05', '2021-06-12', '2021-06-19', '2021-06-26', '2021-07-03', '2021-07-10', '2021-07-17', '2021-07-24', '2021-07-31', '2021-08-07', '2021-08-14', '2021-08-21', '2021-08-28', '2021-09-04', '2021-09-11', '2021-09-18', '2021-09-25', '2021-10-02', '2021-10-09', '2021-10-16', '2021-10-23', '2021-10-30', '2021-11-06', '2021-11-13', '2021-11-20', '2021-11-27', '2021-12-04', '2021-12-11', '2021-12-18', '2021-12-25', '2022-01-01', '2022-01-08', '2022-01-15', '2022-01-22', '2022-01-29', '2022-02-05', '2022-02-12', '2022-02-19', '2022-02-26', '2022-03-05', '2022-03-12', '2022-03-19', '2022-03-26', '2022-04-02', '2022-04-09', '2022-04-16', '2022-04-23', '2022-04-30', '2022-05-07', '2022-05-14', '2022-05-21', '2022-05-28', '2022-06-04', '2022-06-11', '2022-06-18', '2022-06-25', '2022-07-02', '2022-07-09', '2022-07-16', '2022-07-23', '2022-07-30', '2022-08-06', '2022-08-13', '2022-08-20', '2022-08-27', '2022-09-03', '2022-09-10', '2022-09-17', '2022-09-24', '2022-10-01', '2022-10-08', '2022-10-15', '2022-10-22', '2022-10-29', '2022-11-05', '2022-11-12', '2022-11-19', '2022-11-26', '2022-12-03', '2022-12-10', '2022-12-17', '2022-12-24', '2022-12-31', '2023-01-07', '2023-01-14', '2023-01-21', '2023-01-28', '2023-02-04', '2023-02-11', '2023-02-18', '2023-02-25', '2023-03-04', '2023-03-11', '2023-03-18', '2023-03-25', '2023-04-01', '2023-04-08', '2023-04-15', '2023-04-22', '2023-04-29', '2023-05-06', '2023-05-13', '2023-05-20', '2023-05-27', '2023-06-03', '2023-06-10', '2023-06-17', '2023-06-24', '2023-07-01', '2023-07-08', '2023-07-15', '2023-07-22', '2023-07-29', '2023-08-05', '2023-08-12', '2023-08-19', '2023-08-26', '2023-09-02', '2023-09-09', '2023-09-16', '2023-09-23', '2023-09-30', '2023-10-07', '2023-10-14', '2023-10-21', '2023-10-28', '2023-11-04', '2023-11-11', '2023-11-18', '2023-11-25', '2023-12-02', '2023-12-09', '2023-12-16', '2023-12-23', '2023-12-30', '2024-01-06', '2024-01-13', '2024-01-20', '2024-01-27', '2024-02-03', '2024-02-10', '2024-02-17', '2024-02-24', '2024-03-02', '2024-03-09', '2024-03-16', '2024-03-23', '2024-03-30', '2024-04-06', '2024-04-13', '2024-04-20', '2024-04-27', '2024-05-04', '2024-05-11', '2024-05-18', '2024-05-25', '2024-06-01', '2024-06-08', '2024-06-15', '2024-06-22', '2024-06-29', '2024-07-06', '2024-07-13', '2024-07-20', '2024-07-27', '2024-08-03', '2024-08-10', '2024-08-17', '2024-08-24', '2024-08-31', '2024-09-07', '2024-09-14', '2024-09-21', '2024-09-28']\n"
          ]
        }
      ],
      "source": [
        "# Generate Saturdays from a specific year until today's date\n",
        "def generate_saturdays(start_year):\n",
        "    saturdays = []\n",
        "    start_date = datetime(start_year, 1, 1)\n",
        "    end_date = datetime.now()\n",
        "\n",
        "    # Loop through dates until today\n",
        "    while start_date <= end_date:\n",
        "        if start_date.weekday() == 5:\n",
        "            saturdays.append(start_date.strftime('%Y-%m-%d'))\n",
        "        start_date += timedelta(days=1)\n",
        "\n",
        "    return saturdays\n",
        "\n",
        "# Generate Saturdays starting from 2019 until today\n",
        "saturdays = generate_saturdays(2019)\n",
        "print(saturdays)"
      ]
    },
    {
      "cell_type": "code",
      "execution_count": 88,
      "metadata": {
        "colab": {
          "base_uri": "https://localhost:8080/"
        },
        "id": "_jOAKv_VQXD3",
        "outputId": "d607a063-766d-4226-819c-23c0d1356a97"
      },
      "outputs": [
        {
          "name": "stdout",
          "output_type": "stream",
          "text": [
            "[('2019', '05', '18', '1', 'Old Town Road', 'Lil Nas X Featuring Billy Ray Cyrus', '1', '1', '10'), ('2019', '05', '18', '2', \"If I Can't Have You\", 'Shawn Mendes', '-', '2', '1'), ('2019', '05', '18', '3', 'ME!', 'Taylor Swift Featuring Brendon Urie', '2', '2', '3'), ('2019', '05', '18', '4', 'Sucker', 'Jonas Brothers', '4', '1', '10'), ('2019', '05', '18', '5', 'Homicide', 'Logic Featuring Eminem', '-', '5', '1'), ('2019', '05', '18', '6', 'Wow.', 'Post Malone', '3', '2', '20'), ('2019', '05', '18', '7', 'Sunflower (Spider-Man: Into The Spider-Verse)', 'Post Malone & Swae Lee', '5', '1', '29'), ('2019', '05', '18', '8', 'Without Me', 'Halsey', '7', '1', '31'), ('2019', '05', '18', '9', 'Bad Guy', 'Billie Eilish', '9', '7', '6'), ('2019', '05', '18', '10', '7 Rings', 'Ariana Grande', '6', '1', '16'), ('2019', '05', '18', '11', 'Dancing With A Stranger', 'Sam Smith & Normani', '8', '7', '17'), ('2019', '05', '18', '12', 'Talk', 'Khalid', '10', '8', '13'), ('2019', '05', '18', '13', 'Sweet But Psycho', 'Ava Max', '11', '11', '21'), ('2019', '05', '18', '14', 'Middle Child', 'J. Cole', '12', '4', '16'), ('2019', '05', '18', '15', \"Break Up With Your Girlfriend, I'm Bored\", 'Ariana Grande', '13', '2', '13'), ('2019', '05', '18', '16', 'Happier', 'Marshmello & Bastille', '14', '2', '38'), ('2019', '05', '18', '17', 'Going Bad', 'Meek Mill Featuring Drake', '16', '6', '23'), ('2019', '05', '18', '18', 'Eastside', 'benny blanco, Halsey & Khalid', '17', '9', '43'), ('2019', '05', '18', '19', 'Shallow', 'Lady Gaga & Bradley Cooper', '15', '1', '32'), ('2019', '05', '18', '20', 'High Hopes', 'Panic! At The Disco', '18', '4', '40'), ('2019', '05', '18', '21', 'Better', 'Khalid', '20', '8', '34'), ('2019', '05', '18', '22', 'Suge', 'DaBaby', '27', '22', '6'), ('2019', '05', '18', '23', 'Please Me', 'Cardi B & Bruno Mars', '19', '3', '12'), ('2019', '05', '18', '24', 'Pure Water', 'Mustard & Migos', '23', '23', '15'), ('2019', '05', '18', '25', 'Girls Like You', 'Maroon 5 Featuring Cardi B', '21', '1', '50'), ('2019', '05', '18', '26', 'Sicko Mode', 'Travis Scott', '24', '1', '40'), ('2019', '05', '18', '27', 'Look Back At It', 'A Boogie Wit da Hoodie', '29', '27', '22'), ('2019', '05', '18', '28', 'Whiskey Glasses', 'Morgan Wallen', '33', '28', '10'), ('2019', '05', '18', '29', 'Act Up', 'City Girls', '30', '29', '10'), ('2019', '05', '18', '30', 'A Lot', '21 Savage', '22', '12', '20'), ('2019', '05', '18', '31', 'Con Calma', 'Daddy Yankee & Katy Perry Featuring Snow', '35', '31', '14'), ('2019', '05', '18', '32', 'Beautiful Crazy', 'Luke Combs', '28', '21', '26'), ('2019', '05', '18', '33', \"God's Country\", 'Blake Shelton', '34', '33', '6'), ('2019', '05', '18', '34', 'Here With Me', 'Marshmello Featuring CHVRCHES', '31', '31', '9'), ('2019', '05', '18', '35', 'Envy Me', 'Calboy', '32', '31', '21'), ('2019', '05', '18', '36', 'Thotiana', 'Blueface', '25', '8', '17'), ('2019', '05', '18', '37', 'Be Alright', 'Dean Lewis', '26', '23', '28'), ('2019', '05', '18', '38', 'Eyes On You', 'Chase Rice', '38', '38', '12'), ('2019', '05', '18', '39', 'Pop Out', 'Polo G Featuring Lil Tjay', '51', '39', '7'), ('2019', '05', '18', '40', \"When The Party's Over\", 'Billie Eilish', '39', '29', '26'), ('2019', '05', '18', '41', 'Drip Too Hard', 'Lil Baby & Gunna', '37', '4', '34'), ('2019', '05', '18', '42', 'Good As You', 'Kane Brown', '46', '42', '11'), ('2019', '05', '18', '43', 'Close To Me', 'Ellie Goulding X Diplo Featuring Swae Lee', '36', '24', '25'), ('2019', '05', '18', '44', 'Clout', 'Offset Featuring Cardi B', '47', '39', '5'), ('2019', '05', '18', '45', 'You Say', 'Lauren Daigle', '43', '29', '43'), ('2019', '05', '18', '46', 'Bury A Friend', 'Billie Eilish', '45', '14', '15'), ('2019', '05', '18', '47', 'Sanguine Paradise', 'Lil Uzi Vert', '42', '28', '4'), ('2019', '05', '18', '48', 'Thank U, Next', 'Ariana Grande', '48', '1', '27'), ('2019', '05', '18', '49', 'Murder On My Mind', 'YNW Melly', '44', '14', '16'), ('2019', '05', '18', '50', 'Truth Hurts', 'Lizzo', '-', '50', '1'), ('2019', '05', '18', '51', 'Boy With Luv', 'BTS Featuring Halsey', '40', '8', '4'), ('2019', '05', '18', '52', 'Worth It', 'YK Osiris', '57', '52', '12'), ('2019', '05', '18', '53', 'Who Do You Love', 'The Chainsmokers Featuring 5 Seconds Of Summer', '52', '52', '13'), ('2019', '05', '18', '54', 'Close Friends', 'Lil Baby', '56', '28', '28'), ('2019', '05', '18', '55', 'Look What God Gave Her', 'Thomas Rhett', '53', '48', '10'), ('2019', '05', '18', '56', 'Night Shift', 'Jon Pardi', '59', '56', '12'), ('2019', '05', '18', '57', 'Rumor', 'Lee Brice', '61', '57', '9'), ('2019', '05', '18', '58', 'Walk Me Home', 'P!nk', '49', '49', '10'), ('2019', '05', '18', '59', 'Hey Look Ma, I Made It', 'Panic! At The Disco', '66', '59', '4'), ('2019', '05', '18', '60', \"Love Ain't\", 'Eli Young Band', '60', '60', '4'), ('2019', '05', '18', '61', 'Earth', 'Lil Dicky', '41', '17', '3'), ('2019', '05', '18', '62', 'Baby Shark', 'Pinkfong', '55', '32', '19'), ('2019', '05', '18', '63', 'Swervin', 'A Boogie Wit da Hoodie Featuring 6ix9ine', '58', '38', '20'), ('2019', '05', '18', '64', 'Miss Me More', 'Kelsea Ballerini', '62', '59', '14'), ('2019', '05', '18', '65', 'Big Ole Freak', 'Megan Thee Stallion', '70', '65', '5'), ('2019', '05', '18', '66', 'Here Tonight', 'Brett Young', '54', '42', '18'), ('2019', '05', '18', '67', 'Before I Let Go', 'Beyonce', '65', '65', '3'), ('2019', '05', '18', '68', 'Beer Never Broke My Heart', 'Luke Combs', '-', '68', '1'), ('2019', '05', '18', '69', \"Don't Call Me Up\", 'Mabel', '71', '67', '7'), ('2019', '05', '18', '70', 'Cool', 'Jonas Brothers', '72', '27', '5'), ('2019', '05', '18', '71', 'Go Loko', 'YG, Tyga & Jon Z', '-', '71', '1'), ('2019', '05', '18', '72', 'GIRL', 'Maren Morris', '75', '61', '10'), ('2019', '05', '18', '73', 'Racks In The Middle', 'Nipsey Hussle Featuring Roddy Ricch & Hit-Boy', '63', '26', '6'), ('2019', '05', '18', '74', 'Robbery', 'Juice WRLD', '68', '27', '12'), ('2019', '05', '18', '75', 'Girls Need Love', 'Summer Walker X Drake', '74', '37', '11'), ('2019', '05', '18', '76', 'Make It Sweet', 'Old Dominion', '64', '56', '19'), ('2019', '05', '18', '77', 'Calma', 'Pedro Capo X Farruko', '73', '71', '8'), ('2019', '05', '18', '78', 'Mixed Personalities', 'YNW Melly Featuring Kanye West', '76', '42', '16'), ('2019', '05', '18', '79', 'Talk You Out Of It', 'Florida Georgia Line', '82', '78', '12'), ('2019', '05', '18', '80', 'Put A Date On It', 'Yo Gotti Featuring Lil Baby', '81', '46', '15'), ('2019', '05', '18', '81', \"I'm So Tired...\", 'Lauv & Troye Sivan', '83', '81', '5'), ('2019', '05', '18', '82', 'Shotta Flow', 'NLE Choppa', '86', '82', '3'), ('2019', '05', '18', '83', \"That's A Rack\", 'Lil Uzi Vert', '77', '76', '4'), ('2019', '05', '18', '84', \"Knockin' Boots\", 'Luke Bryan', '94', '84', '2'), ('2019', '05', '18', '85', '24/7', 'Meek Mill Featuring Ella Mai', '97', '54', '5'), ('2019', '05', '18', '86', 'You Should See Me In A Crown', 'Billie Eilish', '80', '41', '7'), ('2019', '05', '18', '87', 'On My Way To You', 'Cody Johnson', '84', '84', '11'), ('2019', '05', '18', '88', 'Baila Baila Baila', 'Ozuna x Daddy Yankee x J Balvin x Farruko x Anuel AA', '69', '69', '2'), ('2019', '05', '18', '89', 'Love Someone', 'Brett Eldredge', '91', '89', '3'), ('2019', '05', '18', '90', 'Power Is Power', 'SZA, The Weeknd & Travis Scott', '92', '90', '2'), ('2019', '05', '18', '91', 'Middle Child', 'PnB Rock & XXXTENTACION', '-', '91', '1'), ('2019', '05', '18', '92', 'Shot Clock', 'Ella Mai', '87', '62', '15'), ('2019', '05', '18', '93', 'Ocean Eyes', 'Billie Eilish', '88', '84', '12'), ('2019', '05', '18', '94', 'Wish You Were Gay', 'Billie Eilish', '79', '31', '10'), ('2019', '05', '18', '95', \"I've Been Waiting\", 'Lil Peep & iLoveMakonnen Featuring Fall Out Boy', '78', '62', '9'), ('2019', '05', '18', '96', 'All To Myself', 'Dan + Shay', '-', '96', '1'), ('2019', '05', '18', '97', 'Secreto', 'Anuel AA & Karol G', '89', '68', '11'), ('2019', '05', '18', '98', 'Paradise', 'Bazzi', '-', '98', '1'), ('2019', '05', '18', '99', 'Die Young', 'Roddy Ricch', '-', '99', '1'), ('2019', '05', '18', '100', 'Faucet Failure', 'Ski Mask The Slump God', '93', '87', '11'), ('2019', '11', '30', '1', 'Circles', 'Post Malone', '2', '1', '12'), ('2019', '11', '30', '2', 'Someone You Loved', 'Lewis Capaldi', '1', '1', '28'), ('2019', '11', '30', '3', 'Good As Hell', 'Lizzo', '4', '3', '13'), ('2019', '11', '30', '4', 'Memories', 'Maroon 5', '5', '4', '9'), ('2019', '11', '30', '5', 'Lose You To Love Me', 'Selena Gomez', '8', '1', '5'), ('2019', '11', '30', '6', 'Senorita', 'Shawn Mendes & Camila Cabello', '3', '1', '22'), ('2019', '11', '30', '7', 'No Guidance', 'Chris Brown Featuring Drake', '7', '5', '24'), ('2019', '11', '30', '8', 'Everything I Wanted', 'Billie Eilish', '74', '8', '2'), ('2019', '11', '30', '9', '10,000 Hours', 'Dan + Shay & Justin Bieber', '10', '4', '7'), ('2019', '11', '30', '10', 'Truth Hurts', 'Lizzo', '6', '1', '29'), ('2019', '11', '30', '11', 'Panini', 'Lil Nas X', '9', '5', '22'), ('2019', '11', '30', '12', 'Roxanne', 'Arizona Zervas', '27', '12', '3'), ('2019', '11', '30', '13', 'Trampoline', 'SHAED', '14', '13', '25'), ('2019', '11', '30', '14', 'HIGHEST IN THE ROOM', 'Travis Scott', '12', '1', '7'), ('2019', '11', '30', '15', 'Lover', 'Taylor Swift', '26', '10', '14'), ('2019', '11', '30', '16', 'Woah', 'Lil Baby', '19', '16', '2'), ('2019', '11', '30', '17', 'Bad Guy', 'Billie Eilish', '13', '1', '34'), ('2019', '11', '30', '18', 'BOP', 'DaBaby', '67', '18', '8'), ('2019', '11', '30', '19', 'Dance Monkey', 'Tones And I', '23', '19', '7'), ('2019', '11', '30', '20', \"Ballin'\", 'Mustard & Roddy Ricch', '25', '20', '18'), ('2019', '11', '30', '21', 'Hot', 'Young Thug Featuring Gunna', '16', '11', '14'), ('2019', '11', '30', '22', 'One Man Band', 'Old Dominion', '20', '20', '13'), ('2019', '11', '30', '23', 'Beautiful People', 'Ed Sheeran Featuring Khalid', '15', '13', '21'), ('2019', '11', '30', '24', 'Only Human', 'Jonas Brothers', '18', '18', '23'), ('2019', '11', '30', '25', \"Even Though I'm Leaving\", 'Luke Combs', '11', '11', '12'), ('2019', '11', '30', '26', 'Ran$om', 'Lil Tecca', '17', '4', '25'), ('2019', '11', '30', '27', 'Old Town Road', 'Lil Nas X Featuring Billy Ray Cyrus', '21', '1', '38'), ('2019', '11', '30', '28', 'Bandit', 'Juice WRLD & YoungBoy Never Broke Again', '22', '10', '7'), ('2019', '11', '30', '29', 'On Chill', 'Wale Featuring Jeremih', '28', '22', '15'), ('2019', '11', '30', '30', \"I Don't Care\", 'Ed Sheeran & Justin Bieber', '24', '2', '28'), ('2019', '11', '30', '31', 'All I Want For Christmas Is You', 'Mariah Carey', '39', '3', '32'), ('2019', '11', '30', '32', 'Talk', 'Khalid', '29', '3', '41'), ('2019', '11', '30', '33', 'Goodbyes', 'Post Malone Featuring Young Thug', '30', '3', '20'), ('2019', '11', '30', '34', 'Baby', 'Lil Baby & DaBaby', '34', '21', '18'), ('2019', '11', '30', '35', 'How Do You Sleep?', 'Sam Smith', '31', '24', '18'), ('2019', '11', '30', '36', 'Playing Games', 'Summer Walker', '33', '16', '12'), ('2019', '11', '30', '37', 'Heat', 'Chris Brown Featuring Gunna', '36', '36', '12'), ('2019', '11', '30', '38', 'Sucker', 'Jonas Brothers', '32', '1', '38'), ('2019', '11', '30', '39', 'Graveyard', 'Halsey', '42', '39', '10'), ('2019', '11', '30', '40', 'Suge', 'DaBaby', '37', '7', '34'), ('2019', '11', '30', '41', 'Hot Girl Bummer', 'blackbear', '45', '41', '10'), ('2019', '11', '30', '42', \"Don't Start Now\", 'Dua Lipa', '46', '30', '3'), ('2019', '11', '30', '43', 'Time', 'NF', '43', '41', '18'), ('2019', '11', '30', '44', 'Jerry Sprunger', 'Tory Lanez & T-Pain', '83', '44', '2'), ('2019', '11', '30', '45', 'One Thing Right', 'Marshmello & Kane Brown', '40', '36', '22'), ('2019', '11', '30', '46', 'Money In The Grave', 'Drake Featuring Rick Ross', '35', '7', '23'), ('2019', '11', '30', '47', 'What If I Never Get Over You', 'Lady Antebellum', '54', '47', '13'), ('2019', '11', '30', '48', 'Dancing With A Stranger', 'Sam Smith & Normani', '41', '7', '45'), ('2019', '11', '30', '49', 'Reply', 'A Boogie Wit da Hoodie Featuring Lil Uzi Vert', '-', '49', '1'), ('2019', '11', '30', '50', 'The Bones', 'Maren Morris', '48', '48', '9'), ('2019', '11', '30', '51', 'Juicy', 'Doja Cat & Tyga', '47', '47', '4'), ('2019', '11', '30', '52', 'Follow God', 'Kanye West', '38', '7', '4'), ('2019', '11', '30', '53', 'Remember You Young', 'Thomas Rhett', '53', '53', '10'), ('2019', '11', '30', '54', 'Heart On Ice', 'Rod Wave', '56', '54', '2'), ('2019', '11', '30', '55', 'None Of Your Concern', 'Jhene Aiko Featuring Big Sean', '-', '55', '1'), ('2019', '11', '30', '56', \"223's\", 'YNW Melly & 9lokknine', '44', '34', '11'), ('2019', '11', '30', '57', 'Take What You Want', 'Post Malone Featuring Ozzy Osbourne & Travis Scott', '49', '8', '11'), ('2019', '11', '30', '58', 'Camelot', 'NLE Choppa', '51', '37', '10'), ('2019', '11', '30', '59', 'VIBEZ', 'DaBaby', '52', '21', '8'), ('2019', '11', '30', '60', 'Watermelon Sugar', 'Harry Styles', '-', '60', '1'), ('2019', '11', '30', '61', 'Prayed For You', 'Matt Stell', '57', '36', '16'), ('2019', '11', '30', '62', 'Kinfolks', 'Sam Hunt', '65', '62', '6'), ('2019', '11', '30', '63', 'Leave Em Alone', 'Layton Greene, Lil Baby, City Girls & PnB Rock', '60', '60', '7'), ('2019', '11', '30', '64', 'Baby Sitter', 'DaBaby Featuring Offset', '64', '59', '15'), ('2019', '11', '30', '65', 'We Were', 'Keith Urban', '70', '65', '12'), ('2019', '11', '30', '66', 'The Take', 'Tory Lanez Featuring Chris Brown', '-', '66', '1'), ('2019', '11', '30', '67', 'Heartache Medication', 'Jon Pardi', '71', '67', '8'), ('2019', '11', '30', '68', 'Enemies', 'Post Malone Featuring DaBaby', '66', '16', '11'), ('2019', '11', '30', '69', 'Hate Me', 'Ellie Goulding & Juice WRLD', '68', '56', '15'), ('2019', '11', '30', '70', \"Ridin' Roads\", 'Dustin Lynch', '76', '70', '3'), ('2019', '11', '30', '71', 'Nice To Meet Ya', 'Niall Horan', '63', '63', '6'), ('2019', '11', '30', '72', 'Liar', 'Camila Cabello', '55', '52', '11'), ('2019', '11', '30', '73', 'Every Little Thing', 'Russell Dickerson', '58', '50', '12'), ('2019', '11', '30', '74', 'Tip Of My Tongue', 'Kenny Chesney', '75', '73', '19'), ('2019', '11', '30', '75', 'Falling', 'Trevor Daniel', '-', '75', '1'), ('2019', '11', '30', '76', 'All The Good Girls Go To Hell', 'Billie Eilish', '80', '46', '5'), ('2019', '11', '30', '77', 'Lights Up', 'Harry Styles', '-', '17', '4'), ('2019', '11', '30', '78', 'Make No Sense', 'YoungBoy Never Broke Again', '69', '57', '6'), ('2019', '11', '30', '79', 'Hot Girl Summer', 'Megan Thee Stallion, Nicki Minaj & Ty Dolla $ign', '59', '11', '15'), ('2019', '11', '30', '80', \"I Don't Know About You\", 'Chris Lane', '77', '39', '20'), ('2019', '11', '30', '81', 'Lonely Child', 'YoungBoy Never Broke Again', '73', '44', '6'), ('2019', '11', '30', '82', 'Stuck In A Dream', 'Lil Mosey x Gunna', '62', '62', '4'), ('2019', '11', '30', '83', 'homecoming queen?', 'Kelsea Ballerini', '89', '82', '3'), ('2019', '11', '30', '84', 'Good Vibes', 'Chris Janson', '61', '48', '12'), ('2019', '11', '30', '85', 'Slow Dancing In The Dark', 'Joji', '79', '69', '7'), ('2019', '11', '30', '86', 'La Cancion', 'J Balvin & Bad Bunny', '84', '84', '6'), ('2019', '11', '30', '87', 'Beauty In The Benz', 'Tory Lanez Featuring Snoop Dogg', '-', '87', '1'), ('2019', '11', '30', '88', 'Easy', 'DaniLeigh Featuring Chris Brown', '91', '88', '3'), ('2019', '11', '30', '89', 'Up All Night', 'Khalid', '-', '89', '1'), ('2019', '11', '30', '90', 'Heartless', 'Diplo Presents Thomas Wesley Featuring Morgan Wallen', '-', '78', '3'), ('2019', '11', '30', '91', 'Lalala', 'Y2K & bbno$', '94', '55', '20'), ('2019', '11', '30', '92', 'Tusa', 'Karol G & Nicki Minaj', '78', '78', '2'), ('2019', '11', '30', '93', 'We Back', 'Jason Aldean', '-', '93', '1'), ('2019', '11', '30', '94', 'Self Control', 'YoungBoy Never Broke Again', '86', '50', '11'), ('2019', '11', '30', '95', 'Homesick', 'Kane Brown', '-', '95', '1'), ('2019', '11', '30', '96', 'Hot Shower', 'Chance The Rapper Featuring MadeinTYO & DaBaby', '85', '58', '8'), ('2019', '11', '30', '97', 'Death', 'Trippie Redd Featuring DaBaby', '-', '97', '1'), ('2019', '11', '30', '98', 'Yellow Hearts', 'Ant Saunders', '81', '81', '2'), ('2019', '11', '30', '99', 'Hell Right', 'Blake Shelton Featuring Trace Adkins', '-', '99', '1'), ('2019', '11', '30', '100', 'RITMO (Bad Boys For Life)', 'Black Eyed Peas X J Balvin', '-', '100', '1'), ('2023', '06', '03', '1', 'Last Night', 'Morgan Wallen', '1', '1', '17'), ('2023', '06', '03', '2', 'Flowers', 'Miley Cyrus', '3', '1', '19'), ('2023', '06', '03', '3', 'Kill Bill', 'SZA', '4', '1', '24'), ('2023', '06', '03', '4', 'Calm Down', 'Rema & Selena Gomez', '6', '4', '38'), ('2023', '06', '03', '5', 'Favorite Song', 'Toosii', '8', '5', '14'), ('2023', '06', '03', '6', 'Ella Baila Sola', 'Eslabon Armado X Peso Pluma', '5', '4', '10'), ('2023', '06', '03', '7', 'All My Life', 'Lil Durk Featuring J. Cole', '2', '2', '2'), ('2023', '06', '03', '8', 'Where She Goes', 'Bad Bunny', '-', '8', '1'), ('2023', '06', '03', '9', \"Creepin'\", 'Metro Boomin, The Weeknd & 21 Savage', '7', '3', '25'), ('2023', '06', '03', '10', 'Fast Car', 'Luke Combs', '9', '9', '9'), ('2023', '06', '03', '11', 'Die For You', 'The Weeknd & Ariana Grande', '11', '1', '43'), ('2023', '06', '03', '12', 'Anti-Hero', 'Taylor Swift', '10', '1', '31'), ('2023', '06', '03', '13', 'Sure Thing', 'Miguel', '14', '13', '43'), ('2023', '06', '03', '14', 'Un x100to', 'Grupo Frontera X Bad Bunny', '12', '5', '6'), ('2023', '06', '03', '15', \"Boy's A Liar, Pt. 2\", 'PinkPantheress & Ice Spice', '13', '3', '16'), ('2023', '06', '03', '16', 'Search & Rescue', 'Drake', '17', '2', '7'), ('2023', '06', '03', '17', 'Something In The Orange', 'Zach Bryan', '20', '10', '57'), ('2023', '06', '03', '18', 'La Bebe', 'Yng Lvcas x Peso Pluma', '16', '11', '10'), ('2023', '06', '03', '19', 'Rock And A Hard Place', 'Bailey Zimmerman', '15', '10', '50'), ('2023', '06', '03', '20', 'Cupid', 'Fifty Fifty', '18', '17', '10'), ('2023', '06', '03', '21', 'Chemical', 'Post Malone', '22', '13', '6'), ('2023', '06', '03', '22', 'As It Was', 'Harry Styles', '21', '1', '60'), ('2023', '06', '03', '23', 'You Proof', 'Morgan Wallen', '19', '5', '54'), ('2023', '06', '03', '24', \"Dancin' In The Country\", 'Tyler Hubbard', '23', '23', '14'), ('2023', '06', '03', '25', \"Thinkin' Bout Me\", 'Morgan Wallen', '25', '9', '12'), ('2023', '06', '03', '26', 'One Thing At A Time', 'Morgan Wallen', '30', '10', '25'), ('2023', '06', '03', '27', 'Karma', 'Taylor Swift Featuring Ice Spice', '32', '9', '11'), ('2023', '06', '03', '28', 'Snooze', 'SZA', '29', '28', '24'), ('2023', '06', '03', '29', 'Players', 'Coi Leray', '24', '9', '21'), ('2023', '06', '03', '30', \"I'm Good (Blue)\", 'David Guetta & Bebe Rexha', '27', '4', '39'), ('2023', '06', '03', '31', 'Eyes Closed', 'Ed Sheeran', '26', '19', '9'), ('2023', '06', '03', '32', 'Thank God', 'Kane Brown With Katelyn Brown', '28', '13', '37'), ('2023', '06', '03', '33', 'Area Codes', 'Kaliii', '33', '33', '3'), ('2023', '06', '03', '34', 'Thought You Should Know', 'Morgan Wallen', '31', '7', '41'), ('2023', '06', '03', '35', 'TQM', 'Fuerza Regida', '-', '35', '1'), ('2023', '06', '03', '36', 'Mourning', 'Post Malone', '-', '36', '1'), ('2023', '06', '03', '37', 'Under The Influence', 'Chris Brown', '34', '12', '37'), ('2023', '06', '03', '38', 'America Has A Problem', 'Beyonce Featuring Kendrick Lamar', '-', '38', '2'), ('2023', '06', '03', '39', 'Next Thing You Know', 'Jordan Davis', '37', '37', '18'), ('2023', '06', '03', '40', 'Need A Favor', 'Jelly Roll', '56', '40', '8'), ('2023', '06', '03', '41', 'Tennessee Orange', 'Megan Moroney', '35', '30', '24'), ('2023', '06', '03', '42', 'Por Las Noches', 'Peso Pluma', '36', '28', '11'), ('2023', '06', '03', '43', 'Princess Diana', 'Ice Spice & Nicki Minaj', '38', '4', '6'), ('2023', '06', '03', '44', 'PRC', 'Peso Pluma X Natanael Cano', '39', '33', '15'), ('2023', '06', '03', '45', 'Love You Anyway', 'Luke Combs', '44', '15', '15'), ('2023', '06', '03', '46', 'Spin Bout U', 'Drake & 21 Savage', '41', '5', '29'), ('2023', '06', '03', '47', 'Unholy', 'Sam Smith & Kim Petras', '42', '1', '35'), ('2023', '06', '03', '48', 'Religiously', 'Bailey Zimmerman', '40', '40', '3'), ('2023', '06', '03', '49', 'Cruel Summer', 'Taylor Swift', '-', '29', '3'), ('2023', '06', '03', '50', 'Just Wanna Rock', 'Lil Uzi Vert', '43', '10', '32'), ('2023', '06', '03', '51', 'Daylight', 'David Kushner', '52', '47', '6'), ('2023', '06', '03', '52', 'See You Again', 'Tyler, The Creator Featuring Kali Uchis', '46', '44', '6'), ('2023', '06', '03', '53', 'TQG', 'Karol G x Shakira', '49', '7', '13'), ('2023', '06', '03', '54', 'Say Yes To Heaven', 'Lana Del Rey', '-', '54', '1'), ('2023', '06', '03', '55', 'Slut Me Out', 'NLE Choppa', '51', '28', '10'), ('2023', '06', '03', '56', 'El Azul', 'Junior H x Peso Pluma', '55', '55', '7'), ('2023', '06', '03', '57', 'Memory Lane', 'Old Dominion', '63', '57', '8'), ('2023', '06', '03', '58', 'AMG', 'Gabito Ballesteros, Peso Pluma & Natanael Cano', '54', '37', '18'), ('2023', '06', '03', '59', 'Mathematical Disrespect', 'Lil Mabu', '47', '47', '3'), ('2023', '06', '03', '60', 'Chanel', 'Becky G & Peso Pluma', '60', '55', '6'), ('2023', '06', '03', '61', 'Human', 'Cody Johnson', '61', '61', '17'), ('2023', '06', '03', '62', 'It Matters To Her', 'Scotty McCreery', '65', '62', '6'), ('2023', '06', '03', '63', 'To Summer, From Cole (Audio Hug)', 'Summer Walker & J. Cole', '-', '63', '1'), ('2023', '06', '03', '64', 'Waffle House', 'Jonas Brothers', '57', '57', '4'), ('2023', '06', '03', '65', 'Angel, Pt. 1', 'Kodak Black, NLE Choppa, Jimin, JVKE & Muni Long', '-', '65', '1'), ('2023', '06', '03', '66', 'Cowgirls', 'Morgan Wallen Featuring ERNEST', '67', '40', '12'), ('2023', '06', '03', '67', 'ICU', 'Coco Jones', '64', '63', '10'), ('2023', '06', '03', '68', 'Fight The Feeling', 'Rod Wave', '70', '16', '8'), ('2023', '06', '03', '69', 'Shake Sumn', 'DaBaby', '74', '69', '3'), ('2023', '06', '03', '70', 'Fragil', 'Yahritza y Su Esencia x Grupo Frontera', '69', '69', '5'), ('2023', '06', '03', '71', 'El Gordo Trae El Mando', 'Chino Pacas', '72', '58', '10'), ('2023', '06', '03', '72', \"Ain't That Some\", 'Morgan Wallen', '68', '11', '12'), ('2023', '06', '03', '73', 'Double Fantasy', 'The Weeknd Featuring Future', '58', '18', '5'), ('2023', '06', '03', '74', 'Low Down', 'Lil Baby', '71', '50', '10'), ('2023', '06', '03', '75', 'What It Is (Block Boy)', 'Doechii Featuring Kodak Black', '80', '75', '3'), ('2023', '06', '03', '76', 'Go Hard', 'Lil Baby', '81', '59', '3'), ('2023', '06', '03', '77', 'Beso', 'Rosalia & Rauw Alejandro', '77', '52', '9'), ('2023', '06', '03', '78', 'Nonsense', 'Sabrina Carpenter', '59', '56', '19'), ('2023', '06', '03', '79', 'Trance', 'Metro Boomin, Travis Scott & Young Thug', '76', '42', '16'), ('2023', '06', '03', '80', 'Moonlight', 'Kali Uchis', '83', '80', '7'), ('2023', '06', '03', '81', 'Yandel 150', 'Yandel & Feid', '75', '71', '15'), ('2023', '06', '03', '82', 'You, Me, & Whiskey', 'Justin Moore & Priscilla Block', '91', '82', '3'), ('2023', '06', '03', '83', 'Red Ruby Da Sleeze', 'Nicki Minaj', '73', '13', '12'), ('2023', '06', '03', '84', 'I Wrote The Book', 'Morgan Wallen', '79', '18', '17'), ('2023', '06', '03', '85', 'Life Goes On', 'Ed Sheeran Featuring Luke Combs', '66', '66', '2'), ('2023', '06', '03', '86', 'Ch y La Pizza', 'Fuerza Regida X Natanael Cano', '88', '68', '9'), ('2023', '06', '03', '87', 'You', 'Dan + Shay', '-', '87', '1'), ('2023', '06', '03', '88', 'Man Made A Bar', 'Morgan Wallen Featuring Eric Church', '86', '15', '12'), ('2023', '06', '03', '89', 'Your Heart Or Mine', 'Jon Pardi', '95', '89', '2'), ('2023', '06', '03', '90', 'Jaded', 'Miley Cyrus', '-', '56', '3'), ('2023', '06', '03', '91', 'Everything I Love', 'Morgan Wallen', '82', '14', '17'), ('2023', '06', '03', '92', 'People', 'Libianca', '89', '89', '4'), ('2023', '06', '03', '93', 'Painting Pictures', 'Superstar Pride', '78', '25', '15'), ('2023', '06', '03', '94', 'Bury Me In Georgia', 'Kane Brown', '85', '85', '2'), ('2023', '06', '03', '95', 'Igualito A Mi Apa', 'Fuerza Regida & Peso Pluma', '90', '80', '6'), ('2023', '06', '03', '96', \"Baby Don't Hurt Me\", 'David Guetta, Anne-Marie & Coi Leray', '-', '96', '1'), ('2023', '06', '03', '97', 'Wreckage', 'Nate Smith', '-', '69', '3'), ('2023', '06', '03', '98', 'Private Landing', 'Don Toliver Featuring Justin Bieber & Future', '97', '72', '7'), ('2023', '06', '03', '99', 'In Ha Mood', 'Ice Spice', '93', '58', '16'), ('2023', '06', '03', '100', 'Forever', 'Lil Baby Featuring Fridayy', '96', '8', '20'), ('2023', '12', '02', '1', 'Lovin On Me', 'Jack Harlow', '2', '1', '2'), ('2023', '12', '02', '2', 'Cruel Summer', 'Taylor Swift', '1', '1', '29'), ('2023', '12', '02', '3', 'Paint The Town Red', 'Doja Cat', '3', '1', '16'), ('2023', '12', '02', '4', 'All I Want For Christmas Is You', 'Mariah Carey', '17', '1', '60'), ('2023', '12', '02', '5', 'Snooze', 'SZA', '4', '2', '50'), ('2023', '12', '02', '6', 'I Remember Everything', 'Zach Bryan Featuring Kacey Musgraves', '6', '1', '13'), ('2023', '12', '02', '7', 'Greedy', 'Tate McRae', '8', '7', '10'), ('2023', '12', '02', '8', \"Rockin' Around The Christmas Tree\", 'Brenda Lee', '-', '2', '53'), ('2023', '12', '02', '9', \"Is It Over Now? (Taylor's Version) [From The Vault]\", 'Taylor Swift', '5', '1', '4'), ('2023', '12', '02', '10', 'Water', 'Tyla', '15', '10', '8'), ('2023', '12', '02', '11', 'You Broke My Heart', 'Drake', '-', '11', '1'), ('2023', '12', '02', '12', 'Jingle Bell Rock', 'Bobby Helms', '38', '3', '51'), ('2023', '12', '02', '13', 'Last Christmas', 'Wham!', '32', '4', '33'), ('2023', '12', '02', '14', 'Last Night', 'Morgan Wallen', '9', '1', '43'), ('2023', '12', '02', '15', \"Thinkin' Bout Me\", 'Morgan Wallen', '10', '7', '38'), ('2023', '12', '02', '16', 'A Holly Jolly Christmas', 'Burl Ives', '44', '4', '34'), ('2023', '12', '02', '17', 'First Person Shooter', 'Drake Featuring J. Cole', '25', '1', '7'), ('2023', '12', '02', '18', 'Fast Car', 'Luke Combs', '7', '2', '35'), ('2023', '12', '02', '19', 'Agora Hills', 'Doja Cat', '14', '14', '9'), ('2023', '12', '02', '20', 'Rich Baby Daddy', 'Drake Featuring Sexyy Red & SZA', '16', '11', '7'), ('2023', '12', '02', '21', 'Need A Favor', 'Jelly Roll', '13', '13', '34'), ('2023', '12', '02', '22', 'Save Me', 'Jelly Roll With Lainey Wilson', '19', '19', '23'), ('2023', '12', '02', '23', 'Vampire', 'Olivia Rodrigo', '21', '1', '21'), ('2023', '12', '02', '24', 'Lil Boo Thang', 'Paul Russell', '23', '23', '10'), ('2023', '12', '02', '25', 'Fukumean', 'Gunna', '18', '4', '23'), ('2023', '12', '02', '26', 'Evil Ways', 'Drake Featuring J. Cole', '-', '26', '1'), ('2023', '12', '02', '27', 'White Horse', 'Chris Stapleton', '12', '12', '18'), ('2023', '12', '02', '28', \"It's The Most Wonderful Time Of The Year\", 'Andy Williams', '-', '5', '34'), ('2023', '12', '02', '29', 'IDGAF', 'Drake Featuring Yeat', '26', '2', '7'), ('2023', '12', '02', '30', 'Used To Be Young', 'Miley Cyrus', '22', '8', '13'), ('2023', '12', '02', '31', 'Dance The Night', 'Dua Lipa', '20', '6', '26'), ('2023', '12', '02', '32', 'Good Good', 'Usher, Summer Walker & 21 Savage', '28', '25', '15'), ('2023', '12', '02', '33', 'Houdini', 'Dua Lipa', '11', '11', '2'), ('2023', '12', '02', '34', 'Exes', 'Tate McRae', '-', '34', '1'), ('2023', '12', '02', '35', 'Let It Snow, Let It Snow, Let It Snow!', 'Dean Martin', '-', '8', '26'), ('2023', '12', '02', '36', 'What Was I Made For?', 'Billie Eilish', '27', '14', '19'), ('2023', '12', '02', '37', 'Stick Season', 'Noah Kahan', '31', '31', '8'), ('2023', '12', '02', '38', 'Monaco', 'Bad Bunny', '24', '5', '6'), ('2023', '12', '02', '39', 'Feliz Navidad', 'Jose Feliciano', '-', '6', '27'), ('2023', '12', '02', '40', 'Lose Control', 'Teddy Swims', '39', '39', '15'), ('2023', '12', '02', '41', 'Dial Drunk', 'Noah Kahan With Post Malone', '34', '25', '23'), ('2023', '12', '02', '42', 'Underneath The Tree', 'Kelly Clarkson', '-', '12', '22'), ('2023', '12', '02', '43', 'The Christmas Song (Merry Christmas To You)', 'Nat \"King\" Cole', '-', '9', '39'), ('2023', '12', '02', '44', 'My Love Mine All Mine', 'Mitski', '30', '26', '9'), ('2023', '12', '02', '45', 'What It Is (Block Boy)', 'Doechii Featuring Kodak Black', '35', '29', '29'), ('2023', '12', '02', '46', 'Sleigh Ride', 'The Ronettes', '-', '10', '23'), ('2023', '12', '02', '47', 'Flowers', 'Miley Cyrus', '29', '1', '45'), ('2023', '12', '02', '48', 'Santa Tell Me', 'Ariana Grande', '-', '12', '19'), ('2023', '12', '02', '49', 'Kill Bill', 'SZA', '36', '1', '50'), ('2023', '12', '02', '50', 'Virginia Beach', 'Drake', '58', '3', '7'), ('2023', '12', '02', '51', 'Red Button', 'Drake', '-', '51', '1'), ('2023', '12', '02', '52', 'The Shoe Fits', 'Drake', '-', '52', '1'), ('2023', '12', '02', '53', 'Pretty Little Poison', 'Warren Zeiders', '46', '46', '11'), ('2023', '12', '02', '54', 'I Know ?', 'Travis Scott', '42', '11', '17'), ('2023', '12', '02', '55', 'World On Fire', 'Nate Smith', '47', '47', '4'), ('2023', '12', '02', '56', \"Now That We Don't Talk (Taylor's Version) [From The Vault]\", 'Taylor Swift', '33', '2', '4'), ('2023', '12', '02', '57', 'Harley Quinn', 'Fuerza Regida & Marshmello', '40', '40', '3'), ('2023', '12', '02', '58', 'Stories About My Brother', 'Drake', '-', '58', '1'), ('2023', '12', '02', '59', 'On My Mama', 'Victoria Monet', '48', '48', '10'), ('2023', '12', '02', '60', 'Wild Ones', 'Jessie Murph & Jelly Roll', '43', '42', '7'), ('2023', '12', '02', '61', \"Can't Have Mine\", 'Dylan Scott', '57', '57', '8'), ('2023', '12', '02', '62', '500lbs', 'Lil Tecca', '51', '51', '9'), ('2023', '12', '02', '63', \"Can't Catch Me Now\", 'Olivia Rodrigo', '81', '56', '3'), ('2023', '12', '02', '64', 'Strangers', 'Kenya Grace', '52', '52', '10'), ('2023', '12', '02', '65', 'Great Gatsby', 'Rod Wave', '55', '30', '10'), ('2023', '12', '02', '66', 'Truck Bed', 'HARDY', '64', '55', '23'), ('2023', '12', '02', '67', 'Get Him Back!', 'Olivia Rodrigo', '56', '11', '11'), ('2023', '12', '02', '68', 'Try That In A Small Town', 'Jason Aldean', '61', '1', '19'), ('2023', '12', '02', '69', 'Everything I Love', 'Morgan Wallen', '59', '14', '39'), ('2023', '12', '02', '70', 'The Painter', 'Cody Johnson', '62', '55', '7'), ('2023', '12', '02', '71', 'Wick Man', 'Drake', '-', '71', '1'), ('2023', '12', '02', '72', 'Qlona', 'Karol G & Peso Pluma', '65', '28', '15'), ('2023', '12', '02', '73', 'Standing Next To You', 'Jung Kook', '50', '5', '3'), ('2023', '12', '02', '74', 'Slime You Out', 'Drake Featuring SZA', '73', '1', '10'), ('2023', '12', '02', '75', 'Bad Idea Right?', 'Olivia Rodrigo', '54', '7', '15'), ('2023', '12', '02', '76', \"Slut! (Taylor's Version) [From The Vault]\", 'Taylor Swift', '49', '3', '4'), ('2023', '12', '02', '77', 'Hey Driver', 'Zach Bryan Featuring The War And Treaty', '68', '14', '13'), ('2023', '12', '02', '78', 'Segun Quien', 'Maluma & Carin Leon', '74', '68', '8'), ('2023', '12', '02', '79', 'Northern Attitude', 'Noah Kahan With Hozier', '37', '37', '2'), ('2023', '12', '02', '80', 'Burn It Down', 'Parker McCollum', '78', '77', '5'), ('2023', '12', '02', '81', \"Say Don't Go (Taylor's Version) [From The Vault]\", 'Taylor Swift', '53', '5', '4'), ('2023', '12', '02', '82', 'Perro Negro', 'Bad Bunny & Feid', '67', '20', '6'), ('2023', '12', '02', '83', 'Que Onda', 'Calle 24 x Chino Pacas x Fuerza Regida', '75', '61', '8'), ('2023', '12', '02', '84', 'Where The Wild Things Are', 'Luke Combs', '-', '84', '1'), ('2023', '12', '02', '85', 'Rich Men North Of Richmond', 'Oliver Anthony Music', '70', '1', '15'), ('2023', '12', '02', '86', 'Turks & Caicos', 'Rod Wave Featuring 21 Savage', '82', '24', '10'), ('2023', '12', '02', '87', 'Save Me The Trouble', 'Dan + Shay', '88', '84', '4'), ('2023', '12', '02', '88', 'SkeeYee', 'Sexyy Red', '83', '62', '12'), ('2023', '12', '02', '89', 'LaLa', 'Myke Towers', '79', '43', '20'), ('2023', '12', '02', '90', 'I Swear, I Really Wanted To Make A \"Rap\" Album But...', 'Andre 3000', '-', '90', '1'), ('2023', '12', '02', '91', \"Style (Taylor's Version)\", 'Taylor Swift', '69', '9', '4'), ('2023', '12', '02', '92', 'El Amor de Su Vida', 'Grupo Frontera & Grupo Firme', '87', '68', '13'), ('2023', '12', '02', '93', 'Too Much', 'The Kid LAROI, Jung Kook & Central Cee', '66', '44', '5'), ('2023', '12', '02', '94', 'Meltdown', 'Travis Scott Featuring Drake', '71', '3', '17'), ('2023', '12', '02', '95', 'Surround Sound', 'JID Featuring 21 Savage & Baby Tate', '-', '90', '2'), ('2023', '12', '02', '96', \"Different 'Round Here\", 'Riley Green Featuring Luke Combs', '97', '96', '2'), ('2023', '12', '02', '97', 'Bongos', 'Cardi B & Megan Thee Stallion', '72', '14', '11'), ('2023', '12', '02', '98', 'But I Got A Beer In My Hand', 'Luke Bryan', '98', '92', '6'), ('2023', '12', '02', '99', 'Calling For You', 'Drake Featuring 21 Savage', '-', '5', '4'), ('2023', '12', '02', '100', 'Mi Ex Tenia Razon', 'Karol G', '96', '22', '14'), ('2023', '12', '09', '1', \"Rockin' Around The Christmas Tree\", 'Brenda Lee', '8', '1', '54'), ('2023', '12', '09', '2', 'All I Want For Christmas Is You', 'Mariah Carey', '4', '1', '61'), ('2023', '12', '09', '3', 'Lovin On Me', 'Jack Harlow', '1', '1', '3'), ('2023', '12', '09', '4', 'Jingle Bell Rock', 'Bobby Helms', '12', '3', '52'), ('2023', '12', '09', '5', 'Last Christmas', 'Wham!', '13', '4', '34'), ('2023', '12', '09', '6', 'A Holly Jolly Christmas', 'Burl Ives', '16', '4', '35'), ('2023', '12', '09', '7', 'Cruel Summer', 'Taylor Swift', '2', '1', '30'), ('2023', '12', '09', '8', 'Paint The Town Red', 'Doja Cat', '3', '1', '17'), ('2023', '12', '09', '9', 'Snooze', 'SZA', '5', '2', '51'), ('2023', '12', '09', '10', \"It's The Most Wonderful Time Of The Year\", 'Andy Williams', '28', '5', '35'), ('2023', '12', '09', '11', 'Greedy', 'Tate McRae', '7', '7', '11'), ('2023', '12', '09', '12', 'I Remember Everything', 'Zach Bryan Featuring Kacey Musgraves', '6', '1', '14'), ('2023', '12', '09', '13', 'Let It Snow, Let It Snow, Let It Snow!', 'Dean Martin', '35', '8', '27'), ('2023', '12', '09', '14', 'Sleigh Ride', 'The Ronettes', '46', '10', '24'), ('2023', '12', '09', '15', 'Water', 'Tyla', '10', '10', '9'), ('2023', '12', '09', '16', 'Feliz Navidad', 'Jose Feliciano', '39', '6', '28'), ('2023', '12', '09', '17', 'Underneath The Tree', 'Kelly Clarkson', '42', '12', '23'), ('2023', '12', '09', '18', 'Santa Tell Me', 'Ariana Grande', '48', '12', '20'), ('2023', '12', '09', '19', 'The Christmas Song (Merry Christmas To You)', 'Nat \"King\" Cole', '43', '9', '40'), ('2023', '12', '09', '20', 'Last Night', 'Morgan Wallen', '14', '1', '44'), ('2023', '12', '09', '21', \"Is It Over Now? (Taylor's Version) [From The Vault]\", 'Taylor Swift', '9', '1', '5'), ('2023', '12', '09', '22', \"Thinkin' Bout Me\", 'Morgan Wallen', '15', '7', '39'), ('2023', '12', '09', '23', 'White Christmas', 'Bing Crosby With Ken Darby Singers & John Scott Trotter & His Orchestra', '-', '12', '31'), ('2023', '12', '09', '24', 'Agora Hills', 'Doja Cat', '19', '14', '10'), ('2023', '12', '09', '25', 'Fast Car', 'Luke Combs', '18', '2', '36'), ('2023', '12', '09', '26', 'Rudolph The Red-Nosed Reindeer', 'Gene Autry & The Pinafores', '-', '16', '23'), ('2023', '12', '09', '27', 'Christmas (Baby Please Come Home)', 'Darlene Love', '-', '15', '18'), ('2023', '12', '09', '28', 'Deck The Halls', 'Nat King Cole', '-', '16', '9'), ('2023', '12', '09', '29', \"It's Beginning To Look A Lot Like Christmas\", 'Perry Como And The Fontane Sisters With Mitchell Ayres And His Orchestra', '-', '12', '19'), ('2023', '12', '09', '30', 'Jingle Bells', 'Frank Sinatra With The Orchestra & Chorus Of Gordon Jenkins', '-', '20', '10'), ('2023', '12', '09', '31', \"It's Beginning To Look A Lot Like Christmas\", 'Michael Buble', '-', '20', '16'), ('2023', '12', '09', '32', 'Blue Christmas', 'Elvis Presley', '-', '24', '9'), ('2023', '12', '09', '33', 'Rich Baby Daddy', 'Drake Featuring Sexyy Red & SZA', '20', '11', '8'), ('2023', '12', '09', '34', 'First Person Shooter', 'Drake Featuring J. Cole', '17', '1', '8'), ('2023', '12', '09', '35', 'Lil Boo Thang', 'Paul Russell', '24', '23', '11'), ('2023', '12', '09', '36', 'Need A Favor', 'Jelly Roll', '21', '13', '35'), ('2023', '12', '09', '37', 'Vampire', 'Olivia Rodrigo', '23', '1', '22'), ('2023', '12', '09', '38', 'Save Me', 'Jelly Roll With Lainey Wilson', '22', '19', '24'), ('2023', '12', '09', '39', 'Fukumean', 'Gunna', '25', '4', '24'), ('2023', '12', '09', '40', 'Here Comes Santa Claus (Right Down Santa Claus Lane)', 'Gene Autry', '-', '25', '16'), ('2023', '12', '09', '41', 'Used To Be Young', 'Miley Cyrus', '30', '8', '14'), ('2023', '12', '09', '42', 'Run Rudolph Run', 'Chuck Berry', '-', '10', '18'), ('2023', '12', '09', '43', \"You're A Mean One, Mr. Grinch\", 'Thurl Ravenscroft', '-', '31', '8'), ('2023', '12', '09', '44', \"Santa Claus Is Comin' To Town\", 'Jackson 5', '-', '33', '7'), ('2023', '12', '09', '45', 'What Was I Made For?', 'Billie Eilish', '36', '14', '20'), ('2023', '12', '09', '46', \"You're Losing Me (From The Vault)\", 'Taylor Swift', '-', '46', '1'), ('2023', '12', '09', '47', 'Happy Holiday / The Holiday Season', 'Andy Williams', '-', '18', '16'), ('2023', '12', '09', '48', 'Good Good', 'Usher, Summer Walker & 21 Savage', '32', '25', '16'), ('2023', '12', '09', '49', 'Wonderful Christmastime', 'Paul McCartney', '-', '28', '9'), ('2023', '12', '09', '50', 'White Horse', 'Chris Stapleton', '27', '12', '19'), ('2023', '12', '09', '51', 'Stick Season', 'Noah Kahan', '37', '31', '9'), ('2023', '12', '09', '52', 'Houdini', 'Dua Lipa', '33', '11', '3'), ('2023', '12', '09', '53', 'My Love Mine All Mine', 'Mitski', '44', '26', '10'), ('2023', '12', '09', '54', 'Lose Control', 'Teddy Swims', '40', '39', '16'), ('2023', '12', '09', '55', 'IDGAF', 'Drake Featuring Yeat', '29', '2', '8'), ('2023', '12', '09', '56', 'Monaco', 'Bad Bunny', '38', '5', '7'), ('2023', '12', '09', '57', 'I Know ?', 'Travis Scott', '54', '11', '18'), ('2023', '12', '09', '58', 'You Broke My Heart', 'Drake', '11', '11', '2'), ('2023', '12', '09', '59', \"Can't Catch Me Now\", 'Olivia Rodrigo', '63', '56', '4'), ('2023', '12', '09', '60', 'World On Fire', 'Nate Smith', '55', '47', '5'), ('2023', '12', '09', '61', 'On My Mama', 'Victoria Monet', '59', '48', '11'), ('2023', '12', '09', '62', 'Pretty Little Poison', 'Warren Zeiders', '53', '46', '12'), ('2023', '12', '09', '63', 'Exes', 'Tate McRae', '34', '34', '2'), ('2023', '12', '09', '64', '500lbs', 'Lil Tecca', '62', '51', '10'), ('2023', '12', '09', '65', 'Harley Quinn', 'Fuerza Regida & Marshmello', '57', '40', '4'), ('2023', '12', '09', '66', 'Strangers', 'Kenya Grace', '64', '52', '11'), ('2023', '12', '09', '67', \"Can't Have Mine\", 'Dylan Scott', '61', '57', '9'), ('2023', '12', '09', '68', 'Get Him Back!', 'Olivia Rodrigo', '67', '11', '12'), ('2023', '12', '09', '69', 'Wild Ones', 'Jessie Murph & Jelly Roll', '60', '42', '8'), ('2023', '12', '09', '70', 'Everything I Love', 'Morgan Wallen', '69', '14', '40'), ('2023', '12', '09', '71', 'Truck Bed', 'HARDY', '66', '55', '24'), ('2023', '12', '09', '72', '3D', 'Jung Kook & Jack Harlow', '-', '5', '8'), ('2023', '12', '09', '73', 'Virginia Beach', 'Drake', '50', '3', '8'), ('2023', '12', '09', '74', \"Now That We Don't Talk (Taylor's Version) [From The Vault]\", 'Taylor Swift', '56', '2', '5'), ('2023', '12', '09', '75', 'Great Gatsby', 'Rod Wave', '65', '30', '11'), ('2023', '12', '09', '76', 'The Painter', 'Cody Johnson', '70', '55', '8'), ('2023', '12', '09', '77', 'Surround Sound', 'JID Featuring 21 Savage & Baby Tate', '95', '77', '3'), ('2023', '12', '09', '78', 'Qlona', 'Karol G & Peso Pluma', '72', '28', '16'), ('2023', '12', '09', '79', 'Try That In A Small Town', 'Jason Aldean', '68', '1', '20'), ('2023', '12', '09', '80', 'Standing Next To You', 'Jung Kook', '73', '5', '4'), ('2023', '12', '09', '81', 'Segun Quien', 'Maluma & Carin Leon', '78', '68', '9'), ('2023', '12', '09', '82', 'Burn It Down', 'Parker McCollum', '80', '77', '6'), ('2023', '12', '09', '83', 'Que Onda', 'Calle 24 x Chino Pacas x Fuerza Regida', '83', '61', '9'), ('2023', '12', '09', '84', 'Where The Wild Things Are', 'Luke Combs', '84', '84', '2'), ('2023', '12', '09', '85', 'Hey Driver', 'Zach Bryan Featuring The War And Treaty', '77', '14', '14'), ('2023', '12', '09', '86', 'Bad Idea Right?', 'Olivia Rodrigo', '75', '7', '16'), ('2023', '12', '09', '87', 'Northern Attitude', 'Noah Kahan With Hozier', '79', '37', '3'), ('2023', '12', '09', '88', 'Perro Negro', 'Bad Bunny & Feid', '82', '20', '7'), ('2023', '12', '09', '89', 'Save Me The Trouble', 'Dan + Shay', '87', '84', '5'), ('2023', '12', '09', '90', 'Slime You Out', 'Drake Featuring SZA', '74', '1', '11'), ('2023', '12', '09', '91', 'Turks & Caicos', 'Rod Wave Featuring 21 Savage', '86', '24', '11'), ('2023', '12', '09', '92', 'Too Much', 'The Kid LAROI, Jung Kook & Central Cee', '93', '44', '6'), ('2023', '12', '09', '93', 'Meltdown', 'Travis Scott Featuring Drake', '94', '3', '18'), ('2023', '12', '09', '94', 'El Amor de Su Vida', 'Grupo Frontera & Grupo Firme', '92', '68', '14'), ('2023', '12', '09', '95', \"Different 'Round Here\", 'Riley Green Featuring Luke Combs', '96', '95', '3'), ('2023', '12', '09', '96', 'But I Got A Beer In My Hand', 'Luke Bryan', '98', '92', '7'), ('2023', '12', '09', '97', 'Labios Mordidos', 'Kali Uchis & Karol G', '-', '97', '1'), ('2023', '12', '09', '98', \"Slut! (Taylor's Version) [From The Vault]\", 'Taylor Swift', '76', '3', '5'), ('2023', '12', '09', '99', 'Rich Men North Of Richmond', 'Oliver Anthony Music', '85', '1', '16'), ('2023', '12', '09', '100', \"Say Don't Go (Taylor's Version) [From The Vault]\", 'Taylor Swift', '81', '5', '5'), ('2023', '12', '16', '1', \"Rockin' Around The Christmas Tree\", 'Brenda Lee', '1', '1', '55'), ('2023', '12', '16', '2', 'All I Want For Christmas Is You', 'Mariah Carey', '2', '1', '62'), ('2023', '12', '16', '3', 'Jingle Bell Rock', 'Bobby Helms', '4', '3', '53'), ('2023', '12', '16', '4', 'Last Christmas', 'Wham!', '5', '4', '35'), ('2023', '12', '16', '5', 'Lovin On Me', 'Jack Harlow', '3', '1', '4'), ('2023', '12', '16', '6', 'A Holly Jolly Christmas', 'Burl Ives', '6', '4', '36'), ('2023', '12', '16', '7', 'Cruel Summer', 'Taylor Swift', '7', '1', '31'), ('2023', '12', '16', '8', \"It's The Most Wonderful Time Of The Year\", 'Andy Williams', '10', '5', '36'), ('2023', '12', '16', '9', 'Snooze', 'SZA', '9', '2', '52'), ('2023', '12', '16', '10', 'Paint The Town Red', 'Doja Cat', '8', '1', '18'), ('2023', '12', '16', '11', 'Feliz Navidad', 'Jose Feliciano', '16', '6', '29'), ('2023', '12', '16', '12', 'Let It Snow, Let It Snow, Let It Snow!', 'Dean Martin', '13', '8', '28'), ('2023', '12', '16', '13', 'Underneath The Tree', 'Kelly Clarkson', '17', '12', '24'), ('2023', '12', '16', '14', 'Sleigh Ride', 'The Ronettes', '14', '10', '25'), ('2023', '12', '16', '15', 'The Christmas Song (Merry Christmas To You)', 'Nat \"King\" Cole', '19', '9', '41'), ('2023', '12', '16', '16', 'Greedy', 'Tate McRae', '11', '7', '12'), ('2023', '12', '16', '17', 'Santa Tell Me', 'Ariana Grande', '18', '12', '21'), ('2023', '12', '16', '18', 'White Christmas', 'Bing Crosby With Ken Darby Singers & John Scott Trotter & His Orchestra', '23', '12', '32'), ('2023', '12', '16', '19', 'I Remember Everything', 'Zach Bryan Featuring Kacey Musgraves', '12', '1', '15'), ('2023', '12', '16', '20', 'Water', 'Tyla', '15', '10', '10'), ('2023', '12', '16', '21', 'Christmas (Baby Please Come Home)', 'Darlene Love', '27', '15', '19'), ('2023', '12', '16', '22', 'Last Night', 'Morgan Wallen', '20', '1', '45'), ('2023', '12', '16', '23', 'Deck The Halls', 'Nat King Cole', '28', '16', '10'), ('2023', '12', '16', '24', 'Blue Christmas', 'Elvis Presley', '32', '24', '10'), ('2023', '12', '16', '25', \"It's Beginning To Look A Lot Like Christmas\", 'Michael Buble', '31', '20', '17'), ('2023', '12', '16', '26', \"Thinkin' Bout Me\", 'Morgan Wallen', '22', '7', '40'), ('2023', '12', '16', '27', \"You're Losing Me (From The Vault)\", 'Taylor Swift', '46', '27', '2'), ('2023', '12', '16', '28', 'Jingle Bells', 'Frank Sinatra With The Orchestra & Chorus Of Gordon Jenkins', '30', '20', '11'), ('2023', '12', '16', '29', 'Agora Hills', 'Doja Cat', '24', '14', '11'), ('2023', '12', '16', '30', \"Is It Over Now? (Taylor's Version) [From The Vault]\", 'Taylor Swift', '21', '1', '6'), ('2023', '12', '16', '31', 'Here Comes Santa Claus (Right Down Santa Claus Lane)', 'Gene Autry', '40', '25', '17'), ('2023', '12', '16', '32', 'Fast Car', 'Luke Combs', '25', '2', '37'), ('2023', '12', '16', '33', 'Rudolph The Red-Nosed Reindeer', 'Gene Autry & The Pinafores', '26', '16', '24'), ('2023', '12', '16', '34', \"Santa Claus Is Comin' To Town\", 'Jackson 5', '44', '33', '8'), ('2023', '12', '16', '35', 'Run Rudolph Run', 'Chuck Berry', '42', '10', '19'), ('2023', '12', '16', '36', \"You're A Mean One, Mr. Grinch\", 'Thurl Ravenscroft', '43', '31', '9'), ('2023', '12', '16', '37', 'Fukumean', 'Gunna', '39', '4', '25'), ('2023', '12', '16', '38', 'Lil Boo Thang', 'Paul Russell', '35', '23', '12'), ('2023', '12', '16', '39', 'Rich Baby Daddy', 'Drake Featuring Sexyy Red & SZA', '33', '11', '9'), ('2023', '12', '16', '40', 'Need A Favor', 'Jelly Roll', '36', '13', '36'), ('2023', '12', '16', '41', 'First Person Shooter', 'Drake Featuring J. Cole', '34', '1', '9'), ('2023', '12', '16', '42', 'Save Me', 'Jelly Roll With Lainey Wilson', '38', '19', '25'), ('2023', '12', '16', '43', 'Santa Baby', 'Eartha Kitt With Henri Rene And His Orchestra', '-', '35', '6'), ('2023', '12', '16', '44', 'Stick Season', 'Noah Kahan', '51', '31', '10'), ('2023', '12', '16', '45', 'Vampire', 'Olivia Rodrigo', '37', '1', '23'), ('2023', '12', '16', '46', 'Used To Be Young', 'Miley Cyrus', '41', '8', '15'), ('2023', '12', '16', '47', 'Wonderful Christmastime', 'Paul McCartney', '49', '28', '10'), ('2023', '12', '16', '48', \"It's Beginning To Look A Lot Like Christmas\", 'Perry Como And The Fontane Sisters With Mitchell Ayres And His Orchestra', '29', '12', '20'), ('2023', '12', '16', '49', 'What Was I Made For?', 'Billie Eilish', '45', '14', '21'), ('2023', '12', '16', '50', 'Little Saint Nick', 'The Beach Boys', '-', '29', '5'), ('2023', '12', '16', '51', 'Houdini', 'Dua Lipa', '52', '11', '4'), ('2023', '12', '16', '52', 'Lose Control', 'Teddy Swims', '54', '39', '17'), ('2023', '12', '16', '53', 'White Horse', 'Chris Stapleton', '50', '12', '20'), ('2023', '12', '16', '54', 'Good Good', 'Usher, Summer Walker & 21 Savage', '48', '25', '17'), ('2023', '12', '16', '55', 'My Love Mine All Mine', 'Mitski', '53', '26', '11'), ('2023', '12', '16', '56', 'IDGAF', 'Drake Featuring Yeat', '55', '2', '9'), ('2023', '12', '16', '57', 'My House', 'Beyonce', '-', '57', '1'), ('2023', '12', '16', '58', 'I Know ?', 'Travis Scott', '57', '11', '19'), ('2023', '12', '16', '59', 'Monaco', 'Bad Bunny', '56', '5', '8'), ('2023', '12', '16', '60', 'World On Fire', 'Nate Smith', '60', '47', '6'), ('2023', '12', '16', '61', 'On My Mama', 'Victoria Monet', '61', '48', '12'), ('2023', '12', '16', '62', 'Pretty Little Poison', 'Warren Zeiders', '62', '46', '13'), ('2023', '12', '16', '63', 'Harley Quinn', 'Fuerza Regida & Marshmello', '65', '40', '5'), ('2023', '12', '16', '64', 'Surround Sound', 'JID Featuring 21 Savage & Baby Tate', '77', '64', '4'), ('2023', '12', '16', '65', '500lbs', 'Lil Tecca', '64', '51', '11'), ('2023', '12', '16', '66', 'You Broke My Heart', 'Drake', '58', '11', '3'), ('2023', '12', '16', '67', \"Can't Catch Me Now\", 'Olivia Rodrigo', '59', '56', '5'), ('2023', '12', '16', '68', 'Strangers', 'Kenya Grace', '66', '52', '12'), ('2023', '12', '16', '69', 'Wild Ones', 'Jessie Murph & Jelly Roll', '69', '42', '9'), ('2023', '12', '16', '70', 'Get Him Back!', 'Olivia Rodrigo', '68', '11', '13'), ('2023', '12', '16', '71', 'Exes', 'Tate McRae', '63', '34', '3'), ('2023', '12', '16', '72', 'Standing Next To You', 'Jung Kook', '80', '5', '5'), ('2023', '12', '16', '73', 'Everything I Love', 'Morgan Wallen', '70', '14', '41'), ('2023', '12', '16', '74', 'Truck Bed', 'HARDY', '71', '55', '25'), ('2023', '12', '16', '75', 'Qlona', 'Karol G & Peso Pluma', '78', '28', '17'), ('2023', '12', '16', '76', 'Segun Quien', 'Maluma & Carin Leon', '81', '68', '10'), ('2023', '12', '16', '77', 'The Painter', 'Cody Johnson', '76', '55', '9'), ('2023', '12', '16', '78', 'Virginia Beach', 'Drake', '73', '3', '9'), ('2023', '12', '16', '79', 'Everywhere, Everything', 'Noah Kahan With Gracie Abrams', '-', '79', '1'), ('2023', '12', '16', '80', 'Great Gatsby', 'Rod Wave', '75', '30', '12'), ('2023', '12', '16', '81', \"Can't Have Mine\", 'Dylan Scott', '67', '57', '10'), ('2023', '12', '16', '82', 'Que Onda', 'Calle 24 x Chino Pacas x Fuerza Regida', '83', '61', '10'), ('2023', '12', '16', '83', 'Where The Wild Things Are', 'Luke Combs', '84', '83', '3'), ('2023', '12', '16', '84', \"Now That We Don't Talk (Taylor's Version) [From The Vault]\", 'Taylor Swift', '74', '2', '6'), ('2023', '12', '16', '85', 'Burn It Down', 'Parker McCollum', '82', '77', '7'), ('2023', '12', '16', '86', 'Hey Driver', 'Zach Bryan Featuring The War And Treaty', '85', '14', '15'), ('2023', '12', '16', '87', 'Northern Attitude', 'Noah Kahan With Hozier', '87', '37', '4'), ('2023', '12', '16', '88', 'Save Me The Trouble', 'Dan + Shay', '89', '84', '6'), ('2023', '12', '16', '89', 'Perro Negro', 'Bad Bunny & Feid', '88', '20', '8'), ('2023', '12', '16', '90', 'El Amor de Su Vida', 'Grupo Frontera & Grupo Firme', '94', '68', '15'), ('2023', '12', '16', '91', 'But I Got A Beer In My Hand', 'Luke Bryan', '96', '91', '8'), ('2023', '12', '16', '92', '3D', 'Jung Kook & Jack Harlow', '72', '5', '9'), ('2023', '12', '16', '93', 'Mmhmm', 'BigXthaPlug', '-', '93', '1'), ('2023', '12', '16', '94', 'Meltdown', 'Travis Scott Featuring Drake', '93', '3', '19'), ('2023', '12', '16', '95', 'Bad Idea Right?', 'Olivia Rodrigo', '86', '7', '17'), ('2023', '12', '16', '96', 'Slime You Out', 'Drake Featuring SZA', '90', '1', '12'), ('2023', '12', '16', '97', 'Rich Men North Of Richmond', 'Oliver Anthony Music', '99', '1', '17'), ('2023', '12', '16', '98', 'Soak City', '310babii', '-', '98', '2'), ('2023', '12', '16', '99', 'Turks & Caicos', 'Rod Wave Featuring 21 Savage', '91', '24', '12'), ('2023', '12', '16', '100', 'Feather', 'Sabrina Carpenter', '-', '100', '1')]\n"
          ]
        }
      ],
      "source": [
        "# Scraping the charts\n",
        "chart = []\n",
        "\n",
        "for date_str in saturdays:\n",
        "    url = f'https://www.billboard.com/charts/hot-100/{date_str}/'\n",
        "    webpage_response = requests.get(url)\n",
        "    webpage = webpage_response.content\n",
        "    soup = BeautifulSoup(webpage, 'html.parser')\n",
        "\n",
        "    # Extract titles\n",
        "    title1 = soup.find_all(class_='c-title a-no-trucate a-font-primary-bold-s u-letter-spacing-0021 u-font-size-23@tablet lrv-u-font-size-16 u-line-height-125 u-line-height-normal@mobile-max a-truncate-ellipsis u-max-width-245 u-max-width-230@tablet-only u-letter-spacing-0028@tablet')\n",
        "    title2 = soup.find_all(class_='c-title a-no-trucate a-font-primary-bold-s u-letter-spacing-0021 lrv-u-font-size-18@tablet lrv-u-font-size-16 u-line-height-125 u-line-height-normal@mobile-max a-truncate-ellipsis u-max-width-330 u-max-width-230@tablet-only')\n",
        "    titles_combined = title1 + title2\n",
        "    titles = [t.get_text(strip=True) for t in titles_combined]\n",
        "\n",
        "    # Extract ranks\n",
        "    rank = soup.find_all(class_='c-label a-font-primary-bold-l u-font-size-32@tablet u-letter-spacing-0080@tablet')\n",
        "    ranks = [r.get_text(strip=True) for r in rank]\n",
        "\n",
        "    # Extract singers\n",
        "    singer1 = soup.find_all(class_='c-label a-no-trucate a-font-primary-s lrv-u-font-size-14@mobile-max u-line-height-normal@mobile-max u-letter-spacing-0021 lrv-u-display-block a-truncate-ellipsis-2line u-max-width-330 u-max-width-230@tablet-only u-font-size-20@tablet')\n",
        "    singer2 = soup.find_all(class_='c-label a-no-trucate a-font-primary-s lrv-u-font-size-14@mobile-max u-line-height-normal@mobile-max u-letter-spacing-0021 lrv-u-display-block a-truncate-ellipsis-2line u-max-width-330 u-max-width-230@tablet-only')\n",
        "    singer_combined = singer1 + singer2\n",
        "    singers = [s.get_text(strip=True) for s in singer_combined]\n",
        "\n",
        "    # Extract last week's positions and total weeks\n",
        "    last_week_and_total_weeks = soup.find_all(class_='o-chart-results-list__item // a-chart-color u-width-72 u-width-55@mobile-max u-width-55@tablet-only lrv-u-flex lrv-u-flex-shrink-0 lrv-u-align-items-center lrv-u-justify-content-center lrv-u-border-b-1 u-border-b-0@mobile-max lrv-u-border-color-grey-light u-background-color-white-064@mobile-max u-hidden@mobile-max')\n",
        "    last_week_and_total_weeks_combined = [lp.get_text(strip=True) for lp in last_week_and_total_weeks]\n",
        "    last_week_positions = last_week_and_total_weeks_combined[0::2]\n",
        "    total_weeks = last_week_and_total_weeks_combined[1::2]\n",
        "\n",
        "    # Extract peak positions\n",
        "    peak_position = soup.find_all(class_='o-chart-results-list__item // a-chart-bg-color a-chart-color u-width-72 u-width-55@mobile-max u-width-55@tablet-only lrv-u-flex lrv-u-flex-shrink-0 lrv-u-align-items-center lrv-u-justify-content-center lrv-u-background-color-grey-lightest lrv-u-border-b-1 u-border-b-0@mobile-max lrv-u-border-color-grey-light u-hidden@mobile-max')\n",
        "    peak_positions = [pp.get_text(strip=True) for pp in peak_position]\n",
        "    peak_positions_adjusted = peak_positions[1::2]\n",
        "\n",
        "    # Combine all data into the chart list\n",
        "    for t, r, s, l, p, tw in zip(titles, ranks, singers, last_week_positions, peak_positions_adjusted, total_weeks):\n",
        "        date = datetime.strptime(date_str, '%Y-%m-%d')  # Convert date string back to datetime\n",
        "        month = date.strftime(\"%m\")  # Extract the month\n",
        "        day = date.strftime(\"%d\")  # Extract the dau\n",
        "        year = date.strftime(\"%Y\")  # Extract the year\n",
        "        chart.append((year, month, day, r, t, s, l, p, tw))\n",
        "        \n",
        "    time.sleep(1)\n",
        "\n",
        "# Print the final chart\n",
        "print(chart)"
      ]
    },
    {
      "cell_type": "code",
      "execution_count": 106,
      "metadata": {
        "colab": {
          "base_uri": "https://localhost:8080/",
          "height": 89
        },
        "id": "yFqmnEbo0JZS",
        "outputId": "a1d0346e-9f1c-41b5-a16b-be4aab952def"
      },
      "outputs": [
        {
          "data": {
            "text/html": [
              "<div>\n",
              "<style scoped>\n",
              "    .dataframe tbody tr th:only-of-type {\n",
              "        vertical-align: middle;\n",
              "    }\n",
              "\n",
              "    .dataframe tbody tr th {\n",
              "        vertical-align: top;\n",
              "    }\n",
              "\n",
              "    .dataframe thead th {\n",
              "        text-align: right;\n",
              "    }\n",
              "</style>\n",
              "<table border=\"1\" class=\"dataframe\">\n",
              "  <thead>\n",
              "    <tr style=\"text-align: right;\">\n",
              "      <th></th>\n",
              "      <th>Year</th>\n",
              "      <th>Month</th>\n",
              "      <th>Day</th>\n",
              "      <th>Rank</th>\n",
              "      <th>Title</th>\n",
              "      <th>Singer(s)</th>\n",
              "      <th>Last Week Position</th>\n",
              "      <th>Peak Position</th>\n",
              "      <th>Weeks on Chart</th>\n",
              "    </tr>\n",
              "  </thead>\n",
              "  <tbody>\n",
              "    <tr>\n",
              "      <th>0</th>\n",
              "      <td>2019</td>\n",
              "      <td>05</td>\n",
              "      <td>18</td>\n",
              "      <td>1</td>\n",
              "      <td>Old Town Road</td>\n",
              "      <td>Lil Nas X Featuring Billy Ray Cyrus</td>\n",
              "      <td>1.0</td>\n",
              "      <td>1</td>\n",
              "      <td>10</td>\n",
              "    </tr>\n",
              "    <tr>\n",
              "      <th>1</th>\n",
              "      <td>2019</td>\n",
              "      <td>05</td>\n",
              "      <td>18</td>\n",
              "      <td>2</td>\n",
              "      <td>If I Can't Have You</td>\n",
              "      <td>Shawn Mendes</td>\n",
              "      <td>NaN</td>\n",
              "      <td>2</td>\n",
              "      <td>1</td>\n",
              "    </tr>\n",
              "    <tr>\n",
              "      <th>2</th>\n",
              "      <td>2019</td>\n",
              "      <td>05</td>\n",
              "      <td>18</td>\n",
              "      <td>3</td>\n",
              "      <td>ME!</td>\n",
              "      <td>Taylor Swift Featuring Brendon Urie</td>\n",
              "      <td>2.0</td>\n",
              "      <td>2</td>\n",
              "      <td>3</td>\n",
              "    </tr>\n",
              "    <tr>\n",
              "      <th>3</th>\n",
              "      <td>2019</td>\n",
              "      <td>05</td>\n",
              "      <td>18</td>\n",
              "      <td>4</td>\n",
              "      <td>Sucker</td>\n",
              "      <td>Jonas Brothers</td>\n",
              "      <td>4.0</td>\n",
              "      <td>1</td>\n",
              "      <td>10</td>\n",
              "    </tr>\n",
              "    <tr>\n",
              "      <th>4</th>\n",
              "      <td>2019</td>\n",
              "      <td>05</td>\n",
              "      <td>18</td>\n",
              "      <td>5</td>\n",
              "      <td>Homicide</td>\n",
              "      <td>Logic Featuring Eminem</td>\n",
              "      <td>NaN</td>\n",
              "      <td>5</td>\n",
              "      <td>1</td>\n",
              "    </tr>\n",
              "    <tr>\n",
              "      <th>...</th>\n",
              "      <td>...</td>\n",
              "      <td>...</td>\n",
              "      <td>...</td>\n",
              "      <td>...</td>\n",
              "      <td>...</td>\n",
              "      <td>...</td>\n",
              "      <td>...</td>\n",
              "      <td>...</td>\n",
              "      <td>...</td>\n",
              "    </tr>\n",
              "    <tr>\n",
              "      <th>595</th>\n",
              "      <td>2023</td>\n",
              "      <td>12</td>\n",
              "      <td>16</td>\n",
              "      <td>96</td>\n",
              "      <td>Slime You Out</td>\n",
              "      <td>Drake Featuring SZA</td>\n",
              "      <td>90.0</td>\n",
              "      <td>1</td>\n",
              "      <td>12</td>\n",
              "    </tr>\n",
              "    <tr>\n",
              "      <th>596</th>\n",
              "      <td>2023</td>\n",
              "      <td>12</td>\n",
              "      <td>16</td>\n",
              "      <td>97</td>\n",
              "      <td>Rich Men North Of Richmond</td>\n",
              "      <td>Oliver Anthony Music</td>\n",
              "      <td>99.0</td>\n",
              "      <td>1</td>\n",
              "      <td>17</td>\n",
              "    </tr>\n",
              "    <tr>\n",
              "      <th>597</th>\n",
              "      <td>2023</td>\n",
              "      <td>12</td>\n",
              "      <td>16</td>\n",
              "      <td>98</td>\n",
              "      <td>Soak City</td>\n",
              "      <td>310babii</td>\n",
              "      <td>NaN</td>\n",
              "      <td>98</td>\n",
              "      <td>2</td>\n",
              "    </tr>\n",
              "    <tr>\n",
              "      <th>598</th>\n",
              "      <td>2023</td>\n",
              "      <td>12</td>\n",
              "      <td>16</td>\n",
              "      <td>99</td>\n",
              "      <td>Turks &amp; Caicos</td>\n",
              "      <td>Rod Wave Featuring 21 Savage</td>\n",
              "      <td>91.0</td>\n",
              "      <td>24</td>\n",
              "      <td>12</td>\n",
              "    </tr>\n",
              "    <tr>\n",
              "      <th>599</th>\n",
              "      <td>2023</td>\n",
              "      <td>12</td>\n",
              "      <td>16</td>\n",
              "      <td>100</td>\n",
              "      <td>Feather</td>\n",
              "      <td>Sabrina Carpenter</td>\n",
              "      <td>NaN</td>\n",
              "      <td>100</td>\n",
              "      <td>1</td>\n",
              "    </tr>\n",
              "  </tbody>\n",
              "</table>\n",
              "<p>600 rows × 9 columns</p>\n",
              "</div>"
            ],
            "text/plain": [
              "     Year Month Day  Rank                       Title  \\\n",
              "0    2019    05  18     1               Old Town Road   \n",
              "1    2019    05  18     2         If I Can't Have You   \n",
              "2    2019    05  18     3                         ME!   \n",
              "3    2019    05  18     4                      Sucker   \n",
              "4    2019    05  18     5                    Homicide   \n",
              "..    ...   ...  ..   ...                         ...   \n",
              "595  2023    12  16    96               Slime You Out   \n",
              "596  2023    12  16    97  Rich Men North Of Richmond   \n",
              "597  2023    12  16    98                   Soak City   \n",
              "598  2023    12  16    99              Turks & Caicos   \n",
              "599  2023    12  16   100                     Feather   \n",
              "\n",
              "                               Singer(s)  Last Week Position  Peak Position  \\\n",
              "0    Lil Nas X Featuring Billy Ray Cyrus                 1.0              1   \n",
              "1                           Shawn Mendes                 NaN              2   \n",
              "2    Taylor Swift Featuring Brendon Urie                 2.0              2   \n",
              "3                         Jonas Brothers                 4.0              1   \n",
              "4                 Logic Featuring Eminem                 NaN              5   \n",
              "..                                   ...                 ...            ...   \n",
              "595                  Drake Featuring SZA                90.0              1   \n",
              "596                 Oliver Anthony Music                99.0              1   \n",
              "597                             310babii                 NaN             98   \n",
              "598         Rod Wave Featuring 21 Savage                91.0             24   \n",
              "599                    Sabrina Carpenter                 NaN            100   \n",
              "\n",
              "     Weeks on Chart  \n",
              "0                10  \n",
              "1                 1  \n",
              "2                 3  \n",
              "3                10  \n",
              "4                 1  \n",
              "..              ...  \n",
              "595              12  \n",
              "596              17  \n",
              "597               2  \n",
              "598              12  \n",
              "599               1  \n",
              "\n",
              "[600 rows x 9 columns]"
            ]
          },
          "execution_count": 106,
          "metadata": {},
          "output_type": "execute_result"
        }
      ],
      "source": [
        "# Create DataFrame from chart list\n",
        "df = pd.DataFrame(chart, columns=['Year', 'Month', 'Day', 'Rank', 'Title', 'Singer(s)', 'Last Week Position', 'Peak Position', 'Weeks on Chart'])\n",
        "\n",
        "# Convert columns to numeric\n",
        "df['Rank'] = pd.to_numeric(df['Rank'])\n",
        "df['Last Week Position'] = pd.to_numeric(df['Last Week Position'], errors='coerce')\n",
        "df['Peak Position'] = pd.to_numeric(df['Peak Position'], errors='coerce')\n",
        "df['Weeks on Chart'] = pd.to_numeric(df['Weeks on Chart'], errors='coerce')\n",
        "\n",
        "# Display the DataFrame\n",
        "df"
      ]
    },
    {
      "cell_type": "markdown",
      "metadata": {},
      "source": [
        "Top 10 Songs by Accumulated Weeks at No. 1 (2019-2024)"
      ]
    },
    {
      "cell_type": "code",
      "execution_count": 107,
      "metadata": {
        "colab": {
          "base_uri": "https://localhost:8080/"
        },
        "id": "EI5SdGV8Fm-4",
        "outputId": "3c6e5ee1-30bd-4d26-8c3f-9e1e023c7060"
      },
      "outputs": [
        {
          "name": "stdout",
          "output_type": "stream",
          "text": [
            "   Year                              Title  \\\n",
            "4  2023  Rockin' Around The Christmas Tree   \n",
            "0  2019                            Circles   \n",
            "1  2019                      Old Town Road   \n",
            "2  2023                         Last Night   \n",
            "3  2023                        Lovin On Me   \n",
            "\n",
            "                             Singer(s)  Accumulated Weeks  \n",
            "4                           Brenda Lee                  2  \n",
            "0                          Post Malone                  1  \n",
            "1  Lil Nas X Featuring Billy Ray Cyrus                  1  \n",
            "2                        Morgan Wallen                  1  \n",
            "3                          Jack Harlow                  1  \n"
          ]
        }
      ],
      "source": [
        "# Filter for songs that were No. 1\n",
        "no1_songs = df[df['Rank'] == 1]\n",
        "\n",
        "# Create a new DataFrame with just the Year, Title, and Singer(s)\n",
        "# Group by Title and Singer(s) to count the weeks at No. 1\n",
        "accumulated_weeks_no1 = no1_songs.groupby(['Year', 'Title', 'Singer(s)']).size().reset_index(name='Accumulated Weeks')\n",
        "# Sort by accumulated weeks at No. 1\n",
        "accumulated_weeks_no1 = accumulated_weeks_no1.sort_values(by=['Accumulated Weeks'], ascending=False)\n",
        "# Show the top 10 songs with the most accumulated weeks at No.1\n",
        "top_10_no1 = accumulated_weeks_no1.head(10)\n",
        "\n",
        "# Display the final DataFrame\n",
        "print(top_10_no1)"
      ]
    },
    {
      "cell_type": "code",
      "execution_count": 91,
      "metadata": {
        "colab": {
          "base_uri": "https://localhost:8080/",
          "height": 542
        },
        "id": "SKxsQZqyVSuz",
        "outputId": "8c3e4a8f-efa3-4de5-c533-1d6f30cd31be"
      },
      "outputs": [
        {
          "data": {
            "application/vnd.plotly.v1+json": {
              "config": {
                "plotlyServerURL": "https://plot.ly"
              },
              "data": [
                {
                  "alignmentgroup": "True",
                  "customdata": [
                    [
                      "Brenda Lee"
                    ],
                    [
                      "Post Malone"
                    ],
                    [
                      "Lil Nas X Featuring Billy Ray Cyrus"
                    ],
                    [
                      "Morgan Wallen"
                    ],
                    [
                      "Jack Harlow"
                    ]
                  ],
                  "hovertemplate": "Title=%{x}<br>Accumulated Weeks=%{marker.color}<br>Singer(s)=%{customdata[0]}<extra></extra>",
                  "legendgroup": "",
                  "marker": {
                    "color": [
                      2,
                      1,
                      1,
                      1,
                      1
                    ],
                    "coloraxis": "coloraxis",
                    "pattern": {
                      "shape": ""
                    }
                  },
                  "name": "",
                  "offsetgroup": "",
                  "orientation": "v",
                  "showlegend": false,
                  "textposition": "auto",
                  "type": "bar",
                  "x": [
                    "Rockin' Around The Christmas Tree",
                    "Circles",
                    "Old Town Road",
                    "Last Night",
                    "Lovin On Me"
                  ],
                  "xaxis": "x",
                  "y": [
                    2,
                    1,
                    1,
                    1,
                    1
                  ],
                  "yaxis": "y"
                }
              ],
              "layout": {
                "bargap": 0.2,
                "barmode": "relative",
                "coloraxis": {
                  "colorbar": {
                    "title": {
                      "text": "Accumulated Weeks"
                    }
                  },
                  "colorscale": [
                    [
                      0,
                      "#0d0887"
                    ],
                    [
                      0.1111111111111111,
                      "#46039f"
                    ],
                    [
                      0.2222222222222222,
                      "#7201a8"
                    ],
                    [
                      0.3333333333333333,
                      "#9c179e"
                    ],
                    [
                      0.4444444444444444,
                      "#bd3786"
                    ],
                    [
                      0.5555555555555556,
                      "#d8576b"
                    ],
                    [
                      0.6666666666666666,
                      "#ed7953"
                    ],
                    [
                      0.7777777777777778,
                      "#fb9f3a"
                    ],
                    [
                      0.8888888888888888,
                      "#fdca26"
                    ],
                    [
                      1,
                      "#f0f921"
                    ]
                  ]
                },
                "hoverlabel": {
                  "font": {
                    "family": "Arial",
                    "size": 14
                  }
                },
                "legend": {
                  "tracegroupgap": 0
                },
                "template": {
                  "data": {
                    "bar": [
                      {
                        "error_x": {
                          "color": "#2a3f5f"
                        },
                        "error_y": {
                          "color": "#2a3f5f"
                        },
                        "marker": {
                          "line": {
                            "color": "#E5ECF6",
                            "width": 0.5
                          },
                          "pattern": {
                            "fillmode": "overlay",
                            "size": 10,
                            "solidity": 0.2
                          }
                        },
                        "type": "bar"
                      }
                    ],
                    "barpolar": [
                      {
                        "marker": {
                          "line": {
                            "color": "#E5ECF6",
                            "width": 0.5
                          },
                          "pattern": {
                            "fillmode": "overlay",
                            "size": 10,
                            "solidity": 0.2
                          }
                        },
                        "type": "barpolar"
                      }
                    ],
                    "carpet": [
                      {
                        "aaxis": {
                          "endlinecolor": "#2a3f5f",
                          "gridcolor": "white",
                          "linecolor": "white",
                          "minorgridcolor": "white",
                          "startlinecolor": "#2a3f5f"
                        },
                        "baxis": {
                          "endlinecolor": "#2a3f5f",
                          "gridcolor": "white",
                          "linecolor": "white",
                          "minorgridcolor": "white",
                          "startlinecolor": "#2a3f5f"
                        },
                        "type": "carpet"
                      }
                    ],
                    "choropleth": [
                      {
                        "colorbar": {
                          "outlinewidth": 0,
                          "ticks": ""
                        },
                        "type": "choropleth"
                      }
                    ],
                    "contour": [
                      {
                        "colorbar": {
                          "outlinewidth": 0,
                          "ticks": ""
                        },
                        "colorscale": [
                          [
                            0,
                            "#0d0887"
                          ],
                          [
                            0.1111111111111111,
                            "#46039f"
                          ],
                          [
                            0.2222222222222222,
                            "#7201a8"
                          ],
                          [
                            0.3333333333333333,
                            "#9c179e"
                          ],
                          [
                            0.4444444444444444,
                            "#bd3786"
                          ],
                          [
                            0.5555555555555556,
                            "#d8576b"
                          ],
                          [
                            0.6666666666666666,
                            "#ed7953"
                          ],
                          [
                            0.7777777777777778,
                            "#fb9f3a"
                          ],
                          [
                            0.8888888888888888,
                            "#fdca26"
                          ],
                          [
                            1,
                            "#f0f921"
                          ]
                        ],
                        "type": "contour"
                      }
                    ],
                    "contourcarpet": [
                      {
                        "colorbar": {
                          "outlinewidth": 0,
                          "ticks": ""
                        },
                        "type": "contourcarpet"
                      }
                    ],
                    "heatmap": [
                      {
                        "colorbar": {
                          "outlinewidth": 0,
                          "ticks": ""
                        },
                        "colorscale": [
                          [
                            0,
                            "#0d0887"
                          ],
                          [
                            0.1111111111111111,
                            "#46039f"
                          ],
                          [
                            0.2222222222222222,
                            "#7201a8"
                          ],
                          [
                            0.3333333333333333,
                            "#9c179e"
                          ],
                          [
                            0.4444444444444444,
                            "#bd3786"
                          ],
                          [
                            0.5555555555555556,
                            "#d8576b"
                          ],
                          [
                            0.6666666666666666,
                            "#ed7953"
                          ],
                          [
                            0.7777777777777778,
                            "#fb9f3a"
                          ],
                          [
                            0.8888888888888888,
                            "#fdca26"
                          ],
                          [
                            1,
                            "#f0f921"
                          ]
                        ],
                        "type": "heatmap"
                      }
                    ],
                    "heatmapgl": [
                      {
                        "colorbar": {
                          "outlinewidth": 0,
                          "ticks": ""
                        },
                        "colorscale": [
                          [
                            0,
                            "#0d0887"
                          ],
                          [
                            0.1111111111111111,
                            "#46039f"
                          ],
                          [
                            0.2222222222222222,
                            "#7201a8"
                          ],
                          [
                            0.3333333333333333,
                            "#9c179e"
                          ],
                          [
                            0.4444444444444444,
                            "#bd3786"
                          ],
                          [
                            0.5555555555555556,
                            "#d8576b"
                          ],
                          [
                            0.6666666666666666,
                            "#ed7953"
                          ],
                          [
                            0.7777777777777778,
                            "#fb9f3a"
                          ],
                          [
                            0.8888888888888888,
                            "#fdca26"
                          ],
                          [
                            1,
                            "#f0f921"
                          ]
                        ],
                        "type": "heatmapgl"
                      }
                    ],
                    "histogram": [
                      {
                        "marker": {
                          "pattern": {
                            "fillmode": "overlay",
                            "size": 10,
                            "solidity": 0.2
                          }
                        },
                        "type": "histogram"
                      }
                    ],
                    "histogram2d": [
                      {
                        "colorbar": {
                          "outlinewidth": 0,
                          "ticks": ""
                        },
                        "colorscale": [
                          [
                            0,
                            "#0d0887"
                          ],
                          [
                            0.1111111111111111,
                            "#46039f"
                          ],
                          [
                            0.2222222222222222,
                            "#7201a8"
                          ],
                          [
                            0.3333333333333333,
                            "#9c179e"
                          ],
                          [
                            0.4444444444444444,
                            "#bd3786"
                          ],
                          [
                            0.5555555555555556,
                            "#d8576b"
                          ],
                          [
                            0.6666666666666666,
                            "#ed7953"
                          ],
                          [
                            0.7777777777777778,
                            "#fb9f3a"
                          ],
                          [
                            0.8888888888888888,
                            "#fdca26"
                          ],
                          [
                            1,
                            "#f0f921"
                          ]
                        ],
                        "type": "histogram2d"
                      }
                    ],
                    "histogram2dcontour": [
                      {
                        "colorbar": {
                          "outlinewidth": 0,
                          "ticks": ""
                        },
                        "colorscale": [
                          [
                            0,
                            "#0d0887"
                          ],
                          [
                            0.1111111111111111,
                            "#46039f"
                          ],
                          [
                            0.2222222222222222,
                            "#7201a8"
                          ],
                          [
                            0.3333333333333333,
                            "#9c179e"
                          ],
                          [
                            0.4444444444444444,
                            "#bd3786"
                          ],
                          [
                            0.5555555555555556,
                            "#d8576b"
                          ],
                          [
                            0.6666666666666666,
                            "#ed7953"
                          ],
                          [
                            0.7777777777777778,
                            "#fb9f3a"
                          ],
                          [
                            0.8888888888888888,
                            "#fdca26"
                          ],
                          [
                            1,
                            "#f0f921"
                          ]
                        ],
                        "type": "histogram2dcontour"
                      }
                    ],
                    "mesh3d": [
                      {
                        "colorbar": {
                          "outlinewidth": 0,
                          "ticks": ""
                        },
                        "type": "mesh3d"
                      }
                    ],
                    "parcoords": [
                      {
                        "line": {
                          "colorbar": {
                            "outlinewidth": 0,
                            "ticks": ""
                          }
                        },
                        "type": "parcoords"
                      }
                    ],
                    "pie": [
                      {
                        "automargin": true,
                        "type": "pie"
                      }
                    ],
                    "scatter": [
                      {
                        "fillpattern": {
                          "fillmode": "overlay",
                          "size": 10,
                          "solidity": 0.2
                        },
                        "type": "scatter"
                      }
                    ],
                    "scatter3d": [
                      {
                        "line": {
                          "colorbar": {
                            "outlinewidth": 0,
                            "ticks": ""
                          }
                        },
                        "marker": {
                          "colorbar": {
                            "outlinewidth": 0,
                            "ticks": ""
                          }
                        },
                        "type": "scatter3d"
                      }
                    ],
                    "scattercarpet": [
                      {
                        "marker": {
                          "colorbar": {
                            "outlinewidth": 0,
                            "ticks": ""
                          }
                        },
                        "type": "scattercarpet"
                      }
                    ],
                    "scattergeo": [
                      {
                        "marker": {
                          "colorbar": {
                            "outlinewidth": 0,
                            "ticks": ""
                          }
                        },
                        "type": "scattergeo"
                      }
                    ],
                    "scattergl": [
                      {
                        "marker": {
                          "colorbar": {
                            "outlinewidth": 0,
                            "ticks": ""
                          }
                        },
                        "type": "scattergl"
                      }
                    ],
                    "scattermapbox": [
                      {
                        "marker": {
                          "colorbar": {
                            "outlinewidth": 0,
                            "ticks": ""
                          }
                        },
                        "type": "scattermapbox"
                      }
                    ],
                    "scatterpolar": [
                      {
                        "marker": {
                          "colorbar": {
                            "outlinewidth": 0,
                            "ticks": ""
                          }
                        },
                        "type": "scatterpolar"
                      }
                    ],
                    "scatterpolargl": [
                      {
                        "marker": {
                          "colorbar": {
                            "outlinewidth": 0,
                            "ticks": ""
                          }
                        },
                        "type": "scatterpolargl"
                      }
                    ],
                    "scatterternary": [
                      {
                        "marker": {
                          "colorbar": {
                            "outlinewidth": 0,
                            "ticks": ""
                          }
                        },
                        "type": "scatterternary"
                      }
                    ],
                    "surface": [
                      {
                        "colorbar": {
                          "outlinewidth": 0,
                          "ticks": ""
                        },
                        "colorscale": [
                          [
                            0,
                            "#0d0887"
                          ],
                          [
                            0.1111111111111111,
                            "#46039f"
                          ],
                          [
                            0.2222222222222222,
                            "#7201a8"
                          ],
                          [
                            0.3333333333333333,
                            "#9c179e"
                          ],
                          [
                            0.4444444444444444,
                            "#bd3786"
                          ],
                          [
                            0.5555555555555556,
                            "#d8576b"
                          ],
                          [
                            0.6666666666666666,
                            "#ed7953"
                          ],
                          [
                            0.7777777777777778,
                            "#fb9f3a"
                          ],
                          [
                            0.8888888888888888,
                            "#fdca26"
                          ],
                          [
                            1,
                            "#f0f921"
                          ]
                        ],
                        "type": "surface"
                      }
                    ],
                    "table": [
                      {
                        "cells": {
                          "fill": {
                            "color": "#EBF0F8"
                          },
                          "line": {
                            "color": "white"
                          }
                        },
                        "header": {
                          "fill": {
                            "color": "#C8D4E3"
                          },
                          "line": {
                            "color": "white"
                          }
                        },
                        "type": "table"
                      }
                    ]
                  },
                  "layout": {
                    "annotationdefaults": {
                      "arrowcolor": "#2a3f5f",
                      "arrowhead": 0,
                      "arrowwidth": 1
                    },
                    "autotypenumbers": "strict",
                    "coloraxis": {
                      "colorbar": {
                        "outlinewidth": 0,
                        "ticks": ""
                      }
                    },
                    "colorscale": {
                      "diverging": [
                        [
                          0,
                          "#8e0152"
                        ],
                        [
                          0.1,
                          "#c51b7d"
                        ],
                        [
                          0.2,
                          "#de77ae"
                        ],
                        [
                          0.3,
                          "#f1b6da"
                        ],
                        [
                          0.4,
                          "#fde0ef"
                        ],
                        [
                          0.5,
                          "#f7f7f7"
                        ],
                        [
                          0.6,
                          "#e6f5d0"
                        ],
                        [
                          0.7,
                          "#b8e186"
                        ],
                        [
                          0.8,
                          "#7fbc41"
                        ],
                        [
                          0.9,
                          "#4d9221"
                        ],
                        [
                          1,
                          "#276419"
                        ]
                      ],
                      "sequential": [
                        [
                          0,
                          "#0d0887"
                        ],
                        [
                          0.1111111111111111,
                          "#46039f"
                        ],
                        [
                          0.2222222222222222,
                          "#7201a8"
                        ],
                        [
                          0.3333333333333333,
                          "#9c179e"
                        ],
                        [
                          0.4444444444444444,
                          "#bd3786"
                        ],
                        [
                          0.5555555555555556,
                          "#d8576b"
                        ],
                        [
                          0.6666666666666666,
                          "#ed7953"
                        ],
                        [
                          0.7777777777777778,
                          "#fb9f3a"
                        ],
                        [
                          0.8888888888888888,
                          "#fdca26"
                        ],
                        [
                          1,
                          "#f0f921"
                        ]
                      ],
                      "sequentialminus": [
                        [
                          0,
                          "#0d0887"
                        ],
                        [
                          0.1111111111111111,
                          "#46039f"
                        ],
                        [
                          0.2222222222222222,
                          "#7201a8"
                        ],
                        [
                          0.3333333333333333,
                          "#9c179e"
                        ],
                        [
                          0.4444444444444444,
                          "#bd3786"
                        ],
                        [
                          0.5555555555555556,
                          "#d8576b"
                        ],
                        [
                          0.6666666666666666,
                          "#ed7953"
                        ],
                        [
                          0.7777777777777778,
                          "#fb9f3a"
                        ],
                        [
                          0.8888888888888888,
                          "#fdca26"
                        ],
                        [
                          1,
                          "#f0f921"
                        ]
                      ]
                    },
                    "colorway": [
                      "#636efa",
                      "#EF553B",
                      "#00cc96",
                      "#ab63fa",
                      "#FFA15A",
                      "#19d3f3",
                      "#FF6692",
                      "#B6E880",
                      "#FF97FF",
                      "#FECB52"
                    ],
                    "font": {
                      "color": "#2a3f5f"
                    },
                    "geo": {
                      "bgcolor": "white",
                      "lakecolor": "white",
                      "landcolor": "#E5ECF6",
                      "showlakes": true,
                      "showland": true,
                      "subunitcolor": "white"
                    },
                    "hoverlabel": {
                      "align": "left"
                    },
                    "hovermode": "closest",
                    "mapbox": {
                      "style": "light"
                    },
                    "paper_bgcolor": "white",
                    "plot_bgcolor": "#E5ECF6",
                    "polar": {
                      "angularaxis": {
                        "gridcolor": "white",
                        "linecolor": "white",
                        "ticks": ""
                      },
                      "bgcolor": "#E5ECF6",
                      "radialaxis": {
                        "gridcolor": "white",
                        "linecolor": "white",
                        "ticks": ""
                      }
                    },
                    "scene": {
                      "xaxis": {
                        "backgroundcolor": "#E5ECF6",
                        "gridcolor": "white",
                        "gridwidth": 2,
                        "linecolor": "white",
                        "showbackground": true,
                        "ticks": "",
                        "zerolinecolor": "white"
                      },
                      "yaxis": {
                        "backgroundcolor": "#E5ECF6",
                        "gridcolor": "white",
                        "gridwidth": 2,
                        "linecolor": "white",
                        "showbackground": true,
                        "ticks": "",
                        "zerolinecolor": "white"
                      },
                      "zaxis": {
                        "backgroundcolor": "#E5ECF6",
                        "gridcolor": "white",
                        "gridwidth": 2,
                        "linecolor": "white",
                        "showbackground": true,
                        "ticks": "",
                        "zerolinecolor": "white"
                      }
                    },
                    "shapedefaults": {
                      "line": {
                        "color": "#2a3f5f"
                      }
                    },
                    "ternary": {
                      "aaxis": {
                        "gridcolor": "white",
                        "linecolor": "white",
                        "ticks": ""
                      },
                      "baxis": {
                        "gridcolor": "white",
                        "linecolor": "white",
                        "ticks": ""
                      },
                      "bgcolor": "#E5ECF6",
                      "caxis": {
                        "gridcolor": "white",
                        "linecolor": "white",
                        "ticks": ""
                      }
                    },
                    "title": {
                      "x": 0.05
                    },
                    "xaxis": {
                      "automargin": true,
                      "gridcolor": "white",
                      "linecolor": "white",
                      "ticks": "",
                      "title": {
                        "standoff": 15
                      },
                      "zerolinecolor": "white",
                      "zerolinewidth": 2
                    },
                    "yaxis": {
                      "automargin": true,
                      "gridcolor": "white",
                      "linecolor": "white",
                      "ticks": "",
                      "title": {
                        "standoff": 15
                      },
                      "zerolinecolor": "white",
                      "zerolinewidth": 2
                    }
                  }
                },
                "title": {
                  "font": {
                    "size": 24
                  },
                  "text": "Top 10 Songs by Most Accumulated Weeks at No. 1 (2019-2024)"
                },
                "width": 1000,
                "xaxis": {
                  "anchor": "y",
                  "domain": [
                    0,
                    1
                  ],
                  "tickfont": {
                    "size": 16
                  },
                  "title": {
                    "font": {
                      "size": 20
                    },
                    "text": "Songs"
                  }
                },
                "yaxis": {
                  "anchor": "x",
                  "domain": [
                    0,
                    1
                  ],
                  "tickfont": {
                    "size": 16
                  },
                  "tickmode": "linear",
                  "title": {
                    "font": {
                      "size": 20
                    },
                    "text": "Accumulated Weeks at No.1"
                  }
                }
              }
            }
          },
          "metadata": {},
          "output_type": "display_data"
        }
      ],
      "source": [
        "# Top 10 Songs by Accumulated Weeks at No. 1 (2019-2024)\n",
        "\n",
        "# Create a bar chart\n",
        "fig = px.bar(\n",
        "    top_10_no1,\n",
        "    x='Title',\n",
        "    y='Accumulated Weeks',\n",
        "    hover_data=['Singer(s)'],\n",
        "    color='Accumulated Weeks',\n",
        "    title='Top 10 Songs by Most Accumulated Weeks at No. 1 (2019-2024)',\n",
        "    width=1000\n",
        ")\n",
        "\n",
        "# Customize the chart\n",
        "fig.update_layout(\n",
        "    xaxis_title='Songs',\n",
        "    yaxis_title='Accumulated Weeks at No.1',\n",
        "    title_font=dict(size=24),\n",
        "    xaxis_title_font=dict(size=20),\n",
        "    yaxis_title_font=dict(size=20),\n",
        "    xaxis=dict(\n",
        "        tickfont=dict(size=16)\n",
        "    ),\n",
        "    yaxis=dict(\n",
        "        tickfont=dict(size=16),\n",
        "        tickmode='linear'\n",
        "    ),\n",
        "    hoverlabel=dict(\n",
        "        font=dict(\n",
        "            family=\"Arial\",\n",
        "            size=14\n",
        "        )\n",
        "    ),\n",
        "    bargap=0.2\n",
        ")\n",
        "\n",
        "# Show the chart\n",
        "fig.show()\n"
      ]
    },
    {
      "cell_type": "markdown",
      "metadata": {},
      "source": [
        "Monthly New Songs in the Top 10 (2019-2024)"
      ]
    },
    {
      "cell_type": "code",
      "execution_count": 92,
      "metadata": {
        "colab": {
          "base_uri": "https://localhost:8080/"
        },
        "id": "8_ALcuJO8E_l",
        "outputId": "ec59c763-98ee-483a-8cf0-77fce1f58c4d"
      },
      "outputs": [
        {
          "name": "stdout",
          "output_type": "stream",
          "text": [
            "  Year-Month  Monthly New Songs in the Top 10\n",
            "0    2019-11                                1\n",
            "1    2023-12                                6\n"
          ]
        }
      ],
      "source": [
        "# Filter for new songs that were in Top 10\n",
        "top10_songs = df[(df['Rank'] <= 10) & (df['Last Week Position'] > 10)]\n",
        "\n",
        "# Create a new DataFrame with just the Year, Month, Title, and Singer(s)\n",
        "# Group by Year and Month to count the number of Top 10 songs\n",
        "top10_songs_by_month = top10_songs.groupby(['Year', 'Month']).size().reset_index(name='Monthly New Songs in the Top 10')\n",
        "# Combine Year and Month\n",
        "top10_songs_by_month['Year-Month'] = top10_songs_by_month['Year'] + '-' + top10_songs_by_month['Month']\n",
        "# Drop the original Year and Month columns\n",
        "top10_songs_by_month = top10_songs_by_month.drop(columns=['Year', 'Month'])\n",
        "# Rearrange the columns so that 'Year and Month' comes first\n",
        "top10_songs_by_month = top10_songs_by_month[['Year-Month', 'Monthly New Songs in the Top 10']]\n",
        "\n",
        "# Display the final DataFrame\n",
        "print(top10_songs_by_month)"
      ]
    },
    {
      "cell_type": "code",
      "execution_count": 93,
      "metadata": {
        "colab": {
          "base_uri": "https://localhost:8080/",
          "height": 542
        },
        "id": "zKr4-wVEAvRH",
        "outputId": "050f450a-43bc-429e-c198-2cd2fce8c7c7"
      },
      "outputs": [
        {
          "data": {
            "application/vnd.plotly.v1+json": {
              "config": {
                "plotlyServerURL": "https://plot.ly"
              },
              "data": [
                {
                  "hovertemplate": "Year-Month: %{x|%Y-%m}<br>Value: %{y}",
                  "legendgroup": "",
                  "line": {
                    "color": "red",
                    "dash": "solid"
                  },
                  "marker": {
                    "symbol": "circle"
                  },
                  "mode": "lines",
                  "name": "",
                  "orientation": "v",
                  "showlegend": false,
                  "type": "scatter",
                  "x": [
                    "2019-11",
                    "2023-12"
                  ],
                  "xaxis": "x",
                  "y": [
                    1,
                    6
                  ],
                  "yaxis": "y"
                }
              ],
              "layout": {
                "hoverlabel": {
                  "font": {
                    "family": "Arial",
                    "size": 14
                  }
                },
                "legend": {
                  "tracegroupgap": 0
                },
                "template": {
                  "data": {
                    "bar": [
                      {
                        "error_x": {
                          "color": "#2a3f5f"
                        },
                        "error_y": {
                          "color": "#2a3f5f"
                        },
                        "marker": {
                          "line": {
                            "color": "#E5ECF6",
                            "width": 0.5
                          },
                          "pattern": {
                            "fillmode": "overlay",
                            "size": 10,
                            "solidity": 0.2
                          }
                        },
                        "type": "bar"
                      }
                    ],
                    "barpolar": [
                      {
                        "marker": {
                          "line": {
                            "color": "#E5ECF6",
                            "width": 0.5
                          },
                          "pattern": {
                            "fillmode": "overlay",
                            "size": 10,
                            "solidity": 0.2
                          }
                        },
                        "type": "barpolar"
                      }
                    ],
                    "carpet": [
                      {
                        "aaxis": {
                          "endlinecolor": "#2a3f5f",
                          "gridcolor": "white",
                          "linecolor": "white",
                          "minorgridcolor": "white",
                          "startlinecolor": "#2a3f5f"
                        },
                        "baxis": {
                          "endlinecolor": "#2a3f5f",
                          "gridcolor": "white",
                          "linecolor": "white",
                          "minorgridcolor": "white",
                          "startlinecolor": "#2a3f5f"
                        },
                        "type": "carpet"
                      }
                    ],
                    "choropleth": [
                      {
                        "colorbar": {
                          "outlinewidth": 0,
                          "ticks": ""
                        },
                        "type": "choropleth"
                      }
                    ],
                    "contour": [
                      {
                        "colorbar": {
                          "outlinewidth": 0,
                          "ticks": ""
                        },
                        "colorscale": [
                          [
                            0,
                            "#0d0887"
                          ],
                          [
                            0.1111111111111111,
                            "#46039f"
                          ],
                          [
                            0.2222222222222222,
                            "#7201a8"
                          ],
                          [
                            0.3333333333333333,
                            "#9c179e"
                          ],
                          [
                            0.4444444444444444,
                            "#bd3786"
                          ],
                          [
                            0.5555555555555556,
                            "#d8576b"
                          ],
                          [
                            0.6666666666666666,
                            "#ed7953"
                          ],
                          [
                            0.7777777777777778,
                            "#fb9f3a"
                          ],
                          [
                            0.8888888888888888,
                            "#fdca26"
                          ],
                          [
                            1,
                            "#f0f921"
                          ]
                        ],
                        "type": "contour"
                      }
                    ],
                    "contourcarpet": [
                      {
                        "colorbar": {
                          "outlinewidth": 0,
                          "ticks": ""
                        },
                        "type": "contourcarpet"
                      }
                    ],
                    "heatmap": [
                      {
                        "colorbar": {
                          "outlinewidth": 0,
                          "ticks": ""
                        },
                        "colorscale": [
                          [
                            0,
                            "#0d0887"
                          ],
                          [
                            0.1111111111111111,
                            "#46039f"
                          ],
                          [
                            0.2222222222222222,
                            "#7201a8"
                          ],
                          [
                            0.3333333333333333,
                            "#9c179e"
                          ],
                          [
                            0.4444444444444444,
                            "#bd3786"
                          ],
                          [
                            0.5555555555555556,
                            "#d8576b"
                          ],
                          [
                            0.6666666666666666,
                            "#ed7953"
                          ],
                          [
                            0.7777777777777778,
                            "#fb9f3a"
                          ],
                          [
                            0.8888888888888888,
                            "#fdca26"
                          ],
                          [
                            1,
                            "#f0f921"
                          ]
                        ],
                        "type": "heatmap"
                      }
                    ],
                    "heatmapgl": [
                      {
                        "colorbar": {
                          "outlinewidth": 0,
                          "ticks": ""
                        },
                        "colorscale": [
                          [
                            0,
                            "#0d0887"
                          ],
                          [
                            0.1111111111111111,
                            "#46039f"
                          ],
                          [
                            0.2222222222222222,
                            "#7201a8"
                          ],
                          [
                            0.3333333333333333,
                            "#9c179e"
                          ],
                          [
                            0.4444444444444444,
                            "#bd3786"
                          ],
                          [
                            0.5555555555555556,
                            "#d8576b"
                          ],
                          [
                            0.6666666666666666,
                            "#ed7953"
                          ],
                          [
                            0.7777777777777778,
                            "#fb9f3a"
                          ],
                          [
                            0.8888888888888888,
                            "#fdca26"
                          ],
                          [
                            1,
                            "#f0f921"
                          ]
                        ],
                        "type": "heatmapgl"
                      }
                    ],
                    "histogram": [
                      {
                        "marker": {
                          "pattern": {
                            "fillmode": "overlay",
                            "size": 10,
                            "solidity": 0.2
                          }
                        },
                        "type": "histogram"
                      }
                    ],
                    "histogram2d": [
                      {
                        "colorbar": {
                          "outlinewidth": 0,
                          "ticks": ""
                        },
                        "colorscale": [
                          [
                            0,
                            "#0d0887"
                          ],
                          [
                            0.1111111111111111,
                            "#46039f"
                          ],
                          [
                            0.2222222222222222,
                            "#7201a8"
                          ],
                          [
                            0.3333333333333333,
                            "#9c179e"
                          ],
                          [
                            0.4444444444444444,
                            "#bd3786"
                          ],
                          [
                            0.5555555555555556,
                            "#d8576b"
                          ],
                          [
                            0.6666666666666666,
                            "#ed7953"
                          ],
                          [
                            0.7777777777777778,
                            "#fb9f3a"
                          ],
                          [
                            0.8888888888888888,
                            "#fdca26"
                          ],
                          [
                            1,
                            "#f0f921"
                          ]
                        ],
                        "type": "histogram2d"
                      }
                    ],
                    "histogram2dcontour": [
                      {
                        "colorbar": {
                          "outlinewidth": 0,
                          "ticks": ""
                        },
                        "colorscale": [
                          [
                            0,
                            "#0d0887"
                          ],
                          [
                            0.1111111111111111,
                            "#46039f"
                          ],
                          [
                            0.2222222222222222,
                            "#7201a8"
                          ],
                          [
                            0.3333333333333333,
                            "#9c179e"
                          ],
                          [
                            0.4444444444444444,
                            "#bd3786"
                          ],
                          [
                            0.5555555555555556,
                            "#d8576b"
                          ],
                          [
                            0.6666666666666666,
                            "#ed7953"
                          ],
                          [
                            0.7777777777777778,
                            "#fb9f3a"
                          ],
                          [
                            0.8888888888888888,
                            "#fdca26"
                          ],
                          [
                            1,
                            "#f0f921"
                          ]
                        ],
                        "type": "histogram2dcontour"
                      }
                    ],
                    "mesh3d": [
                      {
                        "colorbar": {
                          "outlinewidth": 0,
                          "ticks": ""
                        },
                        "type": "mesh3d"
                      }
                    ],
                    "parcoords": [
                      {
                        "line": {
                          "colorbar": {
                            "outlinewidth": 0,
                            "ticks": ""
                          }
                        },
                        "type": "parcoords"
                      }
                    ],
                    "pie": [
                      {
                        "automargin": true,
                        "type": "pie"
                      }
                    ],
                    "scatter": [
                      {
                        "fillpattern": {
                          "fillmode": "overlay",
                          "size": 10,
                          "solidity": 0.2
                        },
                        "type": "scatter"
                      }
                    ],
                    "scatter3d": [
                      {
                        "line": {
                          "colorbar": {
                            "outlinewidth": 0,
                            "ticks": ""
                          }
                        },
                        "marker": {
                          "colorbar": {
                            "outlinewidth": 0,
                            "ticks": ""
                          }
                        },
                        "type": "scatter3d"
                      }
                    ],
                    "scattercarpet": [
                      {
                        "marker": {
                          "colorbar": {
                            "outlinewidth": 0,
                            "ticks": ""
                          }
                        },
                        "type": "scattercarpet"
                      }
                    ],
                    "scattergeo": [
                      {
                        "marker": {
                          "colorbar": {
                            "outlinewidth": 0,
                            "ticks": ""
                          }
                        },
                        "type": "scattergeo"
                      }
                    ],
                    "scattergl": [
                      {
                        "marker": {
                          "colorbar": {
                            "outlinewidth": 0,
                            "ticks": ""
                          }
                        },
                        "type": "scattergl"
                      }
                    ],
                    "scattermapbox": [
                      {
                        "marker": {
                          "colorbar": {
                            "outlinewidth": 0,
                            "ticks": ""
                          }
                        },
                        "type": "scattermapbox"
                      }
                    ],
                    "scatterpolar": [
                      {
                        "marker": {
                          "colorbar": {
                            "outlinewidth": 0,
                            "ticks": ""
                          }
                        },
                        "type": "scatterpolar"
                      }
                    ],
                    "scatterpolargl": [
                      {
                        "marker": {
                          "colorbar": {
                            "outlinewidth": 0,
                            "ticks": ""
                          }
                        },
                        "type": "scatterpolargl"
                      }
                    ],
                    "scatterternary": [
                      {
                        "marker": {
                          "colorbar": {
                            "outlinewidth": 0,
                            "ticks": ""
                          }
                        },
                        "type": "scatterternary"
                      }
                    ],
                    "surface": [
                      {
                        "colorbar": {
                          "outlinewidth": 0,
                          "ticks": ""
                        },
                        "colorscale": [
                          [
                            0,
                            "#0d0887"
                          ],
                          [
                            0.1111111111111111,
                            "#46039f"
                          ],
                          [
                            0.2222222222222222,
                            "#7201a8"
                          ],
                          [
                            0.3333333333333333,
                            "#9c179e"
                          ],
                          [
                            0.4444444444444444,
                            "#bd3786"
                          ],
                          [
                            0.5555555555555556,
                            "#d8576b"
                          ],
                          [
                            0.6666666666666666,
                            "#ed7953"
                          ],
                          [
                            0.7777777777777778,
                            "#fb9f3a"
                          ],
                          [
                            0.8888888888888888,
                            "#fdca26"
                          ],
                          [
                            1,
                            "#f0f921"
                          ]
                        ],
                        "type": "surface"
                      }
                    ],
                    "table": [
                      {
                        "cells": {
                          "fill": {
                            "color": "#EBF0F8"
                          },
                          "line": {
                            "color": "white"
                          }
                        },
                        "header": {
                          "fill": {
                            "color": "#C8D4E3"
                          },
                          "line": {
                            "color": "white"
                          }
                        },
                        "type": "table"
                      }
                    ]
                  },
                  "layout": {
                    "annotationdefaults": {
                      "arrowcolor": "#2a3f5f",
                      "arrowhead": 0,
                      "arrowwidth": 1
                    },
                    "autotypenumbers": "strict",
                    "coloraxis": {
                      "colorbar": {
                        "outlinewidth": 0,
                        "ticks": ""
                      }
                    },
                    "colorscale": {
                      "diverging": [
                        [
                          0,
                          "#8e0152"
                        ],
                        [
                          0.1,
                          "#c51b7d"
                        ],
                        [
                          0.2,
                          "#de77ae"
                        ],
                        [
                          0.3,
                          "#f1b6da"
                        ],
                        [
                          0.4,
                          "#fde0ef"
                        ],
                        [
                          0.5,
                          "#f7f7f7"
                        ],
                        [
                          0.6,
                          "#e6f5d0"
                        ],
                        [
                          0.7,
                          "#b8e186"
                        ],
                        [
                          0.8,
                          "#7fbc41"
                        ],
                        [
                          0.9,
                          "#4d9221"
                        ],
                        [
                          1,
                          "#276419"
                        ]
                      ],
                      "sequential": [
                        [
                          0,
                          "#0d0887"
                        ],
                        [
                          0.1111111111111111,
                          "#46039f"
                        ],
                        [
                          0.2222222222222222,
                          "#7201a8"
                        ],
                        [
                          0.3333333333333333,
                          "#9c179e"
                        ],
                        [
                          0.4444444444444444,
                          "#bd3786"
                        ],
                        [
                          0.5555555555555556,
                          "#d8576b"
                        ],
                        [
                          0.6666666666666666,
                          "#ed7953"
                        ],
                        [
                          0.7777777777777778,
                          "#fb9f3a"
                        ],
                        [
                          0.8888888888888888,
                          "#fdca26"
                        ],
                        [
                          1,
                          "#f0f921"
                        ]
                      ],
                      "sequentialminus": [
                        [
                          0,
                          "#0d0887"
                        ],
                        [
                          0.1111111111111111,
                          "#46039f"
                        ],
                        [
                          0.2222222222222222,
                          "#7201a8"
                        ],
                        [
                          0.3333333333333333,
                          "#9c179e"
                        ],
                        [
                          0.4444444444444444,
                          "#bd3786"
                        ],
                        [
                          0.5555555555555556,
                          "#d8576b"
                        ],
                        [
                          0.6666666666666666,
                          "#ed7953"
                        ],
                        [
                          0.7777777777777778,
                          "#fb9f3a"
                        ],
                        [
                          0.8888888888888888,
                          "#fdca26"
                        ],
                        [
                          1,
                          "#f0f921"
                        ]
                      ]
                    },
                    "colorway": [
                      "#636efa",
                      "#EF553B",
                      "#00cc96",
                      "#ab63fa",
                      "#FFA15A",
                      "#19d3f3",
                      "#FF6692",
                      "#B6E880",
                      "#FF97FF",
                      "#FECB52"
                    ],
                    "font": {
                      "color": "#2a3f5f"
                    },
                    "geo": {
                      "bgcolor": "white",
                      "lakecolor": "white",
                      "landcolor": "#E5ECF6",
                      "showlakes": true,
                      "showland": true,
                      "subunitcolor": "white"
                    },
                    "hoverlabel": {
                      "align": "left"
                    },
                    "hovermode": "closest",
                    "mapbox": {
                      "style": "light"
                    },
                    "paper_bgcolor": "white",
                    "plot_bgcolor": "#E5ECF6",
                    "polar": {
                      "angularaxis": {
                        "gridcolor": "white",
                        "linecolor": "white",
                        "ticks": ""
                      },
                      "bgcolor": "#E5ECF6",
                      "radialaxis": {
                        "gridcolor": "white",
                        "linecolor": "white",
                        "ticks": ""
                      }
                    },
                    "scene": {
                      "xaxis": {
                        "backgroundcolor": "#E5ECF6",
                        "gridcolor": "white",
                        "gridwidth": 2,
                        "linecolor": "white",
                        "showbackground": true,
                        "ticks": "",
                        "zerolinecolor": "white"
                      },
                      "yaxis": {
                        "backgroundcolor": "#E5ECF6",
                        "gridcolor": "white",
                        "gridwidth": 2,
                        "linecolor": "white",
                        "showbackground": true,
                        "ticks": "",
                        "zerolinecolor": "white"
                      },
                      "zaxis": {
                        "backgroundcolor": "#E5ECF6",
                        "gridcolor": "white",
                        "gridwidth": 2,
                        "linecolor": "white",
                        "showbackground": true,
                        "ticks": "",
                        "zerolinecolor": "white"
                      }
                    },
                    "shapedefaults": {
                      "line": {
                        "color": "#2a3f5f"
                      }
                    },
                    "ternary": {
                      "aaxis": {
                        "gridcolor": "white",
                        "linecolor": "white",
                        "ticks": ""
                      },
                      "baxis": {
                        "gridcolor": "white",
                        "linecolor": "white",
                        "ticks": ""
                      },
                      "bgcolor": "#E5ECF6",
                      "caxis": {
                        "gridcolor": "white",
                        "linecolor": "white",
                        "ticks": ""
                      }
                    },
                    "title": {
                      "x": 0.05
                    },
                    "xaxis": {
                      "automargin": true,
                      "gridcolor": "white",
                      "linecolor": "white",
                      "ticks": "",
                      "title": {
                        "standoff": 15
                      },
                      "zerolinecolor": "white",
                      "zerolinewidth": 2
                    },
                    "yaxis": {
                      "automargin": true,
                      "gridcolor": "white",
                      "linecolor": "white",
                      "ticks": "",
                      "title": {
                        "standoff": 15
                      },
                      "zerolinecolor": "white",
                      "zerolinewidth": 2
                    }
                  }
                },
                "title": {
                  "font": {
                    "size": 24
                  },
                  "text": "Monthly New Songs in the Top 10 (2019-2024)"
                },
                "xaxis": {
                  "anchor": "y",
                  "domain": [
                    0,
                    1
                  ],
                  "tickfont": {
                    "size": 16
                  },
                  "title": {
                    "font": {
                      "size": 20
                    },
                    "text": "Year-Month"
                  }
                },
                "yaxis": {
                  "anchor": "x",
                  "domain": [
                    0,
                    1
                  ],
                  "tickfont": {
                    "size": 16
                  },
                  "title": {
                    "font": {
                      "size": 20
                    },
                    "text": "Counts"
                  }
                }
              }
            }
          },
          "metadata": {},
          "output_type": "display_data"
        }
      ],
      "source": [
        "# Monthly New Songs in the Top 10 (2019-2024)\n",
        "\n",
        "# Create a line chart\n",
        "fig = px.line(\n",
        "    top10_songs_by_month,\n",
        "    x='Year-Month',\n",
        "    y='Monthly New Songs in the Top 10',\n",
        "    color_discrete_sequence=['red'],\n",
        "    title='Monthly New Songs in the Top 10 (2019-2024)',\n",
        ")\n",
        "\n",
        "# Customize the chart\n",
        "fig.update_traces(hovertemplate='Year-Month: %{x|%Y-%m}<br>Value: %{y}')\n",
        "fig.update_layout(\n",
        "    xaxis_title='Year-Month',\n",
        "    yaxis_title='Counts',\n",
        "    title_font=dict(size=24),\n",
        "    xaxis_title_font=dict(size=20),\n",
        "    yaxis_title_font=dict(size=20),\n",
        "    xaxis=dict(\n",
        "        tickfont=dict(size=16)\n",
        "    ),\n",
        "    yaxis=dict(\n",
        "        tickfont=dict(size=16)\n",
        "    ),\n",
        "    hoverlabel=dict(\n",
        "        font=dict(\n",
        "            family=\"Arial\",\n",
        "            size=14\n",
        "        )\n",
        "    ))\n",
        "\n",
        "# Show the chart\n",
        "fig.show()\n"
      ]
    },
    {
      "cell_type": "markdown",
      "metadata": {},
      "source": [
        "Top 5 Singers with the most numbers of Top 10 Songs (2019-2024)"
      ]
    },
    {
      "cell_type": "code",
      "execution_count": 94,
      "metadata": {
        "colab": {
          "base_uri": "https://localhost:8080/"
        },
        "id": "jeoRavr9xWm5",
        "outputId": "30d38b12-e3a6-4d40-c206-ec6d7b6dedd8"
      },
      "outputs": [
        {
          "name": "stdout",
          "output_type": "stream",
          "text": [
            "        Singer(s)  No. of Top 10 Songs\n",
            "3   Billie Eilish                    2\n",
            "17          Lizzo                    2\n",
            "25    Post Malone                    2\n",
            "33   Taylor Swift                    2\n",
            "28            SZA                    2\n"
          ]
        }
      ],
      "source": [
        "# Filter for songs that were in the top 10\n",
        "top10_songs = df[df['Rank'] <= 10]\n",
        "\n",
        "# Drop duplicates based on 'Title' and 'Singer(s)' to ensure each song is counted once per artist\n",
        "unique_top10_songs = top10_songs.drop_duplicates(subset=['Title', 'Singer(s)'])\n",
        "\n",
        "# Group by Singer(s) to count the number of unique top 10 songs\n",
        "top10_songs_singers = unique_top10_songs.groupby('Singer(s)').size().reset_index(name='No. of Top 10 Songs')\n",
        "\n",
        "# Sort by the number of top 10 songs\n",
        "top10_songs_singers = top10_songs_singers.sort_values(by='No. of Top 10 Songs', ascending=False)\n",
        "\n",
        "# Show the top 5 singers with the most number of unique top 10 songs\n",
        "top5_singers = top10_songs_singers.head(5)\n",
        "\n",
        "# Display the final DataFrame\n",
        "print(top5_singers)"
      ]
    },
    {
      "cell_type": "code",
      "execution_count": 95,
      "metadata": {
        "colab": {
          "base_uri": "https://localhost:8080/",
          "height": 542
        },
        "id": "y4ZOgdbM1dTA",
        "outputId": "c06b481e-c55f-4c77-c74a-a4e58bef7e70"
      },
      "outputs": [
        {
          "data": {
            "application/vnd.plotly.v1+json": {
              "config": {
                "plotlyServerURL": "https://plot.ly"
              },
              "data": [
                {
                  "alignmentgroup": "True",
                  "hovertemplate": "Singer(s)=%{x}<br>No. of Top 10 Songs=%{marker.color}<extra></extra>",
                  "legendgroup": "",
                  "marker": {
                    "color": [
                      2,
                      2,
                      2,
                      2,
                      2
                    ],
                    "coloraxis": "coloraxis",
                    "pattern": {
                      "shape": ""
                    }
                  },
                  "name": "",
                  "offsetgroup": "",
                  "orientation": "v",
                  "showlegend": false,
                  "textposition": "auto",
                  "type": "bar",
                  "x": [
                    "Billie Eilish",
                    "Lizzo",
                    "Post Malone",
                    "Taylor Swift",
                    "SZA"
                  ],
                  "xaxis": "x",
                  "y": [
                    2,
                    2,
                    2,
                    2,
                    2
                  ],
                  "yaxis": "y"
                }
              ],
              "layout": {
                "bargap": 0.2,
                "barmode": "relative",
                "coloraxis": {
                  "colorbar": {
                    "title": {
                      "text": "No. of Top 10 Songs"
                    }
                  },
                  "colorscale": [
                    [
                      0,
                      "#0d0887"
                    ],
                    [
                      0.1111111111111111,
                      "#46039f"
                    ],
                    [
                      0.2222222222222222,
                      "#7201a8"
                    ],
                    [
                      0.3333333333333333,
                      "#9c179e"
                    ],
                    [
                      0.4444444444444444,
                      "#bd3786"
                    ],
                    [
                      0.5555555555555556,
                      "#d8576b"
                    ],
                    [
                      0.6666666666666666,
                      "#ed7953"
                    ],
                    [
                      0.7777777777777778,
                      "#fb9f3a"
                    ],
                    [
                      0.8888888888888888,
                      "#fdca26"
                    ],
                    [
                      1,
                      "#f0f921"
                    ]
                  ]
                },
                "hoverlabel": {
                  "font": {
                    "family": "Arial",
                    "size": 14
                  }
                },
                "legend": {
                  "tracegroupgap": 0
                },
                "template": {
                  "data": {
                    "bar": [
                      {
                        "error_x": {
                          "color": "#2a3f5f"
                        },
                        "error_y": {
                          "color": "#2a3f5f"
                        },
                        "marker": {
                          "line": {
                            "color": "#E5ECF6",
                            "width": 0.5
                          },
                          "pattern": {
                            "fillmode": "overlay",
                            "size": 10,
                            "solidity": 0.2
                          }
                        },
                        "type": "bar"
                      }
                    ],
                    "barpolar": [
                      {
                        "marker": {
                          "line": {
                            "color": "#E5ECF6",
                            "width": 0.5
                          },
                          "pattern": {
                            "fillmode": "overlay",
                            "size": 10,
                            "solidity": 0.2
                          }
                        },
                        "type": "barpolar"
                      }
                    ],
                    "carpet": [
                      {
                        "aaxis": {
                          "endlinecolor": "#2a3f5f",
                          "gridcolor": "white",
                          "linecolor": "white",
                          "minorgridcolor": "white",
                          "startlinecolor": "#2a3f5f"
                        },
                        "baxis": {
                          "endlinecolor": "#2a3f5f",
                          "gridcolor": "white",
                          "linecolor": "white",
                          "minorgridcolor": "white",
                          "startlinecolor": "#2a3f5f"
                        },
                        "type": "carpet"
                      }
                    ],
                    "choropleth": [
                      {
                        "colorbar": {
                          "outlinewidth": 0,
                          "ticks": ""
                        },
                        "type": "choropleth"
                      }
                    ],
                    "contour": [
                      {
                        "colorbar": {
                          "outlinewidth": 0,
                          "ticks": ""
                        },
                        "colorscale": [
                          [
                            0,
                            "#0d0887"
                          ],
                          [
                            0.1111111111111111,
                            "#46039f"
                          ],
                          [
                            0.2222222222222222,
                            "#7201a8"
                          ],
                          [
                            0.3333333333333333,
                            "#9c179e"
                          ],
                          [
                            0.4444444444444444,
                            "#bd3786"
                          ],
                          [
                            0.5555555555555556,
                            "#d8576b"
                          ],
                          [
                            0.6666666666666666,
                            "#ed7953"
                          ],
                          [
                            0.7777777777777778,
                            "#fb9f3a"
                          ],
                          [
                            0.8888888888888888,
                            "#fdca26"
                          ],
                          [
                            1,
                            "#f0f921"
                          ]
                        ],
                        "type": "contour"
                      }
                    ],
                    "contourcarpet": [
                      {
                        "colorbar": {
                          "outlinewidth": 0,
                          "ticks": ""
                        },
                        "type": "contourcarpet"
                      }
                    ],
                    "heatmap": [
                      {
                        "colorbar": {
                          "outlinewidth": 0,
                          "ticks": ""
                        },
                        "colorscale": [
                          [
                            0,
                            "#0d0887"
                          ],
                          [
                            0.1111111111111111,
                            "#46039f"
                          ],
                          [
                            0.2222222222222222,
                            "#7201a8"
                          ],
                          [
                            0.3333333333333333,
                            "#9c179e"
                          ],
                          [
                            0.4444444444444444,
                            "#bd3786"
                          ],
                          [
                            0.5555555555555556,
                            "#d8576b"
                          ],
                          [
                            0.6666666666666666,
                            "#ed7953"
                          ],
                          [
                            0.7777777777777778,
                            "#fb9f3a"
                          ],
                          [
                            0.8888888888888888,
                            "#fdca26"
                          ],
                          [
                            1,
                            "#f0f921"
                          ]
                        ],
                        "type": "heatmap"
                      }
                    ],
                    "heatmapgl": [
                      {
                        "colorbar": {
                          "outlinewidth": 0,
                          "ticks": ""
                        },
                        "colorscale": [
                          [
                            0,
                            "#0d0887"
                          ],
                          [
                            0.1111111111111111,
                            "#46039f"
                          ],
                          [
                            0.2222222222222222,
                            "#7201a8"
                          ],
                          [
                            0.3333333333333333,
                            "#9c179e"
                          ],
                          [
                            0.4444444444444444,
                            "#bd3786"
                          ],
                          [
                            0.5555555555555556,
                            "#d8576b"
                          ],
                          [
                            0.6666666666666666,
                            "#ed7953"
                          ],
                          [
                            0.7777777777777778,
                            "#fb9f3a"
                          ],
                          [
                            0.8888888888888888,
                            "#fdca26"
                          ],
                          [
                            1,
                            "#f0f921"
                          ]
                        ],
                        "type": "heatmapgl"
                      }
                    ],
                    "histogram": [
                      {
                        "marker": {
                          "pattern": {
                            "fillmode": "overlay",
                            "size": 10,
                            "solidity": 0.2
                          }
                        },
                        "type": "histogram"
                      }
                    ],
                    "histogram2d": [
                      {
                        "colorbar": {
                          "outlinewidth": 0,
                          "ticks": ""
                        },
                        "colorscale": [
                          [
                            0,
                            "#0d0887"
                          ],
                          [
                            0.1111111111111111,
                            "#46039f"
                          ],
                          [
                            0.2222222222222222,
                            "#7201a8"
                          ],
                          [
                            0.3333333333333333,
                            "#9c179e"
                          ],
                          [
                            0.4444444444444444,
                            "#bd3786"
                          ],
                          [
                            0.5555555555555556,
                            "#d8576b"
                          ],
                          [
                            0.6666666666666666,
                            "#ed7953"
                          ],
                          [
                            0.7777777777777778,
                            "#fb9f3a"
                          ],
                          [
                            0.8888888888888888,
                            "#fdca26"
                          ],
                          [
                            1,
                            "#f0f921"
                          ]
                        ],
                        "type": "histogram2d"
                      }
                    ],
                    "histogram2dcontour": [
                      {
                        "colorbar": {
                          "outlinewidth": 0,
                          "ticks": ""
                        },
                        "colorscale": [
                          [
                            0,
                            "#0d0887"
                          ],
                          [
                            0.1111111111111111,
                            "#46039f"
                          ],
                          [
                            0.2222222222222222,
                            "#7201a8"
                          ],
                          [
                            0.3333333333333333,
                            "#9c179e"
                          ],
                          [
                            0.4444444444444444,
                            "#bd3786"
                          ],
                          [
                            0.5555555555555556,
                            "#d8576b"
                          ],
                          [
                            0.6666666666666666,
                            "#ed7953"
                          ],
                          [
                            0.7777777777777778,
                            "#fb9f3a"
                          ],
                          [
                            0.8888888888888888,
                            "#fdca26"
                          ],
                          [
                            1,
                            "#f0f921"
                          ]
                        ],
                        "type": "histogram2dcontour"
                      }
                    ],
                    "mesh3d": [
                      {
                        "colorbar": {
                          "outlinewidth": 0,
                          "ticks": ""
                        },
                        "type": "mesh3d"
                      }
                    ],
                    "parcoords": [
                      {
                        "line": {
                          "colorbar": {
                            "outlinewidth": 0,
                            "ticks": ""
                          }
                        },
                        "type": "parcoords"
                      }
                    ],
                    "pie": [
                      {
                        "automargin": true,
                        "type": "pie"
                      }
                    ],
                    "scatter": [
                      {
                        "fillpattern": {
                          "fillmode": "overlay",
                          "size": 10,
                          "solidity": 0.2
                        },
                        "type": "scatter"
                      }
                    ],
                    "scatter3d": [
                      {
                        "line": {
                          "colorbar": {
                            "outlinewidth": 0,
                            "ticks": ""
                          }
                        },
                        "marker": {
                          "colorbar": {
                            "outlinewidth": 0,
                            "ticks": ""
                          }
                        },
                        "type": "scatter3d"
                      }
                    ],
                    "scattercarpet": [
                      {
                        "marker": {
                          "colorbar": {
                            "outlinewidth": 0,
                            "ticks": ""
                          }
                        },
                        "type": "scattercarpet"
                      }
                    ],
                    "scattergeo": [
                      {
                        "marker": {
                          "colorbar": {
                            "outlinewidth": 0,
                            "ticks": ""
                          }
                        },
                        "type": "scattergeo"
                      }
                    ],
                    "scattergl": [
                      {
                        "marker": {
                          "colorbar": {
                            "outlinewidth": 0,
                            "ticks": ""
                          }
                        },
                        "type": "scattergl"
                      }
                    ],
                    "scattermapbox": [
                      {
                        "marker": {
                          "colorbar": {
                            "outlinewidth": 0,
                            "ticks": ""
                          }
                        },
                        "type": "scattermapbox"
                      }
                    ],
                    "scatterpolar": [
                      {
                        "marker": {
                          "colorbar": {
                            "outlinewidth": 0,
                            "ticks": ""
                          }
                        },
                        "type": "scatterpolar"
                      }
                    ],
                    "scatterpolargl": [
                      {
                        "marker": {
                          "colorbar": {
                            "outlinewidth": 0,
                            "ticks": ""
                          }
                        },
                        "type": "scatterpolargl"
                      }
                    ],
                    "scatterternary": [
                      {
                        "marker": {
                          "colorbar": {
                            "outlinewidth": 0,
                            "ticks": ""
                          }
                        },
                        "type": "scatterternary"
                      }
                    ],
                    "surface": [
                      {
                        "colorbar": {
                          "outlinewidth": 0,
                          "ticks": ""
                        },
                        "colorscale": [
                          [
                            0,
                            "#0d0887"
                          ],
                          [
                            0.1111111111111111,
                            "#46039f"
                          ],
                          [
                            0.2222222222222222,
                            "#7201a8"
                          ],
                          [
                            0.3333333333333333,
                            "#9c179e"
                          ],
                          [
                            0.4444444444444444,
                            "#bd3786"
                          ],
                          [
                            0.5555555555555556,
                            "#d8576b"
                          ],
                          [
                            0.6666666666666666,
                            "#ed7953"
                          ],
                          [
                            0.7777777777777778,
                            "#fb9f3a"
                          ],
                          [
                            0.8888888888888888,
                            "#fdca26"
                          ],
                          [
                            1,
                            "#f0f921"
                          ]
                        ],
                        "type": "surface"
                      }
                    ],
                    "table": [
                      {
                        "cells": {
                          "fill": {
                            "color": "#EBF0F8"
                          },
                          "line": {
                            "color": "white"
                          }
                        },
                        "header": {
                          "fill": {
                            "color": "#C8D4E3"
                          },
                          "line": {
                            "color": "white"
                          }
                        },
                        "type": "table"
                      }
                    ]
                  },
                  "layout": {
                    "annotationdefaults": {
                      "arrowcolor": "#2a3f5f",
                      "arrowhead": 0,
                      "arrowwidth": 1
                    },
                    "autotypenumbers": "strict",
                    "coloraxis": {
                      "colorbar": {
                        "outlinewidth": 0,
                        "ticks": ""
                      }
                    },
                    "colorscale": {
                      "diverging": [
                        [
                          0,
                          "#8e0152"
                        ],
                        [
                          0.1,
                          "#c51b7d"
                        ],
                        [
                          0.2,
                          "#de77ae"
                        ],
                        [
                          0.3,
                          "#f1b6da"
                        ],
                        [
                          0.4,
                          "#fde0ef"
                        ],
                        [
                          0.5,
                          "#f7f7f7"
                        ],
                        [
                          0.6,
                          "#e6f5d0"
                        ],
                        [
                          0.7,
                          "#b8e186"
                        ],
                        [
                          0.8,
                          "#7fbc41"
                        ],
                        [
                          0.9,
                          "#4d9221"
                        ],
                        [
                          1,
                          "#276419"
                        ]
                      ],
                      "sequential": [
                        [
                          0,
                          "#0d0887"
                        ],
                        [
                          0.1111111111111111,
                          "#46039f"
                        ],
                        [
                          0.2222222222222222,
                          "#7201a8"
                        ],
                        [
                          0.3333333333333333,
                          "#9c179e"
                        ],
                        [
                          0.4444444444444444,
                          "#bd3786"
                        ],
                        [
                          0.5555555555555556,
                          "#d8576b"
                        ],
                        [
                          0.6666666666666666,
                          "#ed7953"
                        ],
                        [
                          0.7777777777777778,
                          "#fb9f3a"
                        ],
                        [
                          0.8888888888888888,
                          "#fdca26"
                        ],
                        [
                          1,
                          "#f0f921"
                        ]
                      ],
                      "sequentialminus": [
                        [
                          0,
                          "#0d0887"
                        ],
                        [
                          0.1111111111111111,
                          "#46039f"
                        ],
                        [
                          0.2222222222222222,
                          "#7201a8"
                        ],
                        [
                          0.3333333333333333,
                          "#9c179e"
                        ],
                        [
                          0.4444444444444444,
                          "#bd3786"
                        ],
                        [
                          0.5555555555555556,
                          "#d8576b"
                        ],
                        [
                          0.6666666666666666,
                          "#ed7953"
                        ],
                        [
                          0.7777777777777778,
                          "#fb9f3a"
                        ],
                        [
                          0.8888888888888888,
                          "#fdca26"
                        ],
                        [
                          1,
                          "#f0f921"
                        ]
                      ]
                    },
                    "colorway": [
                      "#636efa",
                      "#EF553B",
                      "#00cc96",
                      "#ab63fa",
                      "#FFA15A",
                      "#19d3f3",
                      "#FF6692",
                      "#B6E880",
                      "#FF97FF",
                      "#FECB52"
                    ],
                    "font": {
                      "color": "#2a3f5f"
                    },
                    "geo": {
                      "bgcolor": "white",
                      "lakecolor": "white",
                      "landcolor": "#E5ECF6",
                      "showlakes": true,
                      "showland": true,
                      "subunitcolor": "white"
                    },
                    "hoverlabel": {
                      "align": "left"
                    },
                    "hovermode": "closest",
                    "mapbox": {
                      "style": "light"
                    },
                    "paper_bgcolor": "white",
                    "plot_bgcolor": "#E5ECF6",
                    "polar": {
                      "angularaxis": {
                        "gridcolor": "white",
                        "linecolor": "white",
                        "ticks": ""
                      },
                      "bgcolor": "#E5ECF6",
                      "radialaxis": {
                        "gridcolor": "white",
                        "linecolor": "white",
                        "ticks": ""
                      }
                    },
                    "scene": {
                      "xaxis": {
                        "backgroundcolor": "#E5ECF6",
                        "gridcolor": "white",
                        "gridwidth": 2,
                        "linecolor": "white",
                        "showbackground": true,
                        "ticks": "",
                        "zerolinecolor": "white"
                      },
                      "yaxis": {
                        "backgroundcolor": "#E5ECF6",
                        "gridcolor": "white",
                        "gridwidth": 2,
                        "linecolor": "white",
                        "showbackground": true,
                        "ticks": "",
                        "zerolinecolor": "white"
                      },
                      "zaxis": {
                        "backgroundcolor": "#E5ECF6",
                        "gridcolor": "white",
                        "gridwidth": 2,
                        "linecolor": "white",
                        "showbackground": true,
                        "ticks": "",
                        "zerolinecolor": "white"
                      }
                    },
                    "shapedefaults": {
                      "line": {
                        "color": "#2a3f5f"
                      }
                    },
                    "ternary": {
                      "aaxis": {
                        "gridcolor": "white",
                        "linecolor": "white",
                        "ticks": ""
                      },
                      "baxis": {
                        "gridcolor": "white",
                        "linecolor": "white",
                        "ticks": ""
                      },
                      "bgcolor": "#E5ECF6",
                      "caxis": {
                        "gridcolor": "white",
                        "linecolor": "white",
                        "ticks": ""
                      }
                    },
                    "title": {
                      "x": 0.05
                    },
                    "xaxis": {
                      "automargin": true,
                      "gridcolor": "white",
                      "linecolor": "white",
                      "ticks": "",
                      "title": {
                        "standoff": 15
                      },
                      "zerolinecolor": "white",
                      "zerolinewidth": 2
                    },
                    "yaxis": {
                      "automargin": true,
                      "gridcolor": "white",
                      "linecolor": "white",
                      "ticks": "",
                      "title": {
                        "standoff": 15
                      },
                      "zerolinecolor": "white",
                      "zerolinewidth": 2
                    }
                  }
                },
                "title": {
                  "font": {
                    "size": 24
                  },
                  "text": "Top 5 Singers with The Most Numbers of Top 10 Songs (2019-2024)"
                },
                "width": 1000,
                "xaxis": {
                  "anchor": "y",
                  "domain": [
                    0,
                    1
                  ],
                  "tickfont": {
                    "size": 16
                  },
                  "title": {
                    "font": {
                      "size": 20
                    },
                    "text": "Singer(s)"
                  }
                },
                "yaxis": {
                  "anchor": "x",
                  "domain": [
                    0,
                    1
                  ],
                  "tickfont": {
                    "size": 16
                  },
                  "title": {
                    "font": {
                      "size": 20
                    },
                    "text": "No. of Top 10 Songs"
                  }
                }
              }
            }
          },
          "metadata": {},
          "output_type": "display_data"
        }
      ],
      "source": [
        "# Top 5 Singers with the most numbers of Top 10 Songs (2019-2024)\n",
        "\n",
        "# Create a bar chart\n",
        "fig = px.bar(\n",
        "    top5_singers,\n",
        "    x='Singer(s)',\n",
        "    y='No. of Top 10 Songs',\n",
        "    color='No. of Top 10 Songs',\n",
        "    title='Top 5 Singers with The Most Numbers of Top 10 Songs (2019-2024)',\n",
        "    width=1000\n",
        ")\n",
        "\n",
        "# Customize the chart\n",
        "fig.update_layout(\n",
        "    xaxis_title='Singer(s)',\n",
        "    yaxis_title='No. of Top 10 Songs',\n",
        "    title_font=dict(size=24),\n",
        "    xaxis_title_font=dict(size=20),\n",
        "    yaxis_title_font=dict(size=20),\n",
        "    xaxis=dict(\n",
        "        tickfont=dict(size=16)\n",
        "    ),\n",
        "    yaxis=dict(\n",
        "        tickfont=dict(size=16)\n",
        "    ),\n",
        "    hoverlabel=dict(\n",
        "        font=dict(\n",
        "            family=\"Arial\",\n",
        "            size=14\n",
        "        )\n",
        "    ),\n",
        "    bargap=0.2\n",
        ")\n",
        "\n",
        "# Show the chart\n",
        "fig.show()\n"
      ]
    },
    {
      "cell_type": "markdown",
      "metadata": {},
      "source": [
        "No.1 Songs with Most Weeks on Chart (2019-2024)"
      ]
    },
    {
      "cell_type": "code",
      "execution_count": 96,
      "metadata": {
        "colab": {
          "base_uri": "https://localhost:8080/"
        },
        "id": "W_tay2u5_DB9",
        "outputId": "724281c3-8790-4491-fa83-b783637c368e"
      },
      "outputs": [
        {
          "name": "stdout",
          "output_type": "stream",
          "text": [
            "   Number of Weeks  Count of Songs\n",
            "4               55               1\n",
            "1               17               1\n",
            "0               12               1\n",
            "3               10               1\n",
            "2                2               1\n"
          ]
        }
      ],
      "source": [
        "# Filter for songs that reached No. 1\n",
        "no1_songs = df[df['Rank'] == 1]\n",
        "\n",
        "# Group the songs by Title and Singer(s) and count the maximum weeks\n",
        "weeks_count = no1_songs.groupby(['Title', 'Singer(s)'])['Weeks on Chart'].max().reset_index()\n",
        "\n",
        "# Count how many songs spend each number of weeks on chart\n",
        "weeks_to_no1_count = weeks_count['Weeks on Chart'].value_counts().reset_index()\n",
        "\n",
        "# Rename the columns for clarity\n",
        "weeks_to_no1_count.columns = ['Number of Weeks', 'Count of Songs']\n",
        "\n",
        "# Sort by the number of weeks in ascending order\n",
        "weeks_to_no1_count_sorted = weeks_to_no1_count.sort_values(by=['Number of Weeks'], ascending=False)\n",
        "\n",
        "# Show the top 10 results\n",
        "top10_weeks_to_no1_count_sorted = weeks_to_no1_count_sorted.head(10)\n",
        "\n",
        "# Display the final DataFrame\n",
        "print(top10_weeks_to_no1_count_sorted)\n"
      ]
    },
    {
      "cell_type": "code",
      "execution_count": 97,
      "metadata": {
        "colab": {
          "base_uri": "https://localhost:8080/",
          "height": 542
        },
        "id": "-MSwtwvfHCKv",
        "outputId": "4923778a-fa90-4f8c-c4a4-3b1c1400578f"
      },
      "outputs": [
        {
          "data": {
            "application/vnd.plotly.v1+json": {
              "config": {
                "plotlyServerURL": "https://plot.ly"
              },
              "data": [
                {
                  "alignmentgroup": "True",
                  "hovertemplate": "Number of Weeks=%{x}<br>Count of Songs=%{y}<extra></extra>",
                  "legendgroup": "",
                  "marker": {
                    "color": "#E48F72",
                    "pattern": {
                      "shape": ""
                    }
                  },
                  "name": "",
                  "offsetgroup": "",
                  "orientation": "v",
                  "showlegend": false,
                  "textposition": "auto",
                  "type": "bar",
                  "x": [
                    55,
                    17,
                    12,
                    10,
                    2
                  ],
                  "xaxis": "x",
                  "y": [
                    1,
                    1,
                    1,
                    1,
                    1
                  ],
                  "yaxis": "y"
                }
              ],
              "layout": {
                "bargap": 0.2,
                "barmode": "relative",
                "hoverlabel": {
                  "font": {
                    "family": "Arial",
                    "size": 14
                  }
                },
                "legend": {
                  "tracegroupgap": 0
                },
                "template": {
                  "data": {
                    "bar": [
                      {
                        "error_x": {
                          "color": "#2a3f5f"
                        },
                        "error_y": {
                          "color": "#2a3f5f"
                        },
                        "marker": {
                          "line": {
                            "color": "#E5ECF6",
                            "width": 0.5
                          },
                          "pattern": {
                            "fillmode": "overlay",
                            "size": 10,
                            "solidity": 0.2
                          }
                        },
                        "type": "bar"
                      }
                    ],
                    "barpolar": [
                      {
                        "marker": {
                          "line": {
                            "color": "#E5ECF6",
                            "width": 0.5
                          },
                          "pattern": {
                            "fillmode": "overlay",
                            "size": 10,
                            "solidity": 0.2
                          }
                        },
                        "type": "barpolar"
                      }
                    ],
                    "carpet": [
                      {
                        "aaxis": {
                          "endlinecolor": "#2a3f5f",
                          "gridcolor": "white",
                          "linecolor": "white",
                          "minorgridcolor": "white",
                          "startlinecolor": "#2a3f5f"
                        },
                        "baxis": {
                          "endlinecolor": "#2a3f5f",
                          "gridcolor": "white",
                          "linecolor": "white",
                          "minorgridcolor": "white",
                          "startlinecolor": "#2a3f5f"
                        },
                        "type": "carpet"
                      }
                    ],
                    "choropleth": [
                      {
                        "colorbar": {
                          "outlinewidth": 0,
                          "ticks": ""
                        },
                        "type": "choropleth"
                      }
                    ],
                    "contour": [
                      {
                        "colorbar": {
                          "outlinewidth": 0,
                          "ticks": ""
                        },
                        "colorscale": [
                          [
                            0,
                            "#0d0887"
                          ],
                          [
                            0.1111111111111111,
                            "#46039f"
                          ],
                          [
                            0.2222222222222222,
                            "#7201a8"
                          ],
                          [
                            0.3333333333333333,
                            "#9c179e"
                          ],
                          [
                            0.4444444444444444,
                            "#bd3786"
                          ],
                          [
                            0.5555555555555556,
                            "#d8576b"
                          ],
                          [
                            0.6666666666666666,
                            "#ed7953"
                          ],
                          [
                            0.7777777777777778,
                            "#fb9f3a"
                          ],
                          [
                            0.8888888888888888,
                            "#fdca26"
                          ],
                          [
                            1,
                            "#f0f921"
                          ]
                        ],
                        "type": "contour"
                      }
                    ],
                    "contourcarpet": [
                      {
                        "colorbar": {
                          "outlinewidth": 0,
                          "ticks": ""
                        },
                        "type": "contourcarpet"
                      }
                    ],
                    "heatmap": [
                      {
                        "colorbar": {
                          "outlinewidth": 0,
                          "ticks": ""
                        },
                        "colorscale": [
                          [
                            0,
                            "#0d0887"
                          ],
                          [
                            0.1111111111111111,
                            "#46039f"
                          ],
                          [
                            0.2222222222222222,
                            "#7201a8"
                          ],
                          [
                            0.3333333333333333,
                            "#9c179e"
                          ],
                          [
                            0.4444444444444444,
                            "#bd3786"
                          ],
                          [
                            0.5555555555555556,
                            "#d8576b"
                          ],
                          [
                            0.6666666666666666,
                            "#ed7953"
                          ],
                          [
                            0.7777777777777778,
                            "#fb9f3a"
                          ],
                          [
                            0.8888888888888888,
                            "#fdca26"
                          ],
                          [
                            1,
                            "#f0f921"
                          ]
                        ],
                        "type": "heatmap"
                      }
                    ],
                    "heatmapgl": [
                      {
                        "colorbar": {
                          "outlinewidth": 0,
                          "ticks": ""
                        },
                        "colorscale": [
                          [
                            0,
                            "#0d0887"
                          ],
                          [
                            0.1111111111111111,
                            "#46039f"
                          ],
                          [
                            0.2222222222222222,
                            "#7201a8"
                          ],
                          [
                            0.3333333333333333,
                            "#9c179e"
                          ],
                          [
                            0.4444444444444444,
                            "#bd3786"
                          ],
                          [
                            0.5555555555555556,
                            "#d8576b"
                          ],
                          [
                            0.6666666666666666,
                            "#ed7953"
                          ],
                          [
                            0.7777777777777778,
                            "#fb9f3a"
                          ],
                          [
                            0.8888888888888888,
                            "#fdca26"
                          ],
                          [
                            1,
                            "#f0f921"
                          ]
                        ],
                        "type": "heatmapgl"
                      }
                    ],
                    "histogram": [
                      {
                        "marker": {
                          "pattern": {
                            "fillmode": "overlay",
                            "size": 10,
                            "solidity": 0.2
                          }
                        },
                        "type": "histogram"
                      }
                    ],
                    "histogram2d": [
                      {
                        "colorbar": {
                          "outlinewidth": 0,
                          "ticks": ""
                        },
                        "colorscale": [
                          [
                            0,
                            "#0d0887"
                          ],
                          [
                            0.1111111111111111,
                            "#46039f"
                          ],
                          [
                            0.2222222222222222,
                            "#7201a8"
                          ],
                          [
                            0.3333333333333333,
                            "#9c179e"
                          ],
                          [
                            0.4444444444444444,
                            "#bd3786"
                          ],
                          [
                            0.5555555555555556,
                            "#d8576b"
                          ],
                          [
                            0.6666666666666666,
                            "#ed7953"
                          ],
                          [
                            0.7777777777777778,
                            "#fb9f3a"
                          ],
                          [
                            0.8888888888888888,
                            "#fdca26"
                          ],
                          [
                            1,
                            "#f0f921"
                          ]
                        ],
                        "type": "histogram2d"
                      }
                    ],
                    "histogram2dcontour": [
                      {
                        "colorbar": {
                          "outlinewidth": 0,
                          "ticks": ""
                        },
                        "colorscale": [
                          [
                            0,
                            "#0d0887"
                          ],
                          [
                            0.1111111111111111,
                            "#46039f"
                          ],
                          [
                            0.2222222222222222,
                            "#7201a8"
                          ],
                          [
                            0.3333333333333333,
                            "#9c179e"
                          ],
                          [
                            0.4444444444444444,
                            "#bd3786"
                          ],
                          [
                            0.5555555555555556,
                            "#d8576b"
                          ],
                          [
                            0.6666666666666666,
                            "#ed7953"
                          ],
                          [
                            0.7777777777777778,
                            "#fb9f3a"
                          ],
                          [
                            0.8888888888888888,
                            "#fdca26"
                          ],
                          [
                            1,
                            "#f0f921"
                          ]
                        ],
                        "type": "histogram2dcontour"
                      }
                    ],
                    "mesh3d": [
                      {
                        "colorbar": {
                          "outlinewidth": 0,
                          "ticks": ""
                        },
                        "type": "mesh3d"
                      }
                    ],
                    "parcoords": [
                      {
                        "line": {
                          "colorbar": {
                            "outlinewidth": 0,
                            "ticks": ""
                          }
                        },
                        "type": "parcoords"
                      }
                    ],
                    "pie": [
                      {
                        "automargin": true,
                        "type": "pie"
                      }
                    ],
                    "scatter": [
                      {
                        "fillpattern": {
                          "fillmode": "overlay",
                          "size": 10,
                          "solidity": 0.2
                        },
                        "type": "scatter"
                      }
                    ],
                    "scatter3d": [
                      {
                        "line": {
                          "colorbar": {
                            "outlinewidth": 0,
                            "ticks": ""
                          }
                        },
                        "marker": {
                          "colorbar": {
                            "outlinewidth": 0,
                            "ticks": ""
                          }
                        },
                        "type": "scatter3d"
                      }
                    ],
                    "scattercarpet": [
                      {
                        "marker": {
                          "colorbar": {
                            "outlinewidth": 0,
                            "ticks": ""
                          }
                        },
                        "type": "scattercarpet"
                      }
                    ],
                    "scattergeo": [
                      {
                        "marker": {
                          "colorbar": {
                            "outlinewidth": 0,
                            "ticks": ""
                          }
                        },
                        "type": "scattergeo"
                      }
                    ],
                    "scattergl": [
                      {
                        "marker": {
                          "colorbar": {
                            "outlinewidth": 0,
                            "ticks": ""
                          }
                        },
                        "type": "scattergl"
                      }
                    ],
                    "scattermapbox": [
                      {
                        "marker": {
                          "colorbar": {
                            "outlinewidth": 0,
                            "ticks": ""
                          }
                        },
                        "type": "scattermapbox"
                      }
                    ],
                    "scatterpolar": [
                      {
                        "marker": {
                          "colorbar": {
                            "outlinewidth": 0,
                            "ticks": ""
                          }
                        },
                        "type": "scatterpolar"
                      }
                    ],
                    "scatterpolargl": [
                      {
                        "marker": {
                          "colorbar": {
                            "outlinewidth": 0,
                            "ticks": ""
                          }
                        },
                        "type": "scatterpolargl"
                      }
                    ],
                    "scatterternary": [
                      {
                        "marker": {
                          "colorbar": {
                            "outlinewidth": 0,
                            "ticks": ""
                          }
                        },
                        "type": "scatterternary"
                      }
                    ],
                    "surface": [
                      {
                        "colorbar": {
                          "outlinewidth": 0,
                          "ticks": ""
                        },
                        "colorscale": [
                          [
                            0,
                            "#0d0887"
                          ],
                          [
                            0.1111111111111111,
                            "#46039f"
                          ],
                          [
                            0.2222222222222222,
                            "#7201a8"
                          ],
                          [
                            0.3333333333333333,
                            "#9c179e"
                          ],
                          [
                            0.4444444444444444,
                            "#bd3786"
                          ],
                          [
                            0.5555555555555556,
                            "#d8576b"
                          ],
                          [
                            0.6666666666666666,
                            "#ed7953"
                          ],
                          [
                            0.7777777777777778,
                            "#fb9f3a"
                          ],
                          [
                            0.8888888888888888,
                            "#fdca26"
                          ],
                          [
                            1,
                            "#f0f921"
                          ]
                        ],
                        "type": "surface"
                      }
                    ],
                    "table": [
                      {
                        "cells": {
                          "fill": {
                            "color": "#EBF0F8"
                          },
                          "line": {
                            "color": "white"
                          }
                        },
                        "header": {
                          "fill": {
                            "color": "#C8D4E3"
                          },
                          "line": {
                            "color": "white"
                          }
                        },
                        "type": "table"
                      }
                    ]
                  },
                  "layout": {
                    "annotationdefaults": {
                      "arrowcolor": "#2a3f5f",
                      "arrowhead": 0,
                      "arrowwidth": 1
                    },
                    "autotypenumbers": "strict",
                    "coloraxis": {
                      "colorbar": {
                        "outlinewidth": 0,
                        "ticks": ""
                      }
                    },
                    "colorscale": {
                      "diverging": [
                        [
                          0,
                          "#8e0152"
                        ],
                        [
                          0.1,
                          "#c51b7d"
                        ],
                        [
                          0.2,
                          "#de77ae"
                        ],
                        [
                          0.3,
                          "#f1b6da"
                        ],
                        [
                          0.4,
                          "#fde0ef"
                        ],
                        [
                          0.5,
                          "#f7f7f7"
                        ],
                        [
                          0.6,
                          "#e6f5d0"
                        ],
                        [
                          0.7,
                          "#b8e186"
                        ],
                        [
                          0.8,
                          "#7fbc41"
                        ],
                        [
                          0.9,
                          "#4d9221"
                        ],
                        [
                          1,
                          "#276419"
                        ]
                      ],
                      "sequential": [
                        [
                          0,
                          "#0d0887"
                        ],
                        [
                          0.1111111111111111,
                          "#46039f"
                        ],
                        [
                          0.2222222222222222,
                          "#7201a8"
                        ],
                        [
                          0.3333333333333333,
                          "#9c179e"
                        ],
                        [
                          0.4444444444444444,
                          "#bd3786"
                        ],
                        [
                          0.5555555555555556,
                          "#d8576b"
                        ],
                        [
                          0.6666666666666666,
                          "#ed7953"
                        ],
                        [
                          0.7777777777777778,
                          "#fb9f3a"
                        ],
                        [
                          0.8888888888888888,
                          "#fdca26"
                        ],
                        [
                          1,
                          "#f0f921"
                        ]
                      ],
                      "sequentialminus": [
                        [
                          0,
                          "#0d0887"
                        ],
                        [
                          0.1111111111111111,
                          "#46039f"
                        ],
                        [
                          0.2222222222222222,
                          "#7201a8"
                        ],
                        [
                          0.3333333333333333,
                          "#9c179e"
                        ],
                        [
                          0.4444444444444444,
                          "#bd3786"
                        ],
                        [
                          0.5555555555555556,
                          "#d8576b"
                        ],
                        [
                          0.6666666666666666,
                          "#ed7953"
                        ],
                        [
                          0.7777777777777778,
                          "#fb9f3a"
                        ],
                        [
                          0.8888888888888888,
                          "#fdca26"
                        ],
                        [
                          1,
                          "#f0f921"
                        ]
                      ]
                    },
                    "colorway": [
                      "#636efa",
                      "#EF553B",
                      "#00cc96",
                      "#ab63fa",
                      "#FFA15A",
                      "#19d3f3",
                      "#FF6692",
                      "#B6E880",
                      "#FF97FF",
                      "#FECB52"
                    ],
                    "font": {
                      "color": "#2a3f5f"
                    },
                    "geo": {
                      "bgcolor": "white",
                      "lakecolor": "white",
                      "landcolor": "#E5ECF6",
                      "showlakes": true,
                      "showland": true,
                      "subunitcolor": "white"
                    },
                    "hoverlabel": {
                      "align": "left"
                    },
                    "hovermode": "closest",
                    "mapbox": {
                      "style": "light"
                    },
                    "paper_bgcolor": "white",
                    "plot_bgcolor": "#E5ECF6",
                    "polar": {
                      "angularaxis": {
                        "gridcolor": "white",
                        "linecolor": "white",
                        "ticks": ""
                      },
                      "bgcolor": "#E5ECF6",
                      "radialaxis": {
                        "gridcolor": "white",
                        "linecolor": "white",
                        "ticks": ""
                      }
                    },
                    "scene": {
                      "xaxis": {
                        "backgroundcolor": "#E5ECF6",
                        "gridcolor": "white",
                        "gridwidth": 2,
                        "linecolor": "white",
                        "showbackground": true,
                        "ticks": "",
                        "zerolinecolor": "white"
                      },
                      "yaxis": {
                        "backgroundcolor": "#E5ECF6",
                        "gridcolor": "white",
                        "gridwidth": 2,
                        "linecolor": "white",
                        "showbackground": true,
                        "ticks": "",
                        "zerolinecolor": "white"
                      },
                      "zaxis": {
                        "backgroundcolor": "#E5ECF6",
                        "gridcolor": "white",
                        "gridwidth": 2,
                        "linecolor": "white",
                        "showbackground": true,
                        "ticks": "",
                        "zerolinecolor": "white"
                      }
                    },
                    "shapedefaults": {
                      "line": {
                        "color": "#2a3f5f"
                      }
                    },
                    "ternary": {
                      "aaxis": {
                        "gridcolor": "white",
                        "linecolor": "white",
                        "ticks": ""
                      },
                      "baxis": {
                        "gridcolor": "white",
                        "linecolor": "white",
                        "ticks": ""
                      },
                      "bgcolor": "#E5ECF6",
                      "caxis": {
                        "gridcolor": "white",
                        "linecolor": "white",
                        "ticks": ""
                      }
                    },
                    "title": {
                      "x": 0.05
                    },
                    "xaxis": {
                      "automargin": true,
                      "gridcolor": "white",
                      "linecolor": "white",
                      "ticks": "",
                      "title": {
                        "standoff": 15
                      },
                      "zerolinecolor": "white",
                      "zerolinewidth": 2
                    },
                    "yaxis": {
                      "automargin": true,
                      "gridcolor": "white",
                      "linecolor": "white",
                      "ticks": "",
                      "title": {
                        "standoff": 15
                      },
                      "zerolinecolor": "white",
                      "zerolinewidth": 2
                    }
                  }
                },
                "title": {
                  "font": {
                    "size": 24
                  },
                  "text": "No.1 Songs with Most Weeks on Chart (2019-2024)"
                },
                "width": 1000,
                "xaxis": {
                  "anchor": "y",
                  "domain": [
                    0,
                    1
                  ],
                  "tickfont": {
                    "size": 16
                  },
                  "title": {
                    "font": {
                      "size": 20
                    },
                    "text": "Number of Weeks"
                  },
                  "type": "category"
                },
                "yaxis": {
                  "anchor": "x",
                  "domain": [
                    0,
                    1
                  ],
                  "tickfont": {
                    "size": 16
                  },
                  "tickmode": "linear",
                  "title": {
                    "font": {
                      "size": 20
                    },
                    "text": "Count of Songs"
                  }
                }
              }
            }
          },
          "metadata": {},
          "output_type": "display_data"
        }
      ],
      "source": [
        "# No.1 Songs with Most Weeks on Chart (2019-2024)\n",
        "\n",
        "# Create a bar chart\n",
        "fig = px.bar(\n",
        "    top10_weeks_to_no1_count_sorted,\n",
        "    x='Number of Weeks',\n",
        "    y='Count of Songs',\n",
        "    color_discrete_sequence=['#E48F72'],\n",
        "    title='No.1 Songs with Most Weeks on Chart (2019-2024)',\n",
        "    width=1000\n",
        ")\n",
        "\n",
        "# Customize the chart\n",
        "fig.update_layout(\n",
        "    title_font=dict(size=24),\n",
        "    xaxis_title='Number of Weeks',\n",
        "    yaxis_title='Count of Songs',\n",
        "    xaxis_title_font=dict(size=20),\n",
        "    yaxis_title_font=dict(size=20),\n",
        "    xaxis=dict(\n",
        "        tickfont=dict(size=16),\n",
        "        type='category'\n",
        "    ),\n",
        "    yaxis=dict(\n",
        "        tickfont=dict(size=16),\n",
        "        tickmode='linear'\n",
        "    ),\n",
        "    hoverlabel=dict(\n",
        "        font=dict(\n",
        "            family=\"Arial\",\n",
        "            size=14\n",
        "        )\n",
        "    ),\n",
        "    bargap=0.2\n",
        ")\n",
        "\n",
        "# Show the chart\n",
        "fig.show()\n"
      ]
    },
    {
      "cell_type": "markdown",
      "metadata": {},
      "source": [
        "Songs with the most weeks on chart (2019-2024)"
      ]
    },
    {
      "cell_type": "code",
      "execution_count": 98,
      "metadata": {
        "colab": {
          "base_uri": "https://localhost:8080/"
        },
        "id": "w4EoCw3YQZV5",
        "outputId": "76927edc-20b8-44c5-d869-8ae6a0332c1f"
      },
      "outputs": [
        {
          "name": "stdout",
          "output_type": "stream",
          "text": [
            "                                 Title                   Singer(s)  \\\n",
            "12     All I Want For Christmas Is You                Mariah Carey   \n",
            "20                           As It Was                Harry Styles   \n",
            "316            Something In The Orange                  Zach Bryan   \n",
            "283  Rockin' Around The Christmas Tree                  Brenda Lee   \n",
            "398                          You Proof               Morgan Wallen   \n",
            "177                   Jingle Bell Rock                 Bobby Helms   \n",
            "313                             Snooze                         SZA   \n",
            "182                          Kill Bill                         SZA   \n",
            "282              Rock And A Hard Place            Bailey Zimmerman   \n",
            "117                     Girls Like You  Maroon 5 Featuring Cardi B   \n",
            "\n",
            "     Weeks on Chart  \n",
            "12               62  \n",
            "20               60  \n",
            "316              57  \n",
            "283              55  \n",
            "398              54  \n",
            "177              53  \n",
            "313              52  \n",
            "182              50  \n",
            "282              50  \n",
            "117              50  \n"
          ]
        }
      ],
      "source": [
        "# Group the songs by Title and Singer(s) and count the maximum weeks\n",
        "weeks_on_chart = df.groupby(['Title', 'Singer(s)'])['Weeks on Chart'].max().reset_index()\n",
        "\n",
        "# Sort by the number of weeks in ascending order\n",
        "weeks_on_chart_sorted = weeks_on_chart.sort_values(by=['Weeks on Chart'], ascending=False)\n",
        "\n",
        "# Show the top 10 results\n",
        "top10_weeks_on_chart_sorted = weeks_on_chart_sorted.head(10)\n",
        "\n",
        "# Display the final DataFrame\n",
        "print(top10_weeks_on_chart_sorted)\n"
      ]
    },
    {
      "cell_type": "code",
      "execution_count": 99,
      "metadata": {
        "colab": {
          "base_uri": "https://localhost:8080/",
          "height": 542
        },
        "id": "JMcXi1zmTJD9",
        "outputId": "07968cbf-91fb-486e-ce92-1e14161b10df"
      },
      "outputs": [
        {
          "data": {
            "application/vnd.plotly.v1+json": {
              "config": {
                "plotlyServerURL": "https://plot.ly"
              },
              "data": [
                {
                  "alignmentgroup": "True",
                  "customdata": [
                    [
                      "Mariah Carey"
                    ],
                    [
                      "Harry Styles"
                    ],
                    [
                      "Zach Bryan"
                    ],
                    [
                      "Brenda Lee"
                    ],
                    [
                      "Morgan Wallen"
                    ],
                    [
                      "Bobby Helms"
                    ],
                    [
                      "SZA"
                    ],
                    [
                      "SZA"
                    ],
                    [
                      "Bailey Zimmerman"
                    ],
                    [
                      "Maroon 5 Featuring Cardi B"
                    ]
                  ],
                  "hovertemplate": "Title=%{x}<br>Weeks on Chart=%{marker.color}<br>Singer(s)=%{customdata[0]}<extra></extra>",
                  "legendgroup": "",
                  "marker": {
                    "color": [
                      62,
                      60,
                      57,
                      55,
                      54,
                      53,
                      52,
                      50,
                      50,
                      50
                    ],
                    "coloraxis": "coloraxis",
                    "pattern": {
                      "shape": ""
                    }
                  },
                  "name": "",
                  "offsetgroup": "",
                  "orientation": "v",
                  "showlegend": false,
                  "textposition": "auto",
                  "type": "bar",
                  "x": [
                    "All I Want For Christmas Is You",
                    "As It Was",
                    "Something In The Orange",
                    "Rockin' Around The Christmas Tree",
                    "You Proof",
                    "Jingle Bell Rock",
                    "Snooze",
                    "Kill Bill",
                    "Rock And A Hard Place",
                    "Girls Like You"
                  ],
                  "xaxis": "x",
                  "y": [
                    62,
                    60,
                    57,
                    55,
                    54,
                    53,
                    52,
                    50,
                    50,
                    50
                  ],
                  "yaxis": "y"
                }
              ],
              "layout": {
                "bargap": 0.2,
                "barmode": "relative",
                "coloraxis": {
                  "colorbar": {
                    "title": {
                      "text": "Weeks on Chart"
                    }
                  },
                  "colorscale": [
                    [
                      0,
                      "#0d0887"
                    ],
                    [
                      0.1111111111111111,
                      "#46039f"
                    ],
                    [
                      0.2222222222222222,
                      "#7201a8"
                    ],
                    [
                      0.3333333333333333,
                      "#9c179e"
                    ],
                    [
                      0.4444444444444444,
                      "#bd3786"
                    ],
                    [
                      0.5555555555555556,
                      "#d8576b"
                    ],
                    [
                      0.6666666666666666,
                      "#ed7953"
                    ],
                    [
                      0.7777777777777778,
                      "#fb9f3a"
                    ],
                    [
                      0.8888888888888888,
                      "#fdca26"
                    ],
                    [
                      1,
                      "#f0f921"
                    ]
                  ]
                },
                "hoverlabel": {
                  "font": {
                    "family": "Arial",
                    "size": 14
                  }
                },
                "legend": {
                  "tracegroupgap": 0
                },
                "template": {
                  "data": {
                    "bar": [
                      {
                        "error_x": {
                          "color": "#2a3f5f"
                        },
                        "error_y": {
                          "color": "#2a3f5f"
                        },
                        "marker": {
                          "line": {
                            "color": "#E5ECF6",
                            "width": 0.5
                          },
                          "pattern": {
                            "fillmode": "overlay",
                            "size": 10,
                            "solidity": 0.2
                          }
                        },
                        "type": "bar"
                      }
                    ],
                    "barpolar": [
                      {
                        "marker": {
                          "line": {
                            "color": "#E5ECF6",
                            "width": 0.5
                          },
                          "pattern": {
                            "fillmode": "overlay",
                            "size": 10,
                            "solidity": 0.2
                          }
                        },
                        "type": "barpolar"
                      }
                    ],
                    "carpet": [
                      {
                        "aaxis": {
                          "endlinecolor": "#2a3f5f",
                          "gridcolor": "white",
                          "linecolor": "white",
                          "minorgridcolor": "white",
                          "startlinecolor": "#2a3f5f"
                        },
                        "baxis": {
                          "endlinecolor": "#2a3f5f",
                          "gridcolor": "white",
                          "linecolor": "white",
                          "minorgridcolor": "white",
                          "startlinecolor": "#2a3f5f"
                        },
                        "type": "carpet"
                      }
                    ],
                    "choropleth": [
                      {
                        "colorbar": {
                          "outlinewidth": 0,
                          "ticks": ""
                        },
                        "type": "choropleth"
                      }
                    ],
                    "contour": [
                      {
                        "colorbar": {
                          "outlinewidth": 0,
                          "ticks": ""
                        },
                        "colorscale": [
                          [
                            0,
                            "#0d0887"
                          ],
                          [
                            0.1111111111111111,
                            "#46039f"
                          ],
                          [
                            0.2222222222222222,
                            "#7201a8"
                          ],
                          [
                            0.3333333333333333,
                            "#9c179e"
                          ],
                          [
                            0.4444444444444444,
                            "#bd3786"
                          ],
                          [
                            0.5555555555555556,
                            "#d8576b"
                          ],
                          [
                            0.6666666666666666,
                            "#ed7953"
                          ],
                          [
                            0.7777777777777778,
                            "#fb9f3a"
                          ],
                          [
                            0.8888888888888888,
                            "#fdca26"
                          ],
                          [
                            1,
                            "#f0f921"
                          ]
                        ],
                        "type": "contour"
                      }
                    ],
                    "contourcarpet": [
                      {
                        "colorbar": {
                          "outlinewidth": 0,
                          "ticks": ""
                        },
                        "type": "contourcarpet"
                      }
                    ],
                    "heatmap": [
                      {
                        "colorbar": {
                          "outlinewidth": 0,
                          "ticks": ""
                        },
                        "colorscale": [
                          [
                            0,
                            "#0d0887"
                          ],
                          [
                            0.1111111111111111,
                            "#46039f"
                          ],
                          [
                            0.2222222222222222,
                            "#7201a8"
                          ],
                          [
                            0.3333333333333333,
                            "#9c179e"
                          ],
                          [
                            0.4444444444444444,
                            "#bd3786"
                          ],
                          [
                            0.5555555555555556,
                            "#d8576b"
                          ],
                          [
                            0.6666666666666666,
                            "#ed7953"
                          ],
                          [
                            0.7777777777777778,
                            "#fb9f3a"
                          ],
                          [
                            0.8888888888888888,
                            "#fdca26"
                          ],
                          [
                            1,
                            "#f0f921"
                          ]
                        ],
                        "type": "heatmap"
                      }
                    ],
                    "heatmapgl": [
                      {
                        "colorbar": {
                          "outlinewidth": 0,
                          "ticks": ""
                        },
                        "colorscale": [
                          [
                            0,
                            "#0d0887"
                          ],
                          [
                            0.1111111111111111,
                            "#46039f"
                          ],
                          [
                            0.2222222222222222,
                            "#7201a8"
                          ],
                          [
                            0.3333333333333333,
                            "#9c179e"
                          ],
                          [
                            0.4444444444444444,
                            "#bd3786"
                          ],
                          [
                            0.5555555555555556,
                            "#d8576b"
                          ],
                          [
                            0.6666666666666666,
                            "#ed7953"
                          ],
                          [
                            0.7777777777777778,
                            "#fb9f3a"
                          ],
                          [
                            0.8888888888888888,
                            "#fdca26"
                          ],
                          [
                            1,
                            "#f0f921"
                          ]
                        ],
                        "type": "heatmapgl"
                      }
                    ],
                    "histogram": [
                      {
                        "marker": {
                          "pattern": {
                            "fillmode": "overlay",
                            "size": 10,
                            "solidity": 0.2
                          }
                        },
                        "type": "histogram"
                      }
                    ],
                    "histogram2d": [
                      {
                        "colorbar": {
                          "outlinewidth": 0,
                          "ticks": ""
                        },
                        "colorscale": [
                          [
                            0,
                            "#0d0887"
                          ],
                          [
                            0.1111111111111111,
                            "#46039f"
                          ],
                          [
                            0.2222222222222222,
                            "#7201a8"
                          ],
                          [
                            0.3333333333333333,
                            "#9c179e"
                          ],
                          [
                            0.4444444444444444,
                            "#bd3786"
                          ],
                          [
                            0.5555555555555556,
                            "#d8576b"
                          ],
                          [
                            0.6666666666666666,
                            "#ed7953"
                          ],
                          [
                            0.7777777777777778,
                            "#fb9f3a"
                          ],
                          [
                            0.8888888888888888,
                            "#fdca26"
                          ],
                          [
                            1,
                            "#f0f921"
                          ]
                        ],
                        "type": "histogram2d"
                      }
                    ],
                    "histogram2dcontour": [
                      {
                        "colorbar": {
                          "outlinewidth": 0,
                          "ticks": ""
                        },
                        "colorscale": [
                          [
                            0,
                            "#0d0887"
                          ],
                          [
                            0.1111111111111111,
                            "#46039f"
                          ],
                          [
                            0.2222222222222222,
                            "#7201a8"
                          ],
                          [
                            0.3333333333333333,
                            "#9c179e"
                          ],
                          [
                            0.4444444444444444,
                            "#bd3786"
                          ],
                          [
                            0.5555555555555556,
                            "#d8576b"
                          ],
                          [
                            0.6666666666666666,
                            "#ed7953"
                          ],
                          [
                            0.7777777777777778,
                            "#fb9f3a"
                          ],
                          [
                            0.8888888888888888,
                            "#fdca26"
                          ],
                          [
                            1,
                            "#f0f921"
                          ]
                        ],
                        "type": "histogram2dcontour"
                      }
                    ],
                    "mesh3d": [
                      {
                        "colorbar": {
                          "outlinewidth": 0,
                          "ticks": ""
                        },
                        "type": "mesh3d"
                      }
                    ],
                    "parcoords": [
                      {
                        "line": {
                          "colorbar": {
                            "outlinewidth": 0,
                            "ticks": ""
                          }
                        },
                        "type": "parcoords"
                      }
                    ],
                    "pie": [
                      {
                        "automargin": true,
                        "type": "pie"
                      }
                    ],
                    "scatter": [
                      {
                        "fillpattern": {
                          "fillmode": "overlay",
                          "size": 10,
                          "solidity": 0.2
                        },
                        "type": "scatter"
                      }
                    ],
                    "scatter3d": [
                      {
                        "line": {
                          "colorbar": {
                            "outlinewidth": 0,
                            "ticks": ""
                          }
                        },
                        "marker": {
                          "colorbar": {
                            "outlinewidth": 0,
                            "ticks": ""
                          }
                        },
                        "type": "scatter3d"
                      }
                    ],
                    "scattercarpet": [
                      {
                        "marker": {
                          "colorbar": {
                            "outlinewidth": 0,
                            "ticks": ""
                          }
                        },
                        "type": "scattercarpet"
                      }
                    ],
                    "scattergeo": [
                      {
                        "marker": {
                          "colorbar": {
                            "outlinewidth": 0,
                            "ticks": ""
                          }
                        },
                        "type": "scattergeo"
                      }
                    ],
                    "scattergl": [
                      {
                        "marker": {
                          "colorbar": {
                            "outlinewidth": 0,
                            "ticks": ""
                          }
                        },
                        "type": "scattergl"
                      }
                    ],
                    "scattermapbox": [
                      {
                        "marker": {
                          "colorbar": {
                            "outlinewidth": 0,
                            "ticks": ""
                          }
                        },
                        "type": "scattermapbox"
                      }
                    ],
                    "scatterpolar": [
                      {
                        "marker": {
                          "colorbar": {
                            "outlinewidth": 0,
                            "ticks": ""
                          }
                        },
                        "type": "scatterpolar"
                      }
                    ],
                    "scatterpolargl": [
                      {
                        "marker": {
                          "colorbar": {
                            "outlinewidth": 0,
                            "ticks": ""
                          }
                        },
                        "type": "scatterpolargl"
                      }
                    ],
                    "scatterternary": [
                      {
                        "marker": {
                          "colorbar": {
                            "outlinewidth": 0,
                            "ticks": ""
                          }
                        },
                        "type": "scatterternary"
                      }
                    ],
                    "surface": [
                      {
                        "colorbar": {
                          "outlinewidth": 0,
                          "ticks": ""
                        },
                        "colorscale": [
                          [
                            0,
                            "#0d0887"
                          ],
                          [
                            0.1111111111111111,
                            "#46039f"
                          ],
                          [
                            0.2222222222222222,
                            "#7201a8"
                          ],
                          [
                            0.3333333333333333,
                            "#9c179e"
                          ],
                          [
                            0.4444444444444444,
                            "#bd3786"
                          ],
                          [
                            0.5555555555555556,
                            "#d8576b"
                          ],
                          [
                            0.6666666666666666,
                            "#ed7953"
                          ],
                          [
                            0.7777777777777778,
                            "#fb9f3a"
                          ],
                          [
                            0.8888888888888888,
                            "#fdca26"
                          ],
                          [
                            1,
                            "#f0f921"
                          ]
                        ],
                        "type": "surface"
                      }
                    ],
                    "table": [
                      {
                        "cells": {
                          "fill": {
                            "color": "#EBF0F8"
                          },
                          "line": {
                            "color": "white"
                          }
                        },
                        "header": {
                          "fill": {
                            "color": "#C8D4E3"
                          },
                          "line": {
                            "color": "white"
                          }
                        },
                        "type": "table"
                      }
                    ]
                  },
                  "layout": {
                    "annotationdefaults": {
                      "arrowcolor": "#2a3f5f",
                      "arrowhead": 0,
                      "arrowwidth": 1
                    },
                    "autotypenumbers": "strict",
                    "coloraxis": {
                      "colorbar": {
                        "outlinewidth": 0,
                        "ticks": ""
                      }
                    },
                    "colorscale": {
                      "diverging": [
                        [
                          0,
                          "#8e0152"
                        ],
                        [
                          0.1,
                          "#c51b7d"
                        ],
                        [
                          0.2,
                          "#de77ae"
                        ],
                        [
                          0.3,
                          "#f1b6da"
                        ],
                        [
                          0.4,
                          "#fde0ef"
                        ],
                        [
                          0.5,
                          "#f7f7f7"
                        ],
                        [
                          0.6,
                          "#e6f5d0"
                        ],
                        [
                          0.7,
                          "#b8e186"
                        ],
                        [
                          0.8,
                          "#7fbc41"
                        ],
                        [
                          0.9,
                          "#4d9221"
                        ],
                        [
                          1,
                          "#276419"
                        ]
                      ],
                      "sequential": [
                        [
                          0,
                          "#0d0887"
                        ],
                        [
                          0.1111111111111111,
                          "#46039f"
                        ],
                        [
                          0.2222222222222222,
                          "#7201a8"
                        ],
                        [
                          0.3333333333333333,
                          "#9c179e"
                        ],
                        [
                          0.4444444444444444,
                          "#bd3786"
                        ],
                        [
                          0.5555555555555556,
                          "#d8576b"
                        ],
                        [
                          0.6666666666666666,
                          "#ed7953"
                        ],
                        [
                          0.7777777777777778,
                          "#fb9f3a"
                        ],
                        [
                          0.8888888888888888,
                          "#fdca26"
                        ],
                        [
                          1,
                          "#f0f921"
                        ]
                      ],
                      "sequentialminus": [
                        [
                          0,
                          "#0d0887"
                        ],
                        [
                          0.1111111111111111,
                          "#46039f"
                        ],
                        [
                          0.2222222222222222,
                          "#7201a8"
                        ],
                        [
                          0.3333333333333333,
                          "#9c179e"
                        ],
                        [
                          0.4444444444444444,
                          "#bd3786"
                        ],
                        [
                          0.5555555555555556,
                          "#d8576b"
                        ],
                        [
                          0.6666666666666666,
                          "#ed7953"
                        ],
                        [
                          0.7777777777777778,
                          "#fb9f3a"
                        ],
                        [
                          0.8888888888888888,
                          "#fdca26"
                        ],
                        [
                          1,
                          "#f0f921"
                        ]
                      ]
                    },
                    "colorway": [
                      "#636efa",
                      "#EF553B",
                      "#00cc96",
                      "#ab63fa",
                      "#FFA15A",
                      "#19d3f3",
                      "#FF6692",
                      "#B6E880",
                      "#FF97FF",
                      "#FECB52"
                    ],
                    "font": {
                      "color": "#2a3f5f"
                    },
                    "geo": {
                      "bgcolor": "white",
                      "lakecolor": "white",
                      "landcolor": "#E5ECF6",
                      "showlakes": true,
                      "showland": true,
                      "subunitcolor": "white"
                    },
                    "hoverlabel": {
                      "align": "left"
                    },
                    "hovermode": "closest",
                    "mapbox": {
                      "style": "light"
                    },
                    "paper_bgcolor": "white",
                    "plot_bgcolor": "#E5ECF6",
                    "polar": {
                      "angularaxis": {
                        "gridcolor": "white",
                        "linecolor": "white",
                        "ticks": ""
                      },
                      "bgcolor": "#E5ECF6",
                      "radialaxis": {
                        "gridcolor": "white",
                        "linecolor": "white",
                        "ticks": ""
                      }
                    },
                    "scene": {
                      "xaxis": {
                        "backgroundcolor": "#E5ECF6",
                        "gridcolor": "white",
                        "gridwidth": 2,
                        "linecolor": "white",
                        "showbackground": true,
                        "ticks": "",
                        "zerolinecolor": "white"
                      },
                      "yaxis": {
                        "backgroundcolor": "#E5ECF6",
                        "gridcolor": "white",
                        "gridwidth": 2,
                        "linecolor": "white",
                        "showbackground": true,
                        "ticks": "",
                        "zerolinecolor": "white"
                      },
                      "zaxis": {
                        "backgroundcolor": "#E5ECF6",
                        "gridcolor": "white",
                        "gridwidth": 2,
                        "linecolor": "white",
                        "showbackground": true,
                        "ticks": "",
                        "zerolinecolor": "white"
                      }
                    },
                    "shapedefaults": {
                      "line": {
                        "color": "#2a3f5f"
                      }
                    },
                    "ternary": {
                      "aaxis": {
                        "gridcolor": "white",
                        "linecolor": "white",
                        "ticks": ""
                      },
                      "baxis": {
                        "gridcolor": "white",
                        "linecolor": "white",
                        "ticks": ""
                      },
                      "bgcolor": "#E5ECF6",
                      "caxis": {
                        "gridcolor": "white",
                        "linecolor": "white",
                        "ticks": ""
                      }
                    },
                    "title": {
                      "x": 0.05
                    },
                    "xaxis": {
                      "automargin": true,
                      "gridcolor": "white",
                      "linecolor": "white",
                      "ticks": "",
                      "title": {
                        "standoff": 15
                      },
                      "zerolinecolor": "white",
                      "zerolinewidth": 2
                    },
                    "yaxis": {
                      "automargin": true,
                      "gridcolor": "white",
                      "linecolor": "white",
                      "ticks": "",
                      "title": {
                        "standoff": 15
                      },
                      "zerolinecolor": "white",
                      "zerolinewidth": 2
                    }
                  }
                },
                "title": {
                  "font": {
                    "size": 24
                  },
                  "text": "Songs with The Most Weeks on Chart (2019-2024)",
                  "x": 0.5
                },
                "width": 1000,
                "xaxis": {
                  "anchor": "y",
                  "domain": [
                    0,
                    1
                  ],
                  "tickfont": {
                    "size": 16
                  },
                  "title": {
                    "font": {
                      "size": 20
                    },
                    "text": "Songs"
                  }
                },
                "yaxis": {
                  "anchor": "x",
                  "domain": [
                    0,
                    1
                  ],
                  "tickfont": {
                    "size": 16
                  },
                  "title": {
                    "font": {
                      "size": 20
                    },
                    "text": "Weeks on Chart"
                  }
                }
              }
            }
          },
          "metadata": {},
          "output_type": "display_data"
        }
      ],
      "source": [
        "# Songs with the most weeks on chart (2019-2024)\n",
        "# Create a bar chart\n",
        "fig = px.bar(\n",
        "    top10_weeks_on_chart_sorted,\n",
        "    x='Title',\n",
        "    y='Weeks on Chart',\n",
        "    color='Weeks on Chart',\n",
        "    hover_data=['Singer(s)'],\n",
        "    title='Songs with The Most Weeks on Chart (2019-2024)',\n",
        "    width=1000\n",
        ")\n",
        "\n",
        "# Customize the chart\n",
        "fig.update_layout(\n",
        "    title_font=dict(size=24),\n",
        "    title_x=0.5,\n",
        "    xaxis_title='Songs',\n",
        "    yaxis_title='Weeks on Chart',\n",
        "    xaxis_title_font=dict(size=20),\n",
        "    yaxis_title_font=dict(size=20),\n",
        "    xaxis=dict(\n",
        "        tickfont=dict(size=16),\n",
        "    ),\n",
        "    yaxis=dict(\n",
        "        tickfont=dict(size=16)\n",
        "    ),\n",
        "    hoverlabel=dict(\n",
        "        font=dict(\n",
        "            family=\"Arial\",\n",
        "            size=14\n",
        "        )\n",
        "    ),\n",
        "    bargap=0.2\n",
        ")\n",
        "\n",
        "# Show the chart\n",
        "fig.show()"
      ]
    },
    {
      "cell_type": "markdown",
      "metadata": {},
      "source": [
        "Distribution of Last Week Positions among Top 10 Songs (2019-2024)"
      ]
    },
    {
      "cell_type": "code",
      "execution_count": 100,
      "metadata": {
        "colab": {
          "base_uri": "https://localhost:8080/"
        },
        "id": "wK8H1pMISsZk",
        "outputId": "2be83c2a-5aee-4bee-c85f-bd7d7c3f2522"
      },
      "outputs": [
        {
          "name": "stdout",
          "output_type": "stream",
          "text": [
            "   Last Week Position  Count of Songs\n",
            "3                12.0               1\n",
            "4                13.0               1\n",
            "2                15.0               1\n",
            "5                16.0               1\n",
            "1                17.0               1\n",
            "6                28.0               1\n",
            "0                74.0               1\n"
          ]
        }
      ],
      "source": [
        "# Filter for songs that reached top 10 and were outside that the week before\n",
        "top10_songs = df[(df['Rank'] <= 10) & (df['Last Week Position'] > 10)]\n",
        "\n",
        "# Count how many songs took each number of weeks to get to No. 1\n",
        "last_week_position = top10_songs['Last Week Position'].value_counts().reset_index()\n",
        "\n",
        "# Rename the columns for clarity\n",
        "last_week_position.columns = ['Last Week Position', 'Count of Songs']\n",
        "\n",
        "# Sort by the number of weeks in ascending order\n",
        "last_week_position_sorted = last_week_position.sort_values(by=['Last Week Position'], ascending=True)\n",
        "\n",
        "# Show the top 10 results\n",
        "last_week_position_sorted = last_week_position_sorted.head(20)\n",
        "\n",
        "# Display the final DataFrame\n",
        "print(last_week_position_sorted)"
      ]
    },
    {
      "cell_type": "code",
      "execution_count": 101,
      "metadata": {
        "colab": {
          "base_uri": "https://localhost:8080/",
          "height": 542
        },
        "id": "sENXDoKLVV1A",
        "outputId": "b34e40d9-3b08-4bc3-e673-1828693f742a"
      },
      "outputs": [
        {
          "data": {
            "application/vnd.plotly.v1+json": {
              "config": {
                "plotlyServerURL": "https://plot.ly"
              },
              "data": [
                {
                  "alignmentgroup": "True",
                  "bingroup": "x",
                  "histfunc": "sum",
                  "hovertemplate": "Last Week Position=%{x}<br>sum of Count of Songs=%{y}<extra></extra>",
                  "legendgroup": "12.0",
                  "marker": {
                    "color": "#636efa",
                    "pattern": {
                      "shape": ""
                    }
                  },
                  "name": "12.0",
                  "offsetgroup": "12.0",
                  "orientation": "v",
                  "showlegend": true,
                  "type": "histogram",
                  "x": [
                    12
                  ],
                  "xaxis": "x",
                  "y": [
                    1
                  ],
                  "yaxis": "y"
                },
                {
                  "alignmentgroup": "True",
                  "bingroup": "x",
                  "histfunc": "sum",
                  "hovertemplate": "Last Week Position=%{x}<br>sum of Count of Songs=%{y}<extra></extra>",
                  "legendgroup": "13.0",
                  "marker": {
                    "color": "#EF553B",
                    "pattern": {
                      "shape": ""
                    }
                  },
                  "name": "13.0",
                  "offsetgroup": "13.0",
                  "orientation": "v",
                  "showlegend": true,
                  "type": "histogram",
                  "x": [
                    13
                  ],
                  "xaxis": "x",
                  "y": [
                    1
                  ],
                  "yaxis": "y"
                },
                {
                  "alignmentgroup": "True",
                  "bingroup": "x",
                  "histfunc": "sum",
                  "hovertemplate": "Last Week Position=%{x}<br>sum of Count of Songs=%{y}<extra></extra>",
                  "legendgroup": "15.0",
                  "marker": {
                    "color": "#00cc96",
                    "pattern": {
                      "shape": ""
                    }
                  },
                  "name": "15.0",
                  "offsetgroup": "15.0",
                  "orientation": "v",
                  "showlegend": true,
                  "type": "histogram",
                  "x": [
                    15
                  ],
                  "xaxis": "x",
                  "y": [
                    1
                  ],
                  "yaxis": "y"
                },
                {
                  "alignmentgroup": "True",
                  "bingroup": "x",
                  "histfunc": "sum",
                  "hovertemplate": "Last Week Position=%{x}<br>sum of Count of Songs=%{y}<extra></extra>",
                  "legendgroup": "16.0",
                  "marker": {
                    "color": "#ab63fa",
                    "pattern": {
                      "shape": ""
                    }
                  },
                  "name": "16.0",
                  "offsetgroup": "16.0",
                  "orientation": "v",
                  "showlegend": true,
                  "type": "histogram",
                  "x": [
                    16
                  ],
                  "xaxis": "x",
                  "y": [
                    1
                  ],
                  "yaxis": "y"
                },
                {
                  "alignmentgroup": "True",
                  "bingroup": "x",
                  "histfunc": "sum",
                  "hovertemplate": "Last Week Position=%{x}<br>sum of Count of Songs=%{y}<extra></extra>",
                  "legendgroup": "17.0",
                  "marker": {
                    "color": "#FFA15A",
                    "pattern": {
                      "shape": ""
                    }
                  },
                  "name": "17.0",
                  "offsetgroup": "17.0",
                  "orientation": "v",
                  "showlegend": true,
                  "type": "histogram",
                  "x": [
                    17
                  ],
                  "xaxis": "x",
                  "y": [
                    1
                  ],
                  "yaxis": "y"
                },
                {
                  "alignmentgroup": "True",
                  "bingroup": "x",
                  "histfunc": "sum",
                  "hovertemplate": "Last Week Position=%{x}<br>sum of Count of Songs=%{y}<extra></extra>",
                  "legendgroup": "28.0",
                  "marker": {
                    "color": "#19d3f3",
                    "pattern": {
                      "shape": ""
                    }
                  },
                  "name": "28.0",
                  "offsetgroup": "28.0",
                  "orientation": "v",
                  "showlegend": true,
                  "type": "histogram",
                  "x": [
                    28
                  ],
                  "xaxis": "x",
                  "y": [
                    1
                  ],
                  "yaxis": "y"
                },
                {
                  "alignmentgroup": "True",
                  "bingroup": "x",
                  "histfunc": "sum",
                  "hovertemplate": "Last Week Position=%{x}<br>sum of Count of Songs=%{y}<extra></extra>",
                  "legendgroup": "74.0",
                  "marker": {
                    "color": "#FF6692",
                    "pattern": {
                      "shape": ""
                    }
                  },
                  "name": "74.0",
                  "offsetgroup": "74.0",
                  "orientation": "v",
                  "showlegend": true,
                  "type": "histogram",
                  "x": [
                    74
                  ],
                  "xaxis": "x",
                  "y": [
                    1
                  ],
                  "yaxis": "y"
                }
              ],
              "layout": {
                "bargap": 0.2,
                "barmode": "relative",
                "hoverlabel": {
                  "font": {
                    "family": "Arial",
                    "size": 14
                  }
                },
                "legend": {
                  "title": {
                    "text": "Last Week Position"
                  },
                  "tracegroupgap": 0
                },
                "template": {
                  "data": {
                    "bar": [
                      {
                        "error_x": {
                          "color": "#2a3f5f"
                        },
                        "error_y": {
                          "color": "#2a3f5f"
                        },
                        "marker": {
                          "line": {
                            "color": "#E5ECF6",
                            "width": 0.5
                          },
                          "pattern": {
                            "fillmode": "overlay",
                            "size": 10,
                            "solidity": 0.2
                          }
                        },
                        "type": "bar"
                      }
                    ],
                    "barpolar": [
                      {
                        "marker": {
                          "line": {
                            "color": "#E5ECF6",
                            "width": 0.5
                          },
                          "pattern": {
                            "fillmode": "overlay",
                            "size": 10,
                            "solidity": 0.2
                          }
                        },
                        "type": "barpolar"
                      }
                    ],
                    "carpet": [
                      {
                        "aaxis": {
                          "endlinecolor": "#2a3f5f",
                          "gridcolor": "white",
                          "linecolor": "white",
                          "minorgridcolor": "white",
                          "startlinecolor": "#2a3f5f"
                        },
                        "baxis": {
                          "endlinecolor": "#2a3f5f",
                          "gridcolor": "white",
                          "linecolor": "white",
                          "minorgridcolor": "white",
                          "startlinecolor": "#2a3f5f"
                        },
                        "type": "carpet"
                      }
                    ],
                    "choropleth": [
                      {
                        "colorbar": {
                          "outlinewidth": 0,
                          "ticks": ""
                        },
                        "type": "choropleth"
                      }
                    ],
                    "contour": [
                      {
                        "colorbar": {
                          "outlinewidth": 0,
                          "ticks": ""
                        },
                        "colorscale": [
                          [
                            0,
                            "#0d0887"
                          ],
                          [
                            0.1111111111111111,
                            "#46039f"
                          ],
                          [
                            0.2222222222222222,
                            "#7201a8"
                          ],
                          [
                            0.3333333333333333,
                            "#9c179e"
                          ],
                          [
                            0.4444444444444444,
                            "#bd3786"
                          ],
                          [
                            0.5555555555555556,
                            "#d8576b"
                          ],
                          [
                            0.6666666666666666,
                            "#ed7953"
                          ],
                          [
                            0.7777777777777778,
                            "#fb9f3a"
                          ],
                          [
                            0.8888888888888888,
                            "#fdca26"
                          ],
                          [
                            1,
                            "#f0f921"
                          ]
                        ],
                        "type": "contour"
                      }
                    ],
                    "contourcarpet": [
                      {
                        "colorbar": {
                          "outlinewidth": 0,
                          "ticks": ""
                        },
                        "type": "contourcarpet"
                      }
                    ],
                    "heatmap": [
                      {
                        "colorbar": {
                          "outlinewidth": 0,
                          "ticks": ""
                        },
                        "colorscale": [
                          [
                            0,
                            "#0d0887"
                          ],
                          [
                            0.1111111111111111,
                            "#46039f"
                          ],
                          [
                            0.2222222222222222,
                            "#7201a8"
                          ],
                          [
                            0.3333333333333333,
                            "#9c179e"
                          ],
                          [
                            0.4444444444444444,
                            "#bd3786"
                          ],
                          [
                            0.5555555555555556,
                            "#d8576b"
                          ],
                          [
                            0.6666666666666666,
                            "#ed7953"
                          ],
                          [
                            0.7777777777777778,
                            "#fb9f3a"
                          ],
                          [
                            0.8888888888888888,
                            "#fdca26"
                          ],
                          [
                            1,
                            "#f0f921"
                          ]
                        ],
                        "type": "heatmap"
                      }
                    ],
                    "heatmapgl": [
                      {
                        "colorbar": {
                          "outlinewidth": 0,
                          "ticks": ""
                        },
                        "colorscale": [
                          [
                            0,
                            "#0d0887"
                          ],
                          [
                            0.1111111111111111,
                            "#46039f"
                          ],
                          [
                            0.2222222222222222,
                            "#7201a8"
                          ],
                          [
                            0.3333333333333333,
                            "#9c179e"
                          ],
                          [
                            0.4444444444444444,
                            "#bd3786"
                          ],
                          [
                            0.5555555555555556,
                            "#d8576b"
                          ],
                          [
                            0.6666666666666666,
                            "#ed7953"
                          ],
                          [
                            0.7777777777777778,
                            "#fb9f3a"
                          ],
                          [
                            0.8888888888888888,
                            "#fdca26"
                          ],
                          [
                            1,
                            "#f0f921"
                          ]
                        ],
                        "type": "heatmapgl"
                      }
                    ],
                    "histogram": [
                      {
                        "marker": {
                          "pattern": {
                            "fillmode": "overlay",
                            "size": 10,
                            "solidity": 0.2
                          }
                        },
                        "type": "histogram"
                      }
                    ],
                    "histogram2d": [
                      {
                        "colorbar": {
                          "outlinewidth": 0,
                          "ticks": ""
                        },
                        "colorscale": [
                          [
                            0,
                            "#0d0887"
                          ],
                          [
                            0.1111111111111111,
                            "#46039f"
                          ],
                          [
                            0.2222222222222222,
                            "#7201a8"
                          ],
                          [
                            0.3333333333333333,
                            "#9c179e"
                          ],
                          [
                            0.4444444444444444,
                            "#bd3786"
                          ],
                          [
                            0.5555555555555556,
                            "#d8576b"
                          ],
                          [
                            0.6666666666666666,
                            "#ed7953"
                          ],
                          [
                            0.7777777777777778,
                            "#fb9f3a"
                          ],
                          [
                            0.8888888888888888,
                            "#fdca26"
                          ],
                          [
                            1,
                            "#f0f921"
                          ]
                        ],
                        "type": "histogram2d"
                      }
                    ],
                    "histogram2dcontour": [
                      {
                        "colorbar": {
                          "outlinewidth": 0,
                          "ticks": ""
                        },
                        "colorscale": [
                          [
                            0,
                            "#0d0887"
                          ],
                          [
                            0.1111111111111111,
                            "#46039f"
                          ],
                          [
                            0.2222222222222222,
                            "#7201a8"
                          ],
                          [
                            0.3333333333333333,
                            "#9c179e"
                          ],
                          [
                            0.4444444444444444,
                            "#bd3786"
                          ],
                          [
                            0.5555555555555556,
                            "#d8576b"
                          ],
                          [
                            0.6666666666666666,
                            "#ed7953"
                          ],
                          [
                            0.7777777777777778,
                            "#fb9f3a"
                          ],
                          [
                            0.8888888888888888,
                            "#fdca26"
                          ],
                          [
                            1,
                            "#f0f921"
                          ]
                        ],
                        "type": "histogram2dcontour"
                      }
                    ],
                    "mesh3d": [
                      {
                        "colorbar": {
                          "outlinewidth": 0,
                          "ticks": ""
                        },
                        "type": "mesh3d"
                      }
                    ],
                    "parcoords": [
                      {
                        "line": {
                          "colorbar": {
                            "outlinewidth": 0,
                            "ticks": ""
                          }
                        },
                        "type": "parcoords"
                      }
                    ],
                    "pie": [
                      {
                        "automargin": true,
                        "type": "pie"
                      }
                    ],
                    "scatter": [
                      {
                        "fillpattern": {
                          "fillmode": "overlay",
                          "size": 10,
                          "solidity": 0.2
                        },
                        "type": "scatter"
                      }
                    ],
                    "scatter3d": [
                      {
                        "line": {
                          "colorbar": {
                            "outlinewidth": 0,
                            "ticks": ""
                          }
                        },
                        "marker": {
                          "colorbar": {
                            "outlinewidth": 0,
                            "ticks": ""
                          }
                        },
                        "type": "scatter3d"
                      }
                    ],
                    "scattercarpet": [
                      {
                        "marker": {
                          "colorbar": {
                            "outlinewidth": 0,
                            "ticks": ""
                          }
                        },
                        "type": "scattercarpet"
                      }
                    ],
                    "scattergeo": [
                      {
                        "marker": {
                          "colorbar": {
                            "outlinewidth": 0,
                            "ticks": ""
                          }
                        },
                        "type": "scattergeo"
                      }
                    ],
                    "scattergl": [
                      {
                        "marker": {
                          "colorbar": {
                            "outlinewidth": 0,
                            "ticks": ""
                          }
                        },
                        "type": "scattergl"
                      }
                    ],
                    "scattermapbox": [
                      {
                        "marker": {
                          "colorbar": {
                            "outlinewidth": 0,
                            "ticks": ""
                          }
                        },
                        "type": "scattermapbox"
                      }
                    ],
                    "scatterpolar": [
                      {
                        "marker": {
                          "colorbar": {
                            "outlinewidth": 0,
                            "ticks": ""
                          }
                        },
                        "type": "scatterpolar"
                      }
                    ],
                    "scatterpolargl": [
                      {
                        "marker": {
                          "colorbar": {
                            "outlinewidth": 0,
                            "ticks": ""
                          }
                        },
                        "type": "scatterpolargl"
                      }
                    ],
                    "scatterternary": [
                      {
                        "marker": {
                          "colorbar": {
                            "outlinewidth": 0,
                            "ticks": ""
                          }
                        },
                        "type": "scatterternary"
                      }
                    ],
                    "surface": [
                      {
                        "colorbar": {
                          "outlinewidth": 0,
                          "ticks": ""
                        },
                        "colorscale": [
                          [
                            0,
                            "#0d0887"
                          ],
                          [
                            0.1111111111111111,
                            "#46039f"
                          ],
                          [
                            0.2222222222222222,
                            "#7201a8"
                          ],
                          [
                            0.3333333333333333,
                            "#9c179e"
                          ],
                          [
                            0.4444444444444444,
                            "#bd3786"
                          ],
                          [
                            0.5555555555555556,
                            "#d8576b"
                          ],
                          [
                            0.6666666666666666,
                            "#ed7953"
                          ],
                          [
                            0.7777777777777778,
                            "#fb9f3a"
                          ],
                          [
                            0.8888888888888888,
                            "#fdca26"
                          ],
                          [
                            1,
                            "#f0f921"
                          ]
                        ],
                        "type": "surface"
                      }
                    ],
                    "table": [
                      {
                        "cells": {
                          "fill": {
                            "color": "#EBF0F8"
                          },
                          "line": {
                            "color": "white"
                          }
                        },
                        "header": {
                          "fill": {
                            "color": "#C8D4E3"
                          },
                          "line": {
                            "color": "white"
                          }
                        },
                        "type": "table"
                      }
                    ]
                  },
                  "layout": {
                    "annotationdefaults": {
                      "arrowcolor": "#2a3f5f",
                      "arrowhead": 0,
                      "arrowwidth": 1
                    },
                    "autotypenumbers": "strict",
                    "coloraxis": {
                      "colorbar": {
                        "outlinewidth": 0,
                        "ticks": ""
                      }
                    },
                    "colorscale": {
                      "diverging": [
                        [
                          0,
                          "#8e0152"
                        ],
                        [
                          0.1,
                          "#c51b7d"
                        ],
                        [
                          0.2,
                          "#de77ae"
                        ],
                        [
                          0.3,
                          "#f1b6da"
                        ],
                        [
                          0.4,
                          "#fde0ef"
                        ],
                        [
                          0.5,
                          "#f7f7f7"
                        ],
                        [
                          0.6,
                          "#e6f5d0"
                        ],
                        [
                          0.7,
                          "#b8e186"
                        ],
                        [
                          0.8,
                          "#7fbc41"
                        ],
                        [
                          0.9,
                          "#4d9221"
                        ],
                        [
                          1,
                          "#276419"
                        ]
                      ],
                      "sequential": [
                        [
                          0,
                          "#0d0887"
                        ],
                        [
                          0.1111111111111111,
                          "#46039f"
                        ],
                        [
                          0.2222222222222222,
                          "#7201a8"
                        ],
                        [
                          0.3333333333333333,
                          "#9c179e"
                        ],
                        [
                          0.4444444444444444,
                          "#bd3786"
                        ],
                        [
                          0.5555555555555556,
                          "#d8576b"
                        ],
                        [
                          0.6666666666666666,
                          "#ed7953"
                        ],
                        [
                          0.7777777777777778,
                          "#fb9f3a"
                        ],
                        [
                          0.8888888888888888,
                          "#fdca26"
                        ],
                        [
                          1,
                          "#f0f921"
                        ]
                      ],
                      "sequentialminus": [
                        [
                          0,
                          "#0d0887"
                        ],
                        [
                          0.1111111111111111,
                          "#46039f"
                        ],
                        [
                          0.2222222222222222,
                          "#7201a8"
                        ],
                        [
                          0.3333333333333333,
                          "#9c179e"
                        ],
                        [
                          0.4444444444444444,
                          "#bd3786"
                        ],
                        [
                          0.5555555555555556,
                          "#d8576b"
                        ],
                        [
                          0.6666666666666666,
                          "#ed7953"
                        ],
                        [
                          0.7777777777777778,
                          "#fb9f3a"
                        ],
                        [
                          0.8888888888888888,
                          "#fdca26"
                        ],
                        [
                          1,
                          "#f0f921"
                        ]
                      ]
                    },
                    "colorway": [
                      "#636efa",
                      "#EF553B",
                      "#00cc96",
                      "#ab63fa",
                      "#FFA15A",
                      "#19d3f3",
                      "#FF6692",
                      "#B6E880",
                      "#FF97FF",
                      "#FECB52"
                    ],
                    "font": {
                      "color": "#2a3f5f"
                    },
                    "geo": {
                      "bgcolor": "white",
                      "lakecolor": "white",
                      "landcolor": "#E5ECF6",
                      "showlakes": true,
                      "showland": true,
                      "subunitcolor": "white"
                    },
                    "hoverlabel": {
                      "align": "left"
                    },
                    "hovermode": "closest",
                    "mapbox": {
                      "style": "light"
                    },
                    "paper_bgcolor": "white",
                    "plot_bgcolor": "#E5ECF6",
                    "polar": {
                      "angularaxis": {
                        "gridcolor": "white",
                        "linecolor": "white",
                        "ticks": ""
                      },
                      "bgcolor": "#E5ECF6",
                      "radialaxis": {
                        "gridcolor": "white",
                        "linecolor": "white",
                        "ticks": ""
                      }
                    },
                    "scene": {
                      "xaxis": {
                        "backgroundcolor": "#E5ECF6",
                        "gridcolor": "white",
                        "gridwidth": 2,
                        "linecolor": "white",
                        "showbackground": true,
                        "ticks": "",
                        "zerolinecolor": "white"
                      },
                      "yaxis": {
                        "backgroundcolor": "#E5ECF6",
                        "gridcolor": "white",
                        "gridwidth": 2,
                        "linecolor": "white",
                        "showbackground": true,
                        "ticks": "",
                        "zerolinecolor": "white"
                      },
                      "zaxis": {
                        "backgroundcolor": "#E5ECF6",
                        "gridcolor": "white",
                        "gridwidth": 2,
                        "linecolor": "white",
                        "showbackground": true,
                        "ticks": "",
                        "zerolinecolor": "white"
                      }
                    },
                    "shapedefaults": {
                      "line": {
                        "color": "#2a3f5f"
                      }
                    },
                    "ternary": {
                      "aaxis": {
                        "gridcolor": "white",
                        "linecolor": "white",
                        "ticks": ""
                      },
                      "baxis": {
                        "gridcolor": "white",
                        "linecolor": "white",
                        "ticks": ""
                      },
                      "bgcolor": "#E5ECF6",
                      "caxis": {
                        "gridcolor": "white",
                        "linecolor": "white",
                        "ticks": ""
                      }
                    },
                    "title": {
                      "x": 0.05
                    },
                    "xaxis": {
                      "automargin": true,
                      "gridcolor": "white",
                      "linecolor": "white",
                      "ticks": "",
                      "title": {
                        "standoff": 15
                      },
                      "zerolinecolor": "white",
                      "zerolinewidth": 2
                    },
                    "yaxis": {
                      "automargin": true,
                      "gridcolor": "white",
                      "linecolor": "white",
                      "ticks": "",
                      "title": {
                        "standoff": 15
                      },
                      "zerolinecolor": "white",
                      "zerolinewidth": 2
                    }
                  }
                },
                "title": {
                  "font": {
                    "size": 24
                  },
                  "text": "Distribution of Last Week Positions among Top 10 Songs (2019-2024)",
                  "x": 0.5
                },
                "width": 1000,
                "xaxis": {
                  "anchor": "y",
                  "categoryarray": [
                    12,
                    13,
                    15,
                    16,
                    17,
                    28,
                    74
                  ],
                  "categoryorder": "array",
                  "domain": [
                    0,
                    1
                  ],
                  "tickfont": {
                    "size": 16
                  },
                  "title": {
                    "font": {
                      "size": 20
                    },
                    "text": "Last Week Position"
                  }
                },
                "yaxis": {
                  "anchor": "x",
                  "domain": [
                    0,
                    1
                  ],
                  "tickfont": {
                    "size": 16
                  },
                  "title": {
                    "font": {
                      "size": 20
                    },
                    "text": "Count of Songs"
                  }
                }
              }
            }
          },
          "metadata": {},
          "output_type": "display_data"
        }
      ],
      "source": [
        "# Distribution of Last Week Positions among Top 10 Songs (2019-2024)\n",
        "# Create a histogram\n",
        "fig = px.histogram(\n",
        "    last_week_position_sorted,\n",
        "    x='Last Week Position',\n",
        "    y='Count of Songs',\n",
        "    color='Last Week Position',\n",
        "    title='Distribution of Last Week Positions among Top 10 Songs (2019-2024)',\n",
        "    width=1000\n",
        ")\n",
        "\n",
        "# Customize the chart\n",
        "fig.update_layout(\n",
        "    title_font=dict(size=24),\n",
        "    title_x=0.5,\n",
        "    xaxis_title='Last Week Position',\n",
        "    yaxis_title='Count of Songs',\n",
        "    xaxis_title_font=dict(size=20),\n",
        "    yaxis_title_font=dict(size=20),\n",
        "    xaxis=dict(\n",
        "        tickfont=dict(size=16),\n",
        "    ),\n",
        "    yaxis=dict(\n",
        "        tickfont=dict(size=16)\n",
        "    ),\n",
        "    hoverlabel=dict(\n",
        "        font=dict(\n",
        "            family=\"Arial\",\n",
        "            size=14\n",
        "        )\n",
        "    ),\n",
        "    bargap=0.2\n",
        ")\n",
        "\n",
        "# Show the chart\n",
        "fig.show()"
      ]
    },
    {
      "cell_type": "markdown",
      "metadata": {},
      "source": [
        "Peak Position vs. Total Weeks on Chart (2019-2024)"
      ]
    },
    {
      "cell_type": "code",
      "execution_count": 102,
      "metadata": {
        "colab": {
          "base_uri": "https://localhost:8080/"
        },
        "id": "QkGZrm3ZXswZ",
        "outputId": "cf81e7b7-53ae-497f-ec92-f7a90e8d78ef"
      },
      "outputs": [
        {
          "name": "stdout",
          "output_type": "stream",
          "text": [
            "                                 Title                             Singer(s)  \\\n",
            "12     All I Want For Christmas Is You                          Mariah Carey   \n",
            "21                           As It Was                          Harry Styles   \n",
            "325            Something In The Orange                            Zach Bryan   \n",
            "290  Rockin' Around The Christmas Tree                            Brenda Lee   \n",
            "415                          You Proof                         Morgan Wallen   \n",
            "..                                 ...                                   ...   \n",
            "357                           The Take      Tory Lanez Featuring Chris Brown   \n",
            "146                         Hell Right  Blake Shelton Featuring Trace Adkins   \n",
            "226                       Middle Child               PnB Rock & XXXTENTACION   \n",
            "356                      The Shoe Fits                                 Drake   \n",
            "126                            Go Loko                      YG, Tyga & Jon Z   \n",
            "\n",
            "     Peak Position  Weeks on Chart  \n",
            "12               1              62  \n",
            "21               1              60  \n",
            "325             10              57  \n",
            "290              1              55  \n",
            "415              5              54  \n",
            "..             ...             ...  \n",
            "357             66               1  \n",
            "146             99               1  \n",
            "226             91               1  \n",
            "356             52               1  \n",
            "126             71               1  \n",
            "\n",
            "[424 rows x 4 columns]\n"
          ]
        }
      ],
      "source": [
        "# Group the songs by Title, Singer(s), and Peak Position, and get the maximum weeks\n",
        "weeks_on_chart = df.groupby(['Title', 'Singer(s)', 'Peak Position'])['Weeks on Chart'].max().reset_index()\n",
        "\n",
        "# Sort the DataFrame by 'Weeks on Chart' in descending order\n",
        "weeks_on_chart_sorted = weeks_on_chart.sort_values(by='Weeks on Chart', ascending=False)\n",
        "\n",
        "# Display the final DataFrame\n",
        "print(weeks_on_chart_sorted)"
      ]
    },
    {
      "cell_type": "code",
      "execution_count": 103,
      "metadata": {
        "colab": {
          "base_uri": "https://localhost:8080/",
          "height": 356
        },
        "id": "9EKYaV2oWYF0",
        "outputId": "56baa2ab-18f0-4c22-ad90-cd87c77f732d"
      },
      "outputs": [
        {
          "data": {
            "application/vnd.plotly.v1+json": {
              "config": {
                "plotlyServerURL": "https://plot.ly"
              },
              "data": [
                {
                  "customdata": [
                    [
                      "All I Want For Christmas Is You",
                      "Mariah Carey"
                    ],
                    [
                      "As It Was",
                      "Harry Styles"
                    ],
                    [
                      "Something In The Orange",
                      "Zach Bryan"
                    ],
                    [
                      "Rockin' Around The Christmas Tree",
                      "Brenda Lee"
                    ],
                    [
                      "You Proof",
                      "Morgan Wallen"
                    ],
                    [
                      "Rockin' Around The Christmas Tree",
                      "Brenda Lee"
                    ],
                    [
                      "Jingle Bell Rock",
                      "Bobby Helms"
                    ],
                    [
                      "Snooze",
                      "SZA"
                    ],
                    [
                      "Girls Like You",
                      "Maroon 5 Featuring Cardi B"
                    ],
                    [
                      "Kill Bill",
                      "SZA"
                    ],
                    [
                      "Rock And A Hard Place",
                      "Bailey Zimmerman"
                    ],
                    [
                      "Dancing With A Stranger",
                      "Sam Smith & Normani"
                    ],
                    [
                      "Last Night",
                      "Morgan Wallen"
                    ],
                    [
                      "Flowers",
                      "Miley Cyrus"
                    ],
                    [
                      "Die For You",
                      "The Weeknd & Ariana Grande"
                    ],
                    [
                      "You Say",
                      "Lauren Daigle"
                    ],
                    [
                      "Eastside",
                      "benny blanco, Halsey & Khalid"
                    ],
                    [
                      "Sure Thing",
                      "Miguel"
                    ],
                    [
                      "Talk",
                      "Khalid"
                    ],
                    [
                      "Thought You Should Know",
                      "Morgan Wallen"
                    ],
                    [
                      "The Christmas Song (Merry Christmas To You)",
                      "Nat \"King\" Cole"
                    ],
                    [
                      "Everything I Love",
                      "Morgan Wallen"
                    ],
                    [
                      "Thinkin' Bout Me",
                      "Morgan Wallen"
                    ],
                    [
                      "Sicko Mode",
                      "Travis Scott"
                    ],
                    [
                      "High Hopes",
                      "Panic! At The Disco"
                    ],
                    [
                      "I'm Good (Blue)",
                      "David Guetta & Bebe Rexha"
                    ],
                    [
                      "Calm Down",
                      "Rema & Selena Gomez"
                    ],
                    [
                      "Sucker",
                      "Jonas Brothers"
                    ],
                    [
                      "Old Town Road",
                      "Lil Nas X Featuring Billy Ray Cyrus"
                    ],
                    [
                      "Happier",
                      "Marshmello & Bastille"
                    ],
                    [
                      "Fast Car",
                      "Luke Combs"
                    ],
                    [
                      "Under The Influence",
                      "Chris Brown"
                    ],
                    [
                      "Thank God",
                      "Kane Brown With Katelyn Brown"
                    ],
                    [
                      "A Holly Jolly Christmas",
                      "Burl Ives"
                    ],
                    [
                      "It's The Most Wonderful Time Of The Year",
                      "Andy Williams"
                    ],
                    [
                      "Need A Favor",
                      "Jelly Roll"
                    ],
                    [
                      "Last Christmas",
                      "Wham!"
                    ],
                    [
                      "Unholy",
                      "Sam Smith & Kim Petras"
                    ],
                    [
                      "Drip Too Hard",
                      "Lil Baby & Gunna"
                    ],
                    [
                      "Bad Guy",
                      "Billie Eilish"
                    ],
                    [
                      "Better",
                      "Khalid"
                    ],
                    [
                      "Suge",
                      "DaBaby"
                    ],
                    [
                      "All I Want For Christmas Is You",
                      "Mariah Carey"
                    ],
                    [
                      "Shallow",
                      "Lady Gaga & Bradley Cooper"
                    ],
                    [
                      "Just Wanna Rock",
                      "Lil Uzi Vert"
                    ],
                    [
                      "White Christmas",
                      "Bing Crosby With Ken Darby Singers & John Scott Trotter & His Orchestra"
                    ],
                    [
                      "Cruel Summer",
                      "Taylor Swift"
                    ],
                    [
                      "Without Me",
                      "Halsey"
                    ],
                    [
                      "Anti-Hero",
                      "Taylor Swift"
                    ],
                    [
                      "Spin Bout U",
                      "Drake & 21 Savage"
                    ],
                    [
                      "What It Is (Block Boy)",
                      "Doechii Featuring Kodak Black"
                    ],
                    [
                      "Feliz Navidad",
                      "Jose Feliciano"
                    ],
                    [
                      "Truth Hurts",
                      "Lizzo"
                    ],
                    [
                      "Sunflower (Spider-Man: Into The Spider-Verse)",
                      "Post Malone & Swae Lee"
                    ],
                    [
                      "I Don't Care",
                      "Ed Sheeran & Justin Bieber"
                    ],
                    [
                      "Close Friends",
                      "Lil Baby"
                    ],
                    [
                      "Let It Snow, Let It Snow, Let It Snow!",
                      "Dean Martin"
                    ],
                    [
                      "Someone You Loved",
                      "Lewis Capaldi"
                    ],
                    [
                      "Be Alright",
                      "Dean Lewis"
                    ],
                    [
                      "Thank U, Next",
                      "Ariana Grande"
                    ],
                    [
                      "When The Party's Over",
                      "Billie Eilish"
                    ],
                    [
                      "Dance The Night",
                      "Dua Lipa"
                    ],
                    [
                      "Beautiful Crazy",
                      "Luke Combs"
                    ],
                    [
                      "Ran$om",
                      "Lil Tecca"
                    ],
                    [
                      "Creepin'",
                      "Metro Boomin, The Weeknd & 21 Savage"
                    ],
                    [
                      "Truck Bed",
                      "HARDY"
                    ],
                    [
                      "Trampoline",
                      "SHAED"
                    ],
                    [
                      "Sleigh Ride",
                      "The Ronettes"
                    ],
                    [
                      "Save Me",
                      "Jelly Roll With Lainey Wilson"
                    ],
                    [
                      "One Thing At A Time",
                      "Morgan Wallen"
                    ],
                    [
                      "Close To Me",
                      "Ellie Goulding X Diplo Featuring Swae Lee"
                    ],
                    [
                      "Fukumean",
                      "Gunna"
                    ],
                    [
                      "Snooze",
                      "SZA"
                    ],
                    [
                      "Rudolph The Red-Nosed Reindeer",
                      "Gene Autry & The Pinafores"
                    ],
                    [
                      "Underneath The Tree",
                      "Kelly Clarkson"
                    ],
                    [
                      "Tennessee Orange",
                      "Megan Moroney"
                    ],
                    [
                      "No Guidance",
                      "Chris Brown Featuring Drake"
                    ],
                    [
                      "Going Bad",
                      "Meek Mill Featuring Drake"
                    ],
                    [
                      "Only Human",
                      "Jonas Brothers"
                    ],
                    [
                      "Dial Drunk",
                      "Noah Kahan With Post Malone"
                    ],
                    [
                      "Vampire",
                      "Olivia Rodrigo"
                    ],
                    [
                      "Money In The Grave",
                      "Drake Featuring Rick Ross"
                    ],
                    [
                      "Look Back At It",
                      "A Boogie Wit da Hoodie"
                    ],
                    [
                      "Panini",
                      "Lil Nas X"
                    ],
                    [
                      "One Thing Right",
                      "Marshmello & Kane Brown"
                    ],
                    [
                      "Senorita",
                      "Shawn Mendes & Camila Cabello"
                    ],
                    [
                      "Envy Me",
                      "Calboy"
                    ],
                    [
                      "Sweet But Psycho",
                      "Ava Max"
                    ],
                    [
                      "What Was I Made For?",
                      "Billie Eilish"
                    ],
                    [
                      "Beautiful People",
                      "Ed Sheeran Featuring Khalid"
                    ],
                    [
                      "Santa Tell Me",
                      "Ariana Grande"
                    ],
                    [
                      "Players",
                      "Coi Leray"
                    ],
                    [
                      "A Lot",
                      "21 Savage"
                    ],
                    [
                      "Try That In A Small Town",
                      "Jason Aldean"
                    ],
                    [
                      "Forever",
                      "Lil Baby Featuring Fridayy"
                    ],
                    [
                      "Lalala",
                      "Y2K & bbno$"
                    ],
                    [
                      "LaLa",
                      "Myke Towers"
                    ],
                    [
                      "I Don't Know About You",
                      "Chris Lane"
                    ],
                    [
                      "White Horse",
                      "Chris Stapleton"
                    ],
                    [
                      "Goodbyes",
                      "Post Malone Featuring Young Thug"
                    ],
                    [
                      "Swervin",
                      "A Boogie Wit da Hoodie Featuring 6ix9ine"
                    ],
                    [
                      "It's Beginning To Look A Lot Like Christmas",
                      "Perry Como And The Fontane Sisters With Mitchell Ayres And His Orchestra"
                    ],
                    [
                      "Wow.",
                      "Post Malone"
                    ],
                    [
                      "Tip Of My Tongue",
                      "Kenny Chesney"
                    ],
                    [
                      "Nonsense",
                      "Sabrina Carpenter"
                    ],
                    [
                      "Baby Shark",
                      "Pinkfong"
                    ],
                    [
                      "Meltdown",
                      "Travis Scott Featuring Drake"
                    ],
                    [
                      "I Know ?",
                      "Travis Scott"
                    ],
                    [
                      "Run Rudolph Run",
                      "Chuck Berry"
                    ],
                    [
                      "Make It Sweet",
                      "Old Dominion"
                    ],
                    [
                      "Christmas (Baby Please Come Home)",
                      "Darlene Love"
                    ],
                    [
                      "AMG",
                      "Gabito Ballesteros, Peso Pluma & Natanael Cano"
                    ],
                    [
                      "How Do You Sleep?",
                      "Sam Smith"
                    ],
                    [
                      "Next Thing You Know",
                      "Jordan Davis"
                    ],
                    [
                      "Paint The Town Red",
                      "Doja Cat"
                    ],
                    [
                      "Ballin'",
                      "Mustard & Roddy Ricch"
                    ],
                    [
                      "Here Tonight",
                      "Brett Young"
                    ],
                    [
                      "Time",
                      "NF"
                    ],
                    [
                      "Baby",
                      "Lil Baby & DaBaby"
                    ],
                    [
                      "I Wrote The Book",
                      "Morgan Wallen"
                    ],
                    [
                      "It's Beginning To Look A Lot Like Christmas",
                      "Michael Buble"
                    ],
                    [
                      "Bad Idea Right?",
                      "Olivia Rodrigo"
                    ],
                    [
                      "Qlona",
                      "Karol G & Peso Pluma"
                    ],
                    [
                      "Rich Men North Of Richmond",
                      "Oliver Anthony Music"
                    ],
                    [
                      "Human",
                      "Cody Johnson"
                    ],
                    [
                      "Thotiana",
                      "Blueface"
                    ],
                    [
                      "Lose Control",
                      "Teddy Swims"
                    ],
                    [
                      "Here Comes Santa Claus (Right Down Santa Claus Lane)",
                      "Gene Autry"
                    ],
                    [
                      "Good Good",
                      "Usher, Summer Walker & 21 Savage"
                    ],
                    [
                      "7 Rings",
                      "Ariana Grande"
                    ],
                    [
                      "Trance",
                      "Metro Boomin, Travis Scott & Young Thug"
                    ],
                    [
                      "Prayed For You",
                      "Matt Stell"
                    ],
                    [
                      "In Ha Mood",
                      "Ice Spice"
                    ],
                    [
                      "Boy's A Liar, Pt. 2",
                      "PinkPantheress & Ice Spice"
                    ],
                    [
                      "Murder On My Mind",
                      "YNW Melly"
                    ],
                    [
                      "Mixed Personalities",
                      "YNW Melly Featuring Kanye West"
                    ],
                    [
                      "Middle Child",
                      "J. Cole"
                    ],
                    [
                      "Happy Holiday / The Holiday Season",
                      "Andy Williams"
                    ],
                    [
                      "Hey Driver",
                      "Zach Bryan Featuring The War And Treaty"
                    ],
                    [
                      "Put A Date On It",
                      "Yo Gotti Featuring Lil Baby"
                    ],
                    [
                      "On Chill",
                      "Wale Featuring Jeremih"
                    ],
                    [
                      "Hot Girl Summer",
                      "Megan Thee Stallion, Nicki Minaj & Ty Dolla $ign"
                    ],
                    [
                      "Painting Pictures",
                      "Superstar Pride"
                    ],
                    [
                      "I Remember Everything",
                      "Zach Bryan Featuring Kacey Musgraves"
                    ],
                    [
                      "PRC",
                      "Peso Pluma X Natanael Cano"
                    ],
                    [
                      "Shot Clock",
                      "Ella Mai"
                    ],
                    [
                      "Love You Anyway",
                      "Luke Combs"
                    ],
                    [
                      "Pure Water",
                      "Mustard & Migos"
                    ],
                    [
                      "Yandel 150",
                      "Yandel & Feid"
                    ],
                    [
                      "Hate Me",
                      "Ellie Goulding & Juice WRLD"
                    ],
                    [
                      "El Amor de Su Vida",
                      "Grupo Frontera & Grupo Firme"
                    ],
                    [
                      "Bury A Friend",
                      "Billie Eilish"
                    ],
                    [
                      "Baby Sitter",
                      "DaBaby Featuring Offset"
                    ],
                    [
                      "Used To Be Young",
                      "Miley Cyrus"
                    ],
                    [
                      "Mi Ex Tenia Razon",
                      "Karol G"
                    ],
                    [
                      "Favorite Song",
                      "Toosii"
                    ],
                    [
                      "Lover",
                      "Taylor Swift"
                    ],
                    [
                      "Dancin' In The Country",
                      "Tyler Hubbard"
                    ],
                    [
                      "Con Calma",
                      "Daddy Yankee & Katy Perry Featuring Snow"
                    ],
                    [
                      "Hot",
                      "Young Thug Featuring Gunna"
                    ],
                    [
                      "Miss Me More",
                      "Kelsea Ballerini"
                    ],
                    [
                      "Break Up With Your Girlfriend, I'm Bored",
                      "Ariana Grande"
                    ],
                    [
                      "What If I Never Get Over You",
                      "Lady Antebellum"
                    ],
                    [
                      "Get Him Back!",
                      "Olivia Rodrigo"
                    ],
                    [
                      "Who Do You Love",
                      "The Chainsmokers Featuring 5 Seconds Of Summer"
                    ],
                    [
                      "Good As Hell",
                      "Lizzo"
                    ],
                    [
                      "Talk",
                      "Khalid"
                    ],
                    [
                      "One Man Band",
                      "Old Dominion"
                    ],
                    [
                      "TQG",
                      "Karol G x Shakira"
                    ],
                    [
                      "Pretty Little Poison",
                      "Warren Zeiders"
                    ],
                    [
                      "Lil Boo Thang",
                      "Paul Russell"
                    ],
                    [
                      "Circles",
                      "Post Malone"
                    ],
                    [
                      "Cowgirls",
                      "Morgan Wallen Featuring ERNEST"
                    ],
                    [
                      "Turks & Caicos",
                      "Rod Wave Featuring 21 Savage"
                    ],
                    [
                      "Man Made A Bar",
                      "Morgan Wallen Featuring Eric Church"
                    ],
                    [
                      "Heat",
                      "Chris Brown Featuring Gunna"
                    ],
                    [
                      "Night Shift",
                      "Jon Pardi"
                    ],
                    [
                      "We Were",
                      "Keith Urban"
                    ],
                    [
                      "Robbery",
                      "Juice WRLD"
                    ],
                    [
                      "Slime You Out",
                      "Drake Featuring SZA"
                    ],
                    [
                      "Red Ruby Da Sleeze",
                      "Nicki Minaj"
                    ],
                    [
                      "Ocean Eyes",
                      "Billie Eilish"
                    ],
                    [
                      "On My Mama",
                      "Victoria Monet"
                    ],
                    [
                      "Worth It",
                      "YK Osiris"
                    ],
                    [
                      "Ain't That Some",
                      "Morgan Wallen"
                    ],
                    [
                      "Playing Games",
                      "Summer Walker"
                    ],
                    [
                      "Please Me",
                      "Cardi B & Bruno Mars"
                    ],
                    [
                      "SkeeYee",
                      "Sexyy Red"
                    ],
                    [
                      "Greedy",
                      "Tate McRae"
                    ],
                    [
                      "Even Though I'm Leaving",
                      "Luke Combs"
                    ],
                    [
                      "Thinkin' Bout Me",
                      "Morgan Wallen"
                    ],
                    [
                      "Good Vibes",
                      "Chris Janson"
                    ],
                    [
                      "Talk You Out Of It",
                      "Florida Georgia Line"
                    ],
                    [
                      "Strangers",
                      "Kenya Grace"
                    ],
                    [
                      "Eyes On You",
                      "Chase Rice"
                    ],
                    [
                      "Great Gatsby",
                      "Rod Wave"
                    ],
                    [
                      "Every Little Thing",
                      "Russell Dickerson"
                    ],
                    [
                      "500lbs",
                      "Lil Tecca"
                    ],
                    [
                      "223's",
                      "YNW Melly & 9lokknine"
                    ],
                    [
                      "Agora Hills",
                      "Doja Cat"
                    ],
                    [
                      "On My Way To You",
                      "Cody Johnson"
                    ],
                    [
                      "Good As You",
                      "Kane Brown"
                    ],
                    [
                      "Karma",
                      "Taylor Swift Featuring Ice Spice"
                    ],
                    [
                      "Girls Need Love",
                      "Summer Walker X Drake"
                    ],
                    [
                      "Bongos",
                      "Cardi B & Megan Thee Stallion"
                    ],
                    [
                      "My Love Mine All Mine",
                      "Mitski"
                    ],
                    [
                      "Enemies",
                      "Post Malone Featuring DaBaby"
                    ],
                    [
                      "Take What You Want",
                      "Post Malone Featuring Ozzy Osbourne & Travis Scott"
                    ],
                    [
                      "Faucet Failure",
                      "Ski Mask The Slump God"
                    ],
                    [
                      "Por Las Noches",
                      "Peso Pluma"
                    ],
                    [
                      "Self Control",
                      "YoungBoy Never Broke Again"
                    ],
                    [
                      "Secreto",
                      "Anuel AA & Karol G"
                    ],
                    [
                      "Jingle Bells",
                      "Frank Sinatra With The Orchestra & Chorus Of Gordon Jenkins"
                    ],
                    [
                      "Liar",
                      "Camila Cabello"
                    ],
                    [
                      "Stick Season",
                      "Noah Kahan"
                    ],
                    [
                      "Slut Me Out",
                      "NLE Choppa"
                    ],
                    [
                      "Act Up",
                      "City Girls"
                    ],
                    [
                      "ICU",
                      "Coco Jones"
                    ],
                    [
                      "El Gordo Trae El Mando",
                      "Chino Pacas"
                    ],
                    [
                      "Camelot",
                      "NLE Choppa"
                    ],
                    [
                      "Segun Quien",
                      "Maluma & Carin Leon"
                    ],
                    [
                      "Deck The Halls",
                      "Nat King Cole"
                    ],
                    [
                      "Remember You Young",
                      "Thomas Rhett"
                    ],
                    [
                      "Blue Christmas",
                      "Elvis Presley"
                    ],
                    [
                      "Whiskey Glasses",
                      "Morgan Wallen"
                    ],
                    [
                      "GIRL",
                      "Maren Morris"
                    ],
                    [
                      "Look What God Gave Her",
                      "Thomas Rhett"
                    ],
                    [
                      "Ella Baila Sola",
                      "Eslabon Armado X Peso Pluma"
                    ],
                    [
                      "Water",
                      "Tyla"
                    ],
                    [
                      "Wish You Were Gay",
                      "Billie Eilish"
                    ],
                    [
                      "Hot Girl Bummer",
                      "blackbear"
                    ],
                    [
                      "Can't Have Mine",
                      "Dylan Scott"
                    ],
                    [
                      "Cupid",
                      "Fifty Fifty"
                    ],
                    [
                      "La Bebe",
                      "Yng Lvcas x Peso Pluma"
                    ],
                    [
                      "Graveyard",
                      "Halsey"
                    ],
                    [
                      "Walk Me Home",
                      "P!nk"
                    ],
                    [
                      "Wonderful Christmastime",
                      "Paul McCartney"
                    ],
                    [
                      "Low Down",
                      "Lil Baby"
                    ],
                    [
                      "Que Onda",
                      "Calle 24 x Chino Pacas x Fuerza Regida"
                    ],
                    [
                      "Rich Baby Daddy",
                      "Drake Featuring Sexyy Red & SZA"
                    ],
                    [
                      "Wild Ones",
                      "Jessie Murph & Jelly Roll"
                    ],
                    [
                      "The Painter",
                      "Cody Johnson"
                    ],
                    [
                      "Here With Me",
                      "Marshmello Featuring CHVRCHES"
                    ],
                    [
                      "I've Been Waiting",
                      "Lil Peep & iLoveMakonnen Featuring Fall Out Boy"
                    ],
                    [
                      "Beso",
                      "Rosalia & Rauw Alejandro"
                    ],
                    [
                      "IDGAF",
                      "Drake Featuring Yeat"
                    ],
                    [
                      "You're A Mean One, Mr. Grinch",
                      "Thurl Ravenscroft"
                    ],
                    [
                      "First Person Shooter",
                      "Drake Featuring J. Cole"
                    ],
                    [
                      "The Bones",
                      "Maren Morris"
                    ],
                    [
                      "Memories",
                      "Maroon 5"
                    ],
                    [
                      "Rumor",
                      "Lee Brice"
                    ],
                    [
                      "Eyes Closed",
                      "Ed Sheeran"
                    ],
                    [
                      "Ch y La Pizza",
                      "Fuerza Regida X Natanael Cano"
                    ],
                    [
                      "3D",
                      "Jung Kook & Jack Harlow"
                    ],
                    [
                      "Virginia Beach",
                      "Drake"
                    ],
                    [
                      "Fast Car",
                      "Luke Combs"
                    ],
                    [
                      "Perro Negro",
                      "Bad Bunny & Feid"
                    ],
                    [
                      "Heartache Medication",
                      "Jon Pardi"
                    ],
                    [
                      "Monaco",
                      "Bad Bunny"
                    ],
                    [
                      "Hot Shower",
                      "Chance The Rapper Featuring MadeinTYO & DaBaby"
                    ],
                    [
                      "BOP",
                      "DaBaby"
                    ],
                    [
                      "Need A Favor",
                      "Jelly Roll"
                    ],
                    [
                      "But I Got A Beer In My Hand",
                      "Luke Bryan"
                    ],
                    [
                      "Calma",
                      "Pedro Capo X Farruko"
                    ],
                    [
                      "Fight The Feeling",
                      "Rod Wave"
                    ],
                    [
                      "Memory Lane",
                      "Old Dominion"
                    ],
                    [
                      "Santa Claus Is Comin' To Town",
                      "Jackson 5"
                    ],
                    [
                      "VIBEZ",
                      "DaBaby"
                    ],
                    [
                      "You Should See Me In A Crown",
                      "Billie Eilish"
                    ],
                    [
                      "Private Landing",
                      "Don Toliver Featuring Justin Bieber & Future"
                    ],
                    [
                      "Slow Dancing In The Dark",
                      "Joji"
                    ],
                    [
                      "Search & Rescue",
                      "Drake"
                    ],
                    [
                      "10,000 Hours",
                      "Dan + Shay & Justin Bieber"
                    ],
                    [
                      "Leave Em Alone",
                      "Layton Greene, Lil Baby, City Girls & PnB Rock"
                    ],
                    [
                      "Bandit",
                      "Juice WRLD & YoungBoy Never Broke Again"
                    ],
                    [
                      "Pop Out",
                      "Polo G Featuring Lil Tjay"
                    ],
                    [
                      "But I Got A Beer In My Hand",
                      "Luke Bryan"
                    ],
                    [
                      "HIGHEST IN THE ROOM",
                      "Travis Scott"
                    ],
                    [
                      "El Azul",
                      "Junior H x Peso Pluma"
                    ],
                    [
                      "Don't Call Me Up",
                      "Mabel"
                    ],
                    [
                      "Dance Monkey",
                      "Tones And I"
                    ],
                    [
                      "Burn It Down",
                      "Parker McCollum"
                    ],
                    [
                      "Moonlight",
                      "Kali Uchis"
                    ],
                    [
                      "See You Again",
                      "Tyler, The Creator Featuring Kali Uchis"
                    ],
                    [
                      "Lonely Child",
                      "YoungBoy Never Broke Again"
                    ],
                    [
                      "Chanel",
                      "Becky G & Peso Pluma"
                    ],
                    [
                      "La Cancion",
                      "J Balvin & Bad Bunny"
                    ],
                    [
                      "Chemical",
                      "Post Malone"
                    ],
                    [
                      "Igualito A Mi Apa",
                      "Fuerza Regida & Peso Pluma"
                    ],
                    [
                      "Kinfolks",
                      "Sam Hunt"
                    ],
                    [
                      "It Matters To Her",
                      "Scotty McCreery"
                    ],
                    [
                      "Is It Over Now? (Taylor's Version) [From The Vault]",
                      "Taylor Swift"
                    ],
                    [
                      "Daylight",
                      "David Kushner"
                    ],
                    [
                      "Un x100to",
                      "Grupo Frontera X Bad Bunny"
                    ],
                    [
                      "Suge",
                      "DaBaby"
                    ],
                    [
                      "Too Much",
                      "The Kid LAROI, Jung Kook & Central Cee"
                    ],
                    [
                      "God's Country",
                      "Blake Shelton"
                    ],
                    [
                      "Save Me The Trouble",
                      "Dan + Shay"
                    ],
                    [
                      "Princess Diana",
                      "Ice Spice & Nicki Minaj"
                    ],
                    [
                      "Santa Baby",
                      "Eartha Kitt With Henri Rene And His Orchestra"
                    ],
                    [
                      "Nice To Meet Ya",
                      "Niall Horan"
                    ],
                    [
                      "World On Fire",
                      "Nate Smith"
                    ],
                    [
                      "Make No Sense",
                      "YoungBoy Never Broke Again"
                    ],
                    [
                      "Racks In The Middle",
                      "Nipsey Hussle Featuring Roddy Ricch & Hit-Boy"
                    ],
                    [
                      "Now That We Don't Talk (Taylor's Version) [From The Vault]",
                      "Taylor Swift"
                    ],
                    [
                      "Bad Guy",
                      "Billie Eilish"
                    ],
                    [
                      "Fragil",
                      "Yahritza y Su Esencia x Grupo Frontera"
                    ],
                    [
                      "Big Ole Freak",
                      "Megan Thee Stallion"
                    ],
                    [
                      "Standing Next To You",
                      "Jung Kook"
                    ],
                    [
                      "Cool",
                      "Jonas Brothers"
                    ],
                    [
                      "Slut! (Taylor's Version) [From The Vault]",
                      "Taylor Swift"
                    ],
                    [
                      "Clout",
                      "Offset Featuring Cardi B"
                    ],
                    [
                      "All The Good Girls Go To Hell",
                      "Billie Eilish"
                    ],
                    [
                      "I'm So Tired...",
                      "Lauv & Troye Sivan"
                    ],
                    [
                      "Double Fantasy",
                      "The Weeknd Featuring Future"
                    ],
                    [
                      "Can't Catch Me Now",
                      "Olivia Rodrigo"
                    ],
                    [
                      "24/7",
                      "Meek Mill Featuring Ella Mai"
                    ],
                    [
                      "Little Saint Nick",
                      "The Beach Boys"
                    ],
                    [
                      "Harley Quinn",
                      "Fuerza Regida & Marshmello"
                    ],
                    [
                      "Lose You To Love Me",
                      "Selena Gomez"
                    ],
                    [
                      "Say Don't Go (Taylor's Version) [From The Vault]",
                      "Taylor Swift"
                    ],
                    [
                      "Northern Attitude",
                      "Noah Kahan With Hozier"
                    ],
                    [
                      "Surround Sound",
                      "JID Featuring 21 Savage & Baby Tate"
                    ],
                    [
                      "People",
                      "Libianca"
                    ],
                    [
                      "Houdini",
                      "Dua Lipa"
                    ],
                    [
                      "That's A Rack",
                      "Lil Uzi Vert"
                    ],
                    [
                      "Style (Taylor's Version)",
                      "Taylor Swift"
                    ],
                    [
                      "Stuck In A Dream",
                      "Lil Mosey x Gunna"
                    ],
                    [
                      "Hey Look Ma, I Made It",
                      "Panic! At The Disco"
                    ],
                    [
                      "Lovin On Me",
                      "Jack Harlow"
                    ],
                    [
                      "Follow God",
                      "Kanye West"
                    ],
                    [
                      "Sanguine Paradise",
                      "Lil Uzi Vert"
                    ],
                    [
                      "Love Ain't",
                      "Eli Young Band"
                    ],
                    [
                      "Juicy",
                      "Doja Cat & Tyga"
                    ],
                    [
                      "Waffle House",
                      "Jonas Brothers"
                    ],
                    [
                      "Boy With Luv",
                      "BTS Featuring Halsey"
                    ],
                    [
                      "Lights Up",
                      "Harry Styles"
                    ],
                    [
                      "Calling For You",
                      "Drake Featuring 21 Savage"
                    ],
                    [
                      "Earth",
                      "Lil Dicky"
                    ],
                    [
                      "Exes",
                      "Tate McRae"
                    ],
                    [
                      "You, Me, & Whiskey",
                      "Justin Moore & Priscilla Block"
                    ],
                    [
                      "Easy",
                      "DaniLeigh Featuring Chris Brown"
                    ],
                    [
                      "You Broke My Heart",
                      "Drake"
                    ],
                    [
                      "Wreckage",
                      "Nate Smith"
                    ],
                    [
                      "Don't Start Now",
                      "Dua Lipa"
                    ],
                    [
                      "Where The Wild Things Are",
                      "Luke Combs"
                    ],
                    [
                      "Before I Let Go",
                      "Beyonce"
                    ],
                    [
                      "Different 'Round Here",
                      "Riley Green Featuring Luke Combs"
                    ],
                    [
                      "Cruel Summer",
                      "Taylor Swift"
                    ],
                    [
                      "What It Is (Block Boy)",
                      "Doechii Featuring Kodak Black"
                    ],
                    [
                      "Area Codes",
                      "Kaliii"
                    ],
                    [
                      "homecoming queen?",
                      "Kelsea Ballerini"
                    ],
                    [
                      "Go Hard",
                      "Lil Baby"
                    ],
                    [
                      "Heartless",
                      "Diplo Presents Thomas Wesley Featuring Morgan Wallen"
                    ],
                    [
                      "Religiously",
                      "Bailey Zimmerman"
                    ],
                    [
                      "Ridin' Roads",
                      "Dustin Lynch"
                    ],
                    [
                      "Roxanne",
                      "Arizona Zervas"
                    ],
                    [
                      "Mathematical Disrespect",
                      "Lil Mabu"
                    ],
                    [
                      "ME!",
                      "Taylor Swift Featuring Brendon Urie"
                    ],
                    [
                      "Love Someone",
                      "Brett Eldredge"
                    ],
                    [
                      "Shotta Flow",
                      "NLE Choppa"
                    ],
                    [
                      "Jaded",
                      "Miley Cyrus"
                    ],
                    [
                      "Surround Sound",
                      "JID Featuring 21 Savage & Baby Tate"
                    ],
                    [
                      "Shake Sumn",
                      "DaBaby"
                    ],
                    [
                      "Jerry Sprunger",
                      "Tory Lanez & T-Pain"
                    ],
                    [
                      "Baila Baila Baila",
                      "Ozuna x Daddy Yankee x J Balvin x Farruko x Anuel AA"
                    ],
                    [
                      "Bury Me In Georgia",
                      "Kane Brown"
                    ],
                    [
                      "Power Is Power",
                      "SZA, The Weeknd & Travis Scott"
                    ],
                    [
                      "Soak City",
                      "310babii"
                    ],
                    [
                      "Everything I Wanted",
                      "Billie Eilish"
                    ],
                    [
                      "Woah",
                      "Lil Baby"
                    ],
                    [
                      "Life Goes On",
                      "Ed Sheeran Featuring Luke Combs"
                    ],
                    [
                      "All My Life",
                      "Lil Durk Featuring J. Cole"
                    ],
                    [
                      "Tusa",
                      "Karol G & Nicki Minaj"
                    ],
                    [
                      "Yellow Hearts",
                      "Ant Saunders"
                    ],
                    [
                      "You're Losing Me (From The Vault)",
                      "Taylor Swift"
                    ],
                    [
                      "Where The Wild Things Are",
                      "Luke Combs"
                    ],
                    [
                      "America Has A Problem",
                      "Beyonce Featuring Kendrick Lamar"
                    ],
                    [
                      "Different 'Round Here",
                      "Riley Green Featuring Luke Combs"
                    ],
                    [
                      "Your Heart Or Mine",
                      "Jon Pardi"
                    ],
                    [
                      "Heart On Ice",
                      "Rod Wave"
                    ],
                    [
                      "Surround Sound",
                      "JID Featuring 21 Savage & Baby Tate"
                    ],
                    [
                      "Knockin' Boots",
                      "Luke Bryan"
                    ],
                    [
                      "My House",
                      "Beyonce"
                    ],
                    [
                      "Baby Don't Hurt Me",
                      "David Guetta, Anne-Marie & Coi Leray"
                    ],
                    [
                      "Angel, Pt. 1",
                      "Kodak Black, NLE Choppa, Jimin, JVKE & Muni Long"
                    ],
                    [
                      "Mourning",
                      "Post Malone"
                    ],
                    [
                      "None Of Your Concern",
                      "Jhene Aiko Featuring Big Sean"
                    ],
                    [
                      "To Summer, From Cole (Audio Hug)",
                      "Summer Walker & J. Cole"
                    ],
                    [
                      "Reply",
                      "A Boogie Wit da Hoodie Featuring Lil Uzi Vert"
                    ],
                    [
                      "Beauty In The Benz",
                      "Tory Lanez Featuring Snoop Dogg"
                    ],
                    [
                      "You",
                      "Dan + Shay"
                    ],
                    [
                      "Falling",
                      "Trevor Daniel"
                    ],
                    [
                      "All To Myself",
                      "Dan + Shay"
                    ],
                    [
                      "Red Button",
                      "Drake"
                    ],
                    [
                      "Paradise",
                      "Bazzi"
                    ],
                    [
                      "You're Losing Me (From The Vault)",
                      "Taylor Swift"
                    ],
                    [
                      "RITMO (Bad Boys For Life)",
                      "Black Eyed Peas X J Balvin"
                    ],
                    [
                      "Wick Man",
                      "Drake"
                    ],
                    [
                      "Where She Goes",
                      "Bad Bunny"
                    ],
                    [
                      "Beer Never Broke My Heart",
                      "Luke Combs"
                    ],
                    [
                      "Mmhmm",
                      "BigXthaPlug"
                    ],
                    [
                      "Homesick",
                      "Kane Brown"
                    ],
                    [
                      "Truth Hurts",
                      "Lizzo"
                    ],
                    [
                      "Homicide",
                      "Logic Featuring Eminem"
                    ],
                    [
                      "Die Young",
                      "Roddy Ricch"
                    ],
                    [
                      "I Swear, I Really Wanted To Make A \"Rap\" Album But...",
                      "Andre 3000"
                    ],
                    [
                      "Death",
                      "Trippie Redd Featuring DaBaby"
                    ],
                    [
                      "Stories About My Brother",
                      "Drake"
                    ],
                    [
                      "If I Can't Have You",
                      "Shawn Mendes"
                    ],
                    [
                      "Up All Night",
                      "Khalid"
                    ],
                    [
                      "TQM",
                      "Fuerza Regida"
                    ],
                    [
                      "Labios Mordidos",
                      "Kali Uchis & Karol G"
                    ],
                    [
                      "Watermelon Sugar",
                      "Harry Styles"
                    ],
                    [
                      "We Back",
                      "Jason Aldean"
                    ],
                    [
                      "Feather",
                      "Sabrina Carpenter"
                    ],
                    [
                      "Say Yes To Heaven",
                      "Lana Del Rey"
                    ],
                    [
                      "Everywhere, Everything",
                      "Noah Kahan With Gracie Abrams"
                    ],
                    [
                      "Evil Ways",
                      "Drake Featuring J. Cole"
                    ],
                    [
                      "The Take",
                      "Tory Lanez Featuring Chris Brown"
                    ],
                    [
                      "Hell Right",
                      "Blake Shelton Featuring Trace Adkins"
                    ],
                    [
                      "Middle Child",
                      "PnB Rock & XXXTENTACION"
                    ],
                    [
                      "The Shoe Fits",
                      "Drake"
                    ],
                    [
                      "Go Loko",
                      "YG, Tyga & Jon Z"
                    ]
                  ],
                  "hovertemplate": "Weeks on Chart=%{x}<br>Peak Position=%{y}<br>Title=%{customdata[0]}<br>Singer(s)=%{customdata[1]}<extra></extra>",
                  "legendgroup": "",
                  "marker": {
                    "color": "skyblue",
                    "symbol": "circle"
                  },
                  "mode": "markers",
                  "name": "",
                  "orientation": "v",
                  "showlegend": false,
                  "type": "scatter",
                  "x": [
                    62,
                    60,
                    57,
                    55,
                    54,
                    53,
                    53,
                    52,
                    50,
                    50,
                    50,
                    45,
                    45,
                    45,
                    43,
                    43,
                    43,
                    43,
                    41,
                    41,
                    41,
                    41,
                    40,
                    40,
                    40,
                    39,
                    38,
                    38,
                    38,
                    38,
                    37,
                    37,
                    37,
                    36,
                    36,
                    36,
                    35,
                    35,
                    34,
                    34,
                    34,
                    34,
                    32,
                    32,
                    32,
                    32,
                    31,
                    31,
                    31,
                    29,
                    29,
                    29,
                    29,
                    29,
                    28,
                    28,
                    28,
                    28,
                    28,
                    27,
                    26,
                    26,
                    26,
                    25,
                    25,
                    25,
                    25,
                    25,
                    25,
                    25,
                    25,
                    25,
                    24,
                    24,
                    24,
                    24,
                    24,
                    23,
                    23,
                    23,
                    23,
                    23,
                    22,
                    22,
                    22,
                    22,
                    21,
                    21,
                    21,
                    21,
                    21,
                    21,
                    20,
                    20,
                    20,
                    20,
                    20,
                    20,
                    20,
                    20,
                    20,
                    20,
                    20,
                    19,
                    19,
                    19,
                    19,
                    19,
                    19,
                    19,
                    19,
                    18,
                    18,
                    18,
                    18,
                    18,
                    18,
                    18,
                    18,
                    17,
                    17,
                    17,
                    17,
                    17,
                    17,
                    17,
                    17,
                    17,
                    17,
                    16,
                    16,
                    16,
                    16,
                    16,
                    16,
                    16,
                    16,
                    16,
                    15,
                    15,
                    15,
                    15,
                    15,
                    15,
                    15,
                    15,
                    15,
                    15,
                    15,
                    15,
                    15,
                    15,
                    15,
                    15,
                    14,
                    14,
                    14,
                    14,
                    14,
                    14,
                    14,
                    13,
                    13,
                    13,
                    13,
                    13,
                    13,
                    13,
                    13,
                    13,
                    12,
                    12,
                    12,
                    12,
                    12,
                    12,
                    12,
                    12,
                    12,
                    12,
                    12,
                    12,
                    12,
                    12,
                    12,
                    12,
                    12,
                    12,
                    12,
                    12,
                    12,
                    12,
                    12,
                    12,
                    12,
                    12,
                    12,
                    11,
                    11,
                    11,
                    11,
                    11,
                    11,
                    11,
                    11,
                    11,
                    11,
                    11,
                    11,
                    11,
                    11,
                    11,
                    11,
                    11,
                    10,
                    10,
                    10,
                    10,
                    10,
                    10,
                    10,
                    10,
                    10,
                    10,
                    10,
                    10,
                    10,
                    10,
                    10,
                    10,
                    10,
                    10,
                    10,
                    10,
                    10,
                    10,
                    10,
                    10,
                    10,
                    9,
                    9,
                    9,
                    9,
                    9,
                    9,
                    9,
                    9,
                    9,
                    9,
                    9,
                    9,
                    9,
                    9,
                    9,
                    9,
                    9,
                    8,
                    8,
                    8,
                    8,
                    8,
                    8,
                    8,
                    8,
                    8,
                    8,
                    8,
                    8,
                    7,
                    7,
                    7,
                    7,
                    7,
                    7,
                    7,
                    7,
                    7,
                    7,
                    7,
                    7,
                    7,
                    7,
                    7,
                    6,
                    6,
                    6,
                    6,
                    6,
                    6,
                    6,
                    6,
                    6,
                    6,
                    6,
                    6,
                    6,
                    6,
                    6,
                    6,
                    6,
                    6,
                    6,
                    6,
                    6,
                    6,
                    6,
                    5,
                    5,
                    5,
                    5,
                    5,
                    5,
                    5,
                    5,
                    5,
                    5,
                    5,
                    5,
                    5,
                    5,
                    5,
                    4,
                    4,
                    4,
                    4,
                    4,
                    4,
                    4,
                    4,
                    4,
                    4,
                    4,
                    4,
                    4,
                    4,
                    4,
                    4,
                    4,
                    3,
                    3,
                    3,
                    3,
                    3,
                    3,
                    3,
                    3,
                    3,
                    3,
                    3,
                    3,
                    3,
                    3,
                    3,
                    3,
                    3,
                    3,
                    3,
                    3,
                    3,
                    3,
                    3,
                    3,
                    3,
                    3,
                    2,
                    2,
                    2,
                    2,
                    2,
                    2,
                    2,
                    2,
                    2,
                    2,
                    2,
                    2,
                    2,
                    2,
                    2,
                    2,
                    2,
                    2,
                    2,
                    1,
                    1,
                    1,
                    1,
                    1,
                    1,
                    1,
                    1,
                    1,
                    1,
                    1,
                    1,
                    1,
                    1,
                    1,
                    1,
                    1,
                    1,
                    1,
                    1,
                    1,
                    1,
                    1,
                    1,
                    1,
                    1,
                    1,
                    1,
                    1,
                    1,
                    1,
                    1,
                    1,
                    1,
                    1,
                    1,
                    1,
                    1,
                    1,
                    1,
                    1
                  ],
                  "xaxis": "x",
                  "y": [
                    1,
                    1,
                    10,
                    1,
                    5,
                    2,
                    3,
                    2,
                    1,
                    1,
                    10,
                    7,
                    1,
                    1,
                    1,
                    29,
                    9,
                    13,
                    3,
                    7,
                    9,
                    14,
                    7,
                    1,
                    4,
                    4,
                    4,
                    1,
                    1,
                    2,
                    2,
                    12,
                    13,
                    4,
                    5,
                    13,
                    4,
                    1,
                    4,
                    1,
                    8,
                    7,
                    3,
                    1,
                    10,
                    12,
                    1,
                    1,
                    1,
                    5,
                    29,
                    6,
                    1,
                    1,
                    2,
                    28,
                    8,
                    1,
                    23,
                    1,
                    29,
                    6,
                    21,
                    4,
                    3,
                    55,
                    13,
                    10,
                    19,
                    10,
                    24,
                    4,
                    28,
                    16,
                    12,
                    30,
                    5,
                    6,
                    18,
                    25,
                    1,
                    7,
                    27,
                    5,
                    36,
                    1,
                    31,
                    11,
                    14,
                    13,
                    12,
                    9,
                    12,
                    1,
                    8,
                    55,
                    43,
                    39,
                    12,
                    3,
                    38,
                    12,
                    2,
                    73,
                    56,
                    32,
                    3,
                    11,
                    10,
                    56,
                    15,
                    37,
                    24,
                    37,
                    1,
                    20,
                    42,
                    41,
                    21,
                    18,
                    20,
                    7,
                    28,
                    1,
                    61,
                    8,
                    39,
                    25,
                    25,
                    1,
                    42,
                    36,
                    58,
                    3,
                    14,
                    42,
                    4,
                    18,
                    14,
                    46,
                    22,
                    11,
                    25,
                    1,
                    33,
                    62,
                    15,
                    23,
                    71,
                    56,
                    68,
                    14,
                    59,
                    8,
                    22,
                    5,
                    10,
                    23,
                    31,
                    11,
                    59,
                    2,
                    47,
                    11,
                    52,
                    3,
                    8,
                    20,
                    7,
                    46,
                    23,
                    1,
                    40,
                    24,
                    15,
                    36,
                    56,
                    65,
                    27,
                    1,
                    13,
                    84,
                    48,
                    52,
                    11,
                    16,
                    3,
                    62,
                    7,
                    11,
                    9,
                    48,
                    78,
                    52,
                    38,
                    30,
                    50,
                    51,
                    34,
                    14,
                    84,
                    42,
                    9,
                    37,
                    14,
                    26,
                    16,
                    8,
                    87,
                    28,
                    50,
                    68,
                    20,
                    52,
                    31,
                    28,
                    29,
                    63,
                    58,
                    37,
                    68,
                    16,
                    53,
                    24,
                    28,
                    61,
                    48,
                    4,
                    10,
                    31,
                    41,
                    57,
                    17,
                    11,
                    39,
                    49,
                    28,
                    50,
                    61,
                    11,
                    42,
                    55,
                    31,
                    62,
                    52,
                    2,
                    31,
                    1,
                    48,
                    4,
                    57,
                    19,
                    68,
                    5,
                    3,
                    9,
                    20,
                    67,
                    5,
                    58,
                    18,
                    40,
                    91,
                    71,
                    16,
                    57,
                    33,
                    21,
                    41,
                    72,
                    69,
                    2,
                    4,
                    60,
                    10,
                    39,
                    92,
                    1,
                    55,
                    67,
                    19,
                    77,
                    80,
                    44,
                    44,
                    55,
                    84,
                    13,
                    80,
                    62,
                    62,
                    1,
                    47,
                    5,
                    22,
                    44,
                    33,
                    84,
                    4,
                    35,
                    63,
                    47,
                    57,
                    26,
                    2,
                    7,
                    69,
                    65,
                    5,
                    27,
                    3,
                    39,
                    46,
                    81,
                    18,
                    56,
                    54,
                    29,
                    40,
                    1,
                    5,
                    37,
                    64,
                    89,
                    11,
                    76,
                    9,
                    62,
                    59,
                    1,
                    7,
                    28,
                    60,
                    47,
                    57,
                    8,
                    17,
                    5,
                    17,
                    34,
                    82,
                    88,
                    11,
                    69,
                    30,
                    83,
                    65,
                    95,
                    29,
                    75,
                    33,
                    82,
                    59,
                    78,
                    40,
                    70,
                    12,
                    47,
                    2,
                    89,
                    82,
                    56,
                    77,
                    69,
                    44,
                    69,
                    85,
                    90,
                    98,
                    8,
                    16,
                    66,
                    2,
                    78,
                    81,
                    27,
                    84,
                    38,
                    96,
                    89,
                    54,
                    90,
                    84,
                    57,
                    96,
                    65,
                    36,
                    55,
                    63,
                    49,
                    87,
                    87,
                    75,
                    96,
                    51,
                    98,
                    46,
                    100,
                    71,
                    8,
                    68,
                    93,
                    95,
                    50,
                    5,
                    99,
                    90,
                    97,
                    58,
                    2,
                    89,
                    35,
                    97,
                    60,
                    93,
                    100,
                    54,
                    79,
                    26,
                    66,
                    99,
                    91,
                    52,
                    71
                  ],
                  "yaxis": "y"
                }
              ],
              "layout": {
                "bargap": 0.2,
                "hoverlabel": {
                  "font": {
                    "family": "Arial",
                    "size": 14
                  }
                },
                "legend": {
                  "tracegroupgap": 0
                },
                "template": {
                  "data": {
                    "bar": [
                      {
                        "error_x": {
                          "color": "#2a3f5f"
                        },
                        "error_y": {
                          "color": "#2a3f5f"
                        },
                        "marker": {
                          "line": {
                            "color": "#E5ECF6",
                            "width": 0.5
                          },
                          "pattern": {
                            "fillmode": "overlay",
                            "size": 10,
                            "solidity": 0.2
                          }
                        },
                        "type": "bar"
                      }
                    ],
                    "barpolar": [
                      {
                        "marker": {
                          "line": {
                            "color": "#E5ECF6",
                            "width": 0.5
                          },
                          "pattern": {
                            "fillmode": "overlay",
                            "size": 10,
                            "solidity": 0.2
                          }
                        },
                        "type": "barpolar"
                      }
                    ],
                    "carpet": [
                      {
                        "aaxis": {
                          "endlinecolor": "#2a3f5f",
                          "gridcolor": "white",
                          "linecolor": "white",
                          "minorgridcolor": "white",
                          "startlinecolor": "#2a3f5f"
                        },
                        "baxis": {
                          "endlinecolor": "#2a3f5f",
                          "gridcolor": "white",
                          "linecolor": "white",
                          "minorgridcolor": "white",
                          "startlinecolor": "#2a3f5f"
                        },
                        "type": "carpet"
                      }
                    ],
                    "choropleth": [
                      {
                        "colorbar": {
                          "outlinewidth": 0,
                          "ticks": ""
                        },
                        "type": "choropleth"
                      }
                    ],
                    "contour": [
                      {
                        "colorbar": {
                          "outlinewidth": 0,
                          "ticks": ""
                        },
                        "colorscale": [
                          [
                            0,
                            "#0d0887"
                          ],
                          [
                            0.1111111111111111,
                            "#46039f"
                          ],
                          [
                            0.2222222222222222,
                            "#7201a8"
                          ],
                          [
                            0.3333333333333333,
                            "#9c179e"
                          ],
                          [
                            0.4444444444444444,
                            "#bd3786"
                          ],
                          [
                            0.5555555555555556,
                            "#d8576b"
                          ],
                          [
                            0.6666666666666666,
                            "#ed7953"
                          ],
                          [
                            0.7777777777777778,
                            "#fb9f3a"
                          ],
                          [
                            0.8888888888888888,
                            "#fdca26"
                          ],
                          [
                            1,
                            "#f0f921"
                          ]
                        ],
                        "type": "contour"
                      }
                    ],
                    "contourcarpet": [
                      {
                        "colorbar": {
                          "outlinewidth": 0,
                          "ticks": ""
                        },
                        "type": "contourcarpet"
                      }
                    ],
                    "heatmap": [
                      {
                        "colorbar": {
                          "outlinewidth": 0,
                          "ticks": ""
                        },
                        "colorscale": [
                          [
                            0,
                            "#0d0887"
                          ],
                          [
                            0.1111111111111111,
                            "#46039f"
                          ],
                          [
                            0.2222222222222222,
                            "#7201a8"
                          ],
                          [
                            0.3333333333333333,
                            "#9c179e"
                          ],
                          [
                            0.4444444444444444,
                            "#bd3786"
                          ],
                          [
                            0.5555555555555556,
                            "#d8576b"
                          ],
                          [
                            0.6666666666666666,
                            "#ed7953"
                          ],
                          [
                            0.7777777777777778,
                            "#fb9f3a"
                          ],
                          [
                            0.8888888888888888,
                            "#fdca26"
                          ],
                          [
                            1,
                            "#f0f921"
                          ]
                        ],
                        "type": "heatmap"
                      }
                    ],
                    "heatmapgl": [
                      {
                        "colorbar": {
                          "outlinewidth": 0,
                          "ticks": ""
                        },
                        "colorscale": [
                          [
                            0,
                            "#0d0887"
                          ],
                          [
                            0.1111111111111111,
                            "#46039f"
                          ],
                          [
                            0.2222222222222222,
                            "#7201a8"
                          ],
                          [
                            0.3333333333333333,
                            "#9c179e"
                          ],
                          [
                            0.4444444444444444,
                            "#bd3786"
                          ],
                          [
                            0.5555555555555556,
                            "#d8576b"
                          ],
                          [
                            0.6666666666666666,
                            "#ed7953"
                          ],
                          [
                            0.7777777777777778,
                            "#fb9f3a"
                          ],
                          [
                            0.8888888888888888,
                            "#fdca26"
                          ],
                          [
                            1,
                            "#f0f921"
                          ]
                        ],
                        "type": "heatmapgl"
                      }
                    ],
                    "histogram": [
                      {
                        "marker": {
                          "pattern": {
                            "fillmode": "overlay",
                            "size": 10,
                            "solidity": 0.2
                          }
                        },
                        "type": "histogram"
                      }
                    ],
                    "histogram2d": [
                      {
                        "colorbar": {
                          "outlinewidth": 0,
                          "ticks": ""
                        },
                        "colorscale": [
                          [
                            0,
                            "#0d0887"
                          ],
                          [
                            0.1111111111111111,
                            "#46039f"
                          ],
                          [
                            0.2222222222222222,
                            "#7201a8"
                          ],
                          [
                            0.3333333333333333,
                            "#9c179e"
                          ],
                          [
                            0.4444444444444444,
                            "#bd3786"
                          ],
                          [
                            0.5555555555555556,
                            "#d8576b"
                          ],
                          [
                            0.6666666666666666,
                            "#ed7953"
                          ],
                          [
                            0.7777777777777778,
                            "#fb9f3a"
                          ],
                          [
                            0.8888888888888888,
                            "#fdca26"
                          ],
                          [
                            1,
                            "#f0f921"
                          ]
                        ],
                        "type": "histogram2d"
                      }
                    ],
                    "histogram2dcontour": [
                      {
                        "colorbar": {
                          "outlinewidth": 0,
                          "ticks": ""
                        },
                        "colorscale": [
                          [
                            0,
                            "#0d0887"
                          ],
                          [
                            0.1111111111111111,
                            "#46039f"
                          ],
                          [
                            0.2222222222222222,
                            "#7201a8"
                          ],
                          [
                            0.3333333333333333,
                            "#9c179e"
                          ],
                          [
                            0.4444444444444444,
                            "#bd3786"
                          ],
                          [
                            0.5555555555555556,
                            "#d8576b"
                          ],
                          [
                            0.6666666666666666,
                            "#ed7953"
                          ],
                          [
                            0.7777777777777778,
                            "#fb9f3a"
                          ],
                          [
                            0.8888888888888888,
                            "#fdca26"
                          ],
                          [
                            1,
                            "#f0f921"
                          ]
                        ],
                        "type": "histogram2dcontour"
                      }
                    ],
                    "mesh3d": [
                      {
                        "colorbar": {
                          "outlinewidth": 0,
                          "ticks": ""
                        },
                        "type": "mesh3d"
                      }
                    ],
                    "parcoords": [
                      {
                        "line": {
                          "colorbar": {
                            "outlinewidth": 0,
                            "ticks": ""
                          }
                        },
                        "type": "parcoords"
                      }
                    ],
                    "pie": [
                      {
                        "automargin": true,
                        "type": "pie"
                      }
                    ],
                    "scatter": [
                      {
                        "fillpattern": {
                          "fillmode": "overlay",
                          "size": 10,
                          "solidity": 0.2
                        },
                        "type": "scatter"
                      }
                    ],
                    "scatter3d": [
                      {
                        "line": {
                          "colorbar": {
                            "outlinewidth": 0,
                            "ticks": ""
                          }
                        },
                        "marker": {
                          "colorbar": {
                            "outlinewidth": 0,
                            "ticks": ""
                          }
                        },
                        "type": "scatter3d"
                      }
                    ],
                    "scattercarpet": [
                      {
                        "marker": {
                          "colorbar": {
                            "outlinewidth": 0,
                            "ticks": ""
                          }
                        },
                        "type": "scattercarpet"
                      }
                    ],
                    "scattergeo": [
                      {
                        "marker": {
                          "colorbar": {
                            "outlinewidth": 0,
                            "ticks": ""
                          }
                        },
                        "type": "scattergeo"
                      }
                    ],
                    "scattergl": [
                      {
                        "marker": {
                          "colorbar": {
                            "outlinewidth": 0,
                            "ticks": ""
                          }
                        },
                        "type": "scattergl"
                      }
                    ],
                    "scattermapbox": [
                      {
                        "marker": {
                          "colorbar": {
                            "outlinewidth": 0,
                            "ticks": ""
                          }
                        },
                        "type": "scattermapbox"
                      }
                    ],
                    "scatterpolar": [
                      {
                        "marker": {
                          "colorbar": {
                            "outlinewidth": 0,
                            "ticks": ""
                          }
                        },
                        "type": "scatterpolar"
                      }
                    ],
                    "scatterpolargl": [
                      {
                        "marker": {
                          "colorbar": {
                            "outlinewidth": 0,
                            "ticks": ""
                          }
                        },
                        "type": "scatterpolargl"
                      }
                    ],
                    "scatterternary": [
                      {
                        "marker": {
                          "colorbar": {
                            "outlinewidth": 0,
                            "ticks": ""
                          }
                        },
                        "type": "scatterternary"
                      }
                    ],
                    "surface": [
                      {
                        "colorbar": {
                          "outlinewidth": 0,
                          "ticks": ""
                        },
                        "colorscale": [
                          [
                            0,
                            "#0d0887"
                          ],
                          [
                            0.1111111111111111,
                            "#46039f"
                          ],
                          [
                            0.2222222222222222,
                            "#7201a8"
                          ],
                          [
                            0.3333333333333333,
                            "#9c179e"
                          ],
                          [
                            0.4444444444444444,
                            "#bd3786"
                          ],
                          [
                            0.5555555555555556,
                            "#d8576b"
                          ],
                          [
                            0.6666666666666666,
                            "#ed7953"
                          ],
                          [
                            0.7777777777777778,
                            "#fb9f3a"
                          ],
                          [
                            0.8888888888888888,
                            "#fdca26"
                          ],
                          [
                            1,
                            "#f0f921"
                          ]
                        ],
                        "type": "surface"
                      }
                    ],
                    "table": [
                      {
                        "cells": {
                          "fill": {
                            "color": "#EBF0F8"
                          },
                          "line": {
                            "color": "white"
                          }
                        },
                        "header": {
                          "fill": {
                            "color": "#C8D4E3"
                          },
                          "line": {
                            "color": "white"
                          }
                        },
                        "type": "table"
                      }
                    ]
                  },
                  "layout": {
                    "annotationdefaults": {
                      "arrowcolor": "#2a3f5f",
                      "arrowhead": 0,
                      "arrowwidth": 1
                    },
                    "autotypenumbers": "strict",
                    "coloraxis": {
                      "colorbar": {
                        "outlinewidth": 0,
                        "ticks": ""
                      }
                    },
                    "colorscale": {
                      "diverging": [
                        [
                          0,
                          "#8e0152"
                        ],
                        [
                          0.1,
                          "#c51b7d"
                        ],
                        [
                          0.2,
                          "#de77ae"
                        ],
                        [
                          0.3,
                          "#f1b6da"
                        ],
                        [
                          0.4,
                          "#fde0ef"
                        ],
                        [
                          0.5,
                          "#f7f7f7"
                        ],
                        [
                          0.6,
                          "#e6f5d0"
                        ],
                        [
                          0.7,
                          "#b8e186"
                        ],
                        [
                          0.8,
                          "#7fbc41"
                        ],
                        [
                          0.9,
                          "#4d9221"
                        ],
                        [
                          1,
                          "#276419"
                        ]
                      ],
                      "sequential": [
                        [
                          0,
                          "#0d0887"
                        ],
                        [
                          0.1111111111111111,
                          "#46039f"
                        ],
                        [
                          0.2222222222222222,
                          "#7201a8"
                        ],
                        [
                          0.3333333333333333,
                          "#9c179e"
                        ],
                        [
                          0.4444444444444444,
                          "#bd3786"
                        ],
                        [
                          0.5555555555555556,
                          "#d8576b"
                        ],
                        [
                          0.6666666666666666,
                          "#ed7953"
                        ],
                        [
                          0.7777777777777778,
                          "#fb9f3a"
                        ],
                        [
                          0.8888888888888888,
                          "#fdca26"
                        ],
                        [
                          1,
                          "#f0f921"
                        ]
                      ],
                      "sequentialminus": [
                        [
                          0,
                          "#0d0887"
                        ],
                        [
                          0.1111111111111111,
                          "#46039f"
                        ],
                        [
                          0.2222222222222222,
                          "#7201a8"
                        ],
                        [
                          0.3333333333333333,
                          "#9c179e"
                        ],
                        [
                          0.4444444444444444,
                          "#bd3786"
                        ],
                        [
                          0.5555555555555556,
                          "#d8576b"
                        ],
                        [
                          0.6666666666666666,
                          "#ed7953"
                        ],
                        [
                          0.7777777777777778,
                          "#fb9f3a"
                        ],
                        [
                          0.8888888888888888,
                          "#fdca26"
                        ],
                        [
                          1,
                          "#f0f921"
                        ]
                      ]
                    },
                    "colorway": [
                      "#636efa",
                      "#EF553B",
                      "#00cc96",
                      "#ab63fa",
                      "#FFA15A",
                      "#19d3f3",
                      "#FF6692",
                      "#B6E880",
                      "#FF97FF",
                      "#FECB52"
                    ],
                    "font": {
                      "color": "#2a3f5f"
                    },
                    "geo": {
                      "bgcolor": "white",
                      "lakecolor": "white",
                      "landcolor": "#E5ECF6",
                      "showlakes": true,
                      "showland": true,
                      "subunitcolor": "white"
                    },
                    "hoverlabel": {
                      "align": "left"
                    },
                    "hovermode": "closest",
                    "mapbox": {
                      "style": "light"
                    },
                    "paper_bgcolor": "white",
                    "plot_bgcolor": "#E5ECF6",
                    "polar": {
                      "angularaxis": {
                        "gridcolor": "white",
                        "linecolor": "white",
                        "ticks": ""
                      },
                      "bgcolor": "#E5ECF6",
                      "radialaxis": {
                        "gridcolor": "white",
                        "linecolor": "white",
                        "ticks": ""
                      }
                    },
                    "scene": {
                      "xaxis": {
                        "backgroundcolor": "#E5ECF6",
                        "gridcolor": "white",
                        "gridwidth": 2,
                        "linecolor": "white",
                        "showbackground": true,
                        "ticks": "",
                        "zerolinecolor": "white"
                      },
                      "yaxis": {
                        "backgroundcolor": "#E5ECF6",
                        "gridcolor": "white",
                        "gridwidth": 2,
                        "linecolor": "white",
                        "showbackground": true,
                        "ticks": "",
                        "zerolinecolor": "white"
                      },
                      "zaxis": {
                        "backgroundcolor": "#E5ECF6",
                        "gridcolor": "white",
                        "gridwidth": 2,
                        "linecolor": "white",
                        "showbackground": true,
                        "ticks": "",
                        "zerolinecolor": "white"
                      }
                    },
                    "shapedefaults": {
                      "line": {
                        "color": "#2a3f5f"
                      }
                    },
                    "ternary": {
                      "aaxis": {
                        "gridcolor": "white",
                        "linecolor": "white",
                        "ticks": ""
                      },
                      "baxis": {
                        "gridcolor": "white",
                        "linecolor": "white",
                        "ticks": ""
                      },
                      "bgcolor": "#E5ECF6",
                      "caxis": {
                        "gridcolor": "white",
                        "linecolor": "white",
                        "ticks": ""
                      }
                    },
                    "title": {
                      "x": 0.05
                    },
                    "xaxis": {
                      "automargin": true,
                      "gridcolor": "white",
                      "linecolor": "white",
                      "ticks": "",
                      "title": {
                        "standoff": 15
                      },
                      "zerolinecolor": "white",
                      "zerolinewidth": 2
                    },
                    "yaxis": {
                      "automargin": true,
                      "gridcolor": "white",
                      "linecolor": "white",
                      "ticks": "",
                      "title": {
                        "standoff": 15
                      },
                      "zerolinecolor": "white",
                      "zerolinewidth": 2
                    }
                  }
                },
                "title": {
                  "font": {
                    "size": 24
                  },
                  "text": "Peak Position vs. Total Weeks on Chart (2019-2024)",
                  "x": 0.5
                },
                "width": 1000,
                "xaxis": {
                  "anchor": "y",
                  "domain": [
                    0,
                    1
                  ],
                  "tickfont": {
                    "size": 16
                  },
                  "title": {
                    "font": {
                      "size": 20
                    },
                    "text": "Weeks on Chart"
                  }
                },
                "yaxis": {
                  "anchor": "x",
                  "domain": [
                    0,
                    1
                  ],
                  "tickfont": {
                    "size": 16
                  },
                  "title": {
                    "font": {
                      "size": 20
                    },
                    "text": "Peak Position"
                  }
                }
              }
            }
          },
          "metadata": {},
          "output_type": "display_data"
        }
      ],
      "source": [
        "# Peak Position vs. Total Weeks on Chart (2019-2024)\n",
        "# Create a scatter plot\n",
        "fig = px.scatter(\n",
        "    weeks_on_chart_sorted,\n",
        "    x='Weeks on Chart',\n",
        "    y='Peak Position',\n",
        "    color_discrete_sequence=['skyblue'],\n",
        "    hover_data=['Title', 'Singer(s)'],\n",
        "    title='Peak Position vs. Total Weeks on Chart (2019-2024)',\n",
        "    width=1000\n",
        ")\n",
        "\n",
        "# Customize the chart\n",
        "fig.update_layout(\n",
        "    title_font=dict(size=24),\n",
        "    title_x=0.5,\n",
        "    xaxis_title='Weeks on Chart',\n",
        "    yaxis_title='Peak Position',\n",
        "    xaxis_title_font=dict(size=20),\n",
        "    yaxis_title_font=dict(size=20),\n",
        "    xaxis=dict(\n",
        "        tickfont=dict(size=16),\n",
        "    ),\n",
        "    yaxis=dict(\n",
        "        tickfont=dict(size=16)\n",
        "    ),\n",
        "    hoverlabel=dict(\n",
        "        font=dict(\n",
        "            family=\"Arial\",\n",
        "            size=14\n",
        "        )\n",
        "    ),\n",
        "    bargap=0.2\n",
        ")\n",
        "\n",
        "# Show the chart\n",
        "fig.show()"
      ]
    },
    {
      "cell_type": "markdown",
      "metadata": {},
      "source": [
        "Longest Running Songs in Top 10 (2019-2024)"
      ]
    },
    {
      "cell_type": "code",
      "execution_count": 104,
      "metadata": {
        "colab": {
          "base_uri": "https://localhost:8080/"
        },
        "id": "PQnQs_XCYyyx",
        "outputId": "e5182778-8975-4dd3-82af-71d19ea84f1f"
      },
      "outputs": [
        {
          "name": "stdout",
          "output_type": "stream",
          "text": [
            "                              Title     Singer(s)  Weeks in Top 10\n",
            "35                           Snooze           SZA                3\n",
            "9                      Cruel Summer  Taylor Swift                3\n",
            "3   All I Want For Christmas Is You  Mariah Carey                3\n",
            "27                      Lovin On Me   Jack Harlow                3\n",
            "32               Paint The Town Red      Doja Cat                3\n"
          ]
        }
      ],
      "source": [
        "# Filter for songs that reached Top 10\n",
        "top10_songs = df[df['Rank'] <= 10]\n",
        "\n",
        "# Count how many weeks each song spent in the Top 10, including the singer\n",
        "weeks_top10_count = top10_songs.groupby(['Title', 'Singer(s)']).size().reset_index(name='Weeks in Top 10')\n",
        "\n",
        "# Sort by the number of weeks in descending order\n",
        "weeks_top10_count_sorted = weeks_top10_count.sort_values(by=['Weeks in Top 10'], ascending=False)\n",
        "\n",
        "# Show the top 5 results\n",
        "top_weeks_top10 = weeks_top10_count_sorted.head(5)\n",
        "\n",
        "# Display the final DataFrame\n",
        "print(top_weeks_top10)"
      ]
    },
    {
      "cell_type": "code",
      "execution_count": 108,
      "metadata": {
        "colab": {
          "base_uri": "https://localhost:8080/",
          "height": 542
        },
        "id": "bW76BH8daLb6",
        "outputId": "64ecbaf0-5682-49d0-ac36-c14a04c90390"
      },
      "outputs": [
        {
          "data": {
            "application/vnd.plotly.v1+json": {
              "config": {
                "plotlyServerURL": "https://plot.ly"
              },
              "data": [
                {
                  "alignmentgroup": "True",
                  "customdata": [
                    [
                      "SZA"
                    ],
                    [
                      "Taylor Swift"
                    ],
                    [
                      "Mariah Carey"
                    ],
                    [
                      "Jack Harlow"
                    ],
                    [
                      "Doja Cat"
                    ]
                  ],
                  "hovertemplate": "Title=%{x}<br>Weeks in Top 10=%{marker.color}<br>Singer(s)=%{customdata[0]}<extra></extra>",
                  "legendgroup": "",
                  "marker": {
                    "color": [
                      3,
                      3,
                      3,
                      3,
                      3
                    ],
                    "coloraxis": "coloraxis",
                    "pattern": {
                      "shape": ""
                    }
                  },
                  "name": "",
                  "offsetgroup": "",
                  "orientation": "v",
                  "showlegend": false,
                  "textposition": "auto",
                  "type": "bar",
                  "x": [
                    "Snooze",
                    "Cruel Summer",
                    "All I Want For Christmas Is You",
                    "Lovin On Me",
                    "Paint The Town Red"
                  ],
                  "xaxis": "x",
                  "y": [
                    3,
                    3,
                    3,
                    3,
                    3
                  ],
                  "yaxis": "y"
                }
              ],
              "layout": {
                "bargap": 0.2,
                "barmode": "relative",
                "coloraxis": {
                  "colorbar": {
                    "title": {
                      "text": "Weeks in Top 10"
                    }
                  },
                  "colorscale": [
                    [
                      0,
                      "#0d0887"
                    ],
                    [
                      0.1111111111111111,
                      "#46039f"
                    ],
                    [
                      0.2222222222222222,
                      "#7201a8"
                    ],
                    [
                      0.3333333333333333,
                      "#9c179e"
                    ],
                    [
                      0.4444444444444444,
                      "#bd3786"
                    ],
                    [
                      0.5555555555555556,
                      "#d8576b"
                    ],
                    [
                      0.6666666666666666,
                      "#ed7953"
                    ],
                    [
                      0.7777777777777778,
                      "#fb9f3a"
                    ],
                    [
                      0.8888888888888888,
                      "#fdca26"
                    ],
                    [
                      1,
                      "#f0f921"
                    ]
                  ]
                },
                "hoverlabel": {
                  "font": {
                    "family": "Arial",
                    "size": 14
                  }
                },
                "legend": {
                  "tracegroupgap": 0
                },
                "template": {
                  "data": {
                    "bar": [
                      {
                        "error_x": {
                          "color": "#2a3f5f"
                        },
                        "error_y": {
                          "color": "#2a3f5f"
                        },
                        "marker": {
                          "line": {
                            "color": "#E5ECF6",
                            "width": 0.5
                          },
                          "pattern": {
                            "fillmode": "overlay",
                            "size": 10,
                            "solidity": 0.2
                          }
                        },
                        "type": "bar"
                      }
                    ],
                    "barpolar": [
                      {
                        "marker": {
                          "line": {
                            "color": "#E5ECF6",
                            "width": 0.5
                          },
                          "pattern": {
                            "fillmode": "overlay",
                            "size": 10,
                            "solidity": 0.2
                          }
                        },
                        "type": "barpolar"
                      }
                    ],
                    "carpet": [
                      {
                        "aaxis": {
                          "endlinecolor": "#2a3f5f",
                          "gridcolor": "white",
                          "linecolor": "white",
                          "minorgridcolor": "white",
                          "startlinecolor": "#2a3f5f"
                        },
                        "baxis": {
                          "endlinecolor": "#2a3f5f",
                          "gridcolor": "white",
                          "linecolor": "white",
                          "minorgridcolor": "white",
                          "startlinecolor": "#2a3f5f"
                        },
                        "type": "carpet"
                      }
                    ],
                    "choropleth": [
                      {
                        "colorbar": {
                          "outlinewidth": 0,
                          "ticks": ""
                        },
                        "type": "choropleth"
                      }
                    ],
                    "contour": [
                      {
                        "colorbar": {
                          "outlinewidth": 0,
                          "ticks": ""
                        },
                        "colorscale": [
                          [
                            0,
                            "#0d0887"
                          ],
                          [
                            0.1111111111111111,
                            "#46039f"
                          ],
                          [
                            0.2222222222222222,
                            "#7201a8"
                          ],
                          [
                            0.3333333333333333,
                            "#9c179e"
                          ],
                          [
                            0.4444444444444444,
                            "#bd3786"
                          ],
                          [
                            0.5555555555555556,
                            "#d8576b"
                          ],
                          [
                            0.6666666666666666,
                            "#ed7953"
                          ],
                          [
                            0.7777777777777778,
                            "#fb9f3a"
                          ],
                          [
                            0.8888888888888888,
                            "#fdca26"
                          ],
                          [
                            1,
                            "#f0f921"
                          ]
                        ],
                        "type": "contour"
                      }
                    ],
                    "contourcarpet": [
                      {
                        "colorbar": {
                          "outlinewidth": 0,
                          "ticks": ""
                        },
                        "type": "contourcarpet"
                      }
                    ],
                    "heatmap": [
                      {
                        "colorbar": {
                          "outlinewidth": 0,
                          "ticks": ""
                        },
                        "colorscale": [
                          [
                            0,
                            "#0d0887"
                          ],
                          [
                            0.1111111111111111,
                            "#46039f"
                          ],
                          [
                            0.2222222222222222,
                            "#7201a8"
                          ],
                          [
                            0.3333333333333333,
                            "#9c179e"
                          ],
                          [
                            0.4444444444444444,
                            "#bd3786"
                          ],
                          [
                            0.5555555555555556,
                            "#d8576b"
                          ],
                          [
                            0.6666666666666666,
                            "#ed7953"
                          ],
                          [
                            0.7777777777777778,
                            "#fb9f3a"
                          ],
                          [
                            0.8888888888888888,
                            "#fdca26"
                          ],
                          [
                            1,
                            "#f0f921"
                          ]
                        ],
                        "type": "heatmap"
                      }
                    ],
                    "heatmapgl": [
                      {
                        "colorbar": {
                          "outlinewidth": 0,
                          "ticks": ""
                        },
                        "colorscale": [
                          [
                            0,
                            "#0d0887"
                          ],
                          [
                            0.1111111111111111,
                            "#46039f"
                          ],
                          [
                            0.2222222222222222,
                            "#7201a8"
                          ],
                          [
                            0.3333333333333333,
                            "#9c179e"
                          ],
                          [
                            0.4444444444444444,
                            "#bd3786"
                          ],
                          [
                            0.5555555555555556,
                            "#d8576b"
                          ],
                          [
                            0.6666666666666666,
                            "#ed7953"
                          ],
                          [
                            0.7777777777777778,
                            "#fb9f3a"
                          ],
                          [
                            0.8888888888888888,
                            "#fdca26"
                          ],
                          [
                            1,
                            "#f0f921"
                          ]
                        ],
                        "type": "heatmapgl"
                      }
                    ],
                    "histogram": [
                      {
                        "marker": {
                          "pattern": {
                            "fillmode": "overlay",
                            "size": 10,
                            "solidity": 0.2
                          }
                        },
                        "type": "histogram"
                      }
                    ],
                    "histogram2d": [
                      {
                        "colorbar": {
                          "outlinewidth": 0,
                          "ticks": ""
                        },
                        "colorscale": [
                          [
                            0,
                            "#0d0887"
                          ],
                          [
                            0.1111111111111111,
                            "#46039f"
                          ],
                          [
                            0.2222222222222222,
                            "#7201a8"
                          ],
                          [
                            0.3333333333333333,
                            "#9c179e"
                          ],
                          [
                            0.4444444444444444,
                            "#bd3786"
                          ],
                          [
                            0.5555555555555556,
                            "#d8576b"
                          ],
                          [
                            0.6666666666666666,
                            "#ed7953"
                          ],
                          [
                            0.7777777777777778,
                            "#fb9f3a"
                          ],
                          [
                            0.8888888888888888,
                            "#fdca26"
                          ],
                          [
                            1,
                            "#f0f921"
                          ]
                        ],
                        "type": "histogram2d"
                      }
                    ],
                    "histogram2dcontour": [
                      {
                        "colorbar": {
                          "outlinewidth": 0,
                          "ticks": ""
                        },
                        "colorscale": [
                          [
                            0,
                            "#0d0887"
                          ],
                          [
                            0.1111111111111111,
                            "#46039f"
                          ],
                          [
                            0.2222222222222222,
                            "#7201a8"
                          ],
                          [
                            0.3333333333333333,
                            "#9c179e"
                          ],
                          [
                            0.4444444444444444,
                            "#bd3786"
                          ],
                          [
                            0.5555555555555556,
                            "#d8576b"
                          ],
                          [
                            0.6666666666666666,
                            "#ed7953"
                          ],
                          [
                            0.7777777777777778,
                            "#fb9f3a"
                          ],
                          [
                            0.8888888888888888,
                            "#fdca26"
                          ],
                          [
                            1,
                            "#f0f921"
                          ]
                        ],
                        "type": "histogram2dcontour"
                      }
                    ],
                    "mesh3d": [
                      {
                        "colorbar": {
                          "outlinewidth": 0,
                          "ticks": ""
                        },
                        "type": "mesh3d"
                      }
                    ],
                    "parcoords": [
                      {
                        "line": {
                          "colorbar": {
                            "outlinewidth": 0,
                            "ticks": ""
                          }
                        },
                        "type": "parcoords"
                      }
                    ],
                    "pie": [
                      {
                        "automargin": true,
                        "type": "pie"
                      }
                    ],
                    "scatter": [
                      {
                        "fillpattern": {
                          "fillmode": "overlay",
                          "size": 10,
                          "solidity": 0.2
                        },
                        "type": "scatter"
                      }
                    ],
                    "scatter3d": [
                      {
                        "line": {
                          "colorbar": {
                            "outlinewidth": 0,
                            "ticks": ""
                          }
                        },
                        "marker": {
                          "colorbar": {
                            "outlinewidth": 0,
                            "ticks": ""
                          }
                        },
                        "type": "scatter3d"
                      }
                    ],
                    "scattercarpet": [
                      {
                        "marker": {
                          "colorbar": {
                            "outlinewidth": 0,
                            "ticks": ""
                          }
                        },
                        "type": "scattercarpet"
                      }
                    ],
                    "scattergeo": [
                      {
                        "marker": {
                          "colorbar": {
                            "outlinewidth": 0,
                            "ticks": ""
                          }
                        },
                        "type": "scattergeo"
                      }
                    ],
                    "scattergl": [
                      {
                        "marker": {
                          "colorbar": {
                            "outlinewidth": 0,
                            "ticks": ""
                          }
                        },
                        "type": "scattergl"
                      }
                    ],
                    "scattermapbox": [
                      {
                        "marker": {
                          "colorbar": {
                            "outlinewidth": 0,
                            "ticks": ""
                          }
                        },
                        "type": "scattermapbox"
                      }
                    ],
                    "scatterpolar": [
                      {
                        "marker": {
                          "colorbar": {
                            "outlinewidth": 0,
                            "ticks": ""
                          }
                        },
                        "type": "scatterpolar"
                      }
                    ],
                    "scatterpolargl": [
                      {
                        "marker": {
                          "colorbar": {
                            "outlinewidth": 0,
                            "ticks": ""
                          }
                        },
                        "type": "scatterpolargl"
                      }
                    ],
                    "scatterternary": [
                      {
                        "marker": {
                          "colorbar": {
                            "outlinewidth": 0,
                            "ticks": ""
                          }
                        },
                        "type": "scatterternary"
                      }
                    ],
                    "surface": [
                      {
                        "colorbar": {
                          "outlinewidth": 0,
                          "ticks": ""
                        },
                        "colorscale": [
                          [
                            0,
                            "#0d0887"
                          ],
                          [
                            0.1111111111111111,
                            "#46039f"
                          ],
                          [
                            0.2222222222222222,
                            "#7201a8"
                          ],
                          [
                            0.3333333333333333,
                            "#9c179e"
                          ],
                          [
                            0.4444444444444444,
                            "#bd3786"
                          ],
                          [
                            0.5555555555555556,
                            "#d8576b"
                          ],
                          [
                            0.6666666666666666,
                            "#ed7953"
                          ],
                          [
                            0.7777777777777778,
                            "#fb9f3a"
                          ],
                          [
                            0.8888888888888888,
                            "#fdca26"
                          ],
                          [
                            1,
                            "#f0f921"
                          ]
                        ],
                        "type": "surface"
                      }
                    ],
                    "table": [
                      {
                        "cells": {
                          "fill": {
                            "color": "#EBF0F8"
                          },
                          "line": {
                            "color": "white"
                          }
                        },
                        "header": {
                          "fill": {
                            "color": "#C8D4E3"
                          },
                          "line": {
                            "color": "white"
                          }
                        },
                        "type": "table"
                      }
                    ]
                  },
                  "layout": {
                    "annotationdefaults": {
                      "arrowcolor": "#2a3f5f",
                      "arrowhead": 0,
                      "arrowwidth": 1
                    },
                    "autotypenumbers": "strict",
                    "coloraxis": {
                      "colorbar": {
                        "outlinewidth": 0,
                        "ticks": ""
                      }
                    },
                    "colorscale": {
                      "diverging": [
                        [
                          0,
                          "#8e0152"
                        ],
                        [
                          0.1,
                          "#c51b7d"
                        ],
                        [
                          0.2,
                          "#de77ae"
                        ],
                        [
                          0.3,
                          "#f1b6da"
                        ],
                        [
                          0.4,
                          "#fde0ef"
                        ],
                        [
                          0.5,
                          "#f7f7f7"
                        ],
                        [
                          0.6,
                          "#e6f5d0"
                        ],
                        [
                          0.7,
                          "#b8e186"
                        ],
                        [
                          0.8,
                          "#7fbc41"
                        ],
                        [
                          0.9,
                          "#4d9221"
                        ],
                        [
                          1,
                          "#276419"
                        ]
                      ],
                      "sequential": [
                        [
                          0,
                          "#0d0887"
                        ],
                        [
                          0.1111111111111111,
                          "#46039f"
                        ],
                        [
                          0.2222222222222222,
                          "#7201a8"
                        ],
                        [
                          0.3333333333333333,
                          "#9c179e"
                        ],
                        [
                          0.4444444444444444,
                          "#bd3786"
                        ],
                        [
                          0.5555555555555556,
                          "#d8576b"
                        ],
                        [
                          0.6666666666666666,
                          "#ed7953"
                        ],
                        [
                          0.7777777777777778,
                          "#fb9f3a"
                        ],
                        [
                          0.8888888888888888,
                          "#fdca26"
                        ],
                        [
                          1,
                          "#f0f921"
                        ]
                      ],
                      "sequentialminus": [
                        [
                          0,
                          "#0d0887"
                        ],
                        [
                          0.1111111111111111,
                          "#46039f"
                        ],
                        [
                          0.2222222222222222,
                          "#7201a8"
                        ],
                        [
                          0.3333333333333333,
                          "#9c179e"
                        ],
                        [
                          0.4444444444444444,
                          "#bd3786"
                        ],
                        [
                          0.5555555555555556,
                          "#d8576b"
                        ],
                        [
                          0.6666666666666666,
                          "#ed7953"
                        ],
                        [
                          0.7777777777777778,
                          "#fb9f3a"
                        ],
                        [
                          0.8888888888888888,
                          "#fdca26"
                        ],
                        [
                          1,
                          "#f0f921"
                        ]
                      ]
                    },
                    "colorway": [
                      "#636efa",
                      "#EF553B",
                      "#00cc96",
                      "#ab63fa",
                      "#FFA15A",
                      "#19d3f3",
                      "#FF6692",
                      "#B6E880",
                      "#FF97FF",
                      "#FECB52"
                    ],
                    "font": {
                      "color": "#2a3f5f"
                    },
                    "geo": {
                      "bgcolor": "white",
                      "lakecolor": "white",
                      "landcolor": "#E5ECF6",
                      "showlakes": true,
                      "showland": true,
                      "subunitcolor": "white"
                    },
                    "hoverlabel": {
                      "align": "left"
                    },
                    "hovermode": "closest",
                    "mapbox": {
                      "style": "light"
                    },
                    "paper_bgcolor": "white",
                    "plot_bgcolor": "#E5ECF6",
                    "polar": {
                      "angularaxis": {
                        "gridcolor": "white",
                        "linecolor": "white",
                        "ticks": ""
                      },
                      "bgcolor": "#E5ECF6",
                      "radialaxis": {
                        "gridcolor": "white",
                        "linecolor": "white",
                        "ticks": ""
                      }
                    },
                    "scene": {
                      "xaxis": {
                        "backgroundcolor": "#E5ECF6",
                        "gridcolor": "white",
                        "gridwidth": 2,
                        "linecolor": "white",
                        "showbackground": true,
                        "ticks": "",
                        "zerolinecolor": "white"
                      },
                      "yaxis": {
                        "backgroundcolor": "#E5ECF6",
                        "gridcolor": "white",
                        "gridwidth": 2,
                        "linecolor": "white",
                        "showbackground": true,
                        "ticks": "",
                        "zerolinecolor": "white"
                      },
                      "zaxis": {
                        "backgroundcolor": "#E5ECF6",
                        "gridcolor": "white",
                        "gridwidth": 2,
                        "linecolor": "white",
                        "showbackground": true,
                        "ticks": "",
                        "zerolinecolor": "white"
                      }
                    },
                    "shapedefaults": {
                      "line": {
                        "color": "#2a3f5f"
                      }
                    },
                    "ternary": {
                      "aaxis": {
                        "gridcolor": "white",
                        "linecolor": "white",
                        "ticks": ""
                      },
                      "baxis": {
                        "gridcolor": "white",
                        "linecolor": "white",
                        "ticks": ""
                      },
                      "bgcolor": "#E5ECF6",
                      "caxis": {
                        "gridcolor": "white",
                        "linecolor": "white",
                        "ticks": ""
                      }
                    },
                    "title": {
                      "x": 0.05
                    },
                    "xaxis": {
                      "automargin": true,
                      "gridcolor": "white",
                      "linecolor": "white",
                      "ticks": "",
                      "title": {
                        "standoff": 15
                      },
                      "zerolinecolor": "white",
                      "zerolinewidth": 2
                    },
                    "yaxis": {
                      "automargin": true,
                      "gridcolor": "white",
                      "linecolor": "white",
                      "ticks": "",
                      "title": {
                        "standoff": 15
                      },
                      "zerolinecolor": "white",
                      "zerolinewidth": 2
                    }
                  }
                },
                "title": {
                  "font": {
                    "size": 24
                  },
                  "text": "Longest Running Songs in Top 10 (2019-2024)",
                  "x": 0.5
                },
                "width": 1000,
                "xaxis": {
                  "anchor": "y",
                  "domain": [
                    0,
                    1
                  ],
                  "tickfont": {
                    "size": 16
                  },
                  "title": {
                    "font": {
                      "size": 20
                    },
                    "text": "Songs"
                  }
                },
                "yaxis": {
                  "anchor": "x",
                  "domain": [
                    0,
                    1
                  ],
                  "tickfont": {
                    "size": 16
                  },
                  "title": {
                    "font": {
                      "size": 20
                    },
                    "text": "Weeks in Top 10"
                  }
                }
              }
            }
          },
          "metadata": {},
          "output_type": "display_data"
        }
      ],
      "source": [
        "# Longest Running Songs in Top 10 (2019-2024)\n",
        "# Create a bar chart\n",
        "fig = px.bar(\n",
        "    top_weeks_top10,\n",
        "    x='Title',\n",
        "    y='Weeks in Top 10',\n",
        "    color='Weeks in Top 10',\n",
        "    hover_data=['Singer(s)'],\n",
        "    title='Longest Running Songs in Top 10 (2019-2024)',\n",
        "    width=1000\n",
        ")\n",
        "\n",
        "# Customize the chart\n",
        "fig.update_layout(\n",
        "    title_font=dict(size=24),\n",
        "    title_x=0.5,\n",
        "    xaxis_title='Songs',\n",
        "    yaxis_title='Weeks in Top 10',\n",
        "    xaxis_title_font=dict(size=20),\n",
        "    yaxis_title_font=dict(size=20),\n",
        "    xaxis=dict(\n",
        "        tickfont=dict(size=16),\n",
        "    ),\n",
        "    yaxis=dict(\n",
        "        tickfont=dict(size=16)\n",
        "    ),\n",
        "    hoverlabel=dict(\n",
        "        font=dict(\n",
        "            family=\"Arial\",\n",
        "            size=14\n",
        "        )\n",
        "    ),\n",
        "    bargap=0.2\n",
        ")\n",
        "\n",
        "# Show the chart\n",
        "fig.show()"
      ]
    },
    {
      "cell_type": "markdown",
      "metadata": {},
      "source": [
        "Top 5 No. 1 Songs with the Fewest Weeks to Reach the Top Position (2019-2024)"
      ]
    },
    {
      "cell_type": "code",
      "execution_count": 79,
      "metadata": {
        "colab": {
          "base_uri": "https://localhost:8080/"
        },
        "id": "ZtzP_dMfj2K7",
        "outputId": "fc4abba2-5cea-484d-dfda-ed9db35dd64e"
      },
      "outputs": [
        {
          "name": "stdout",
          "output_type": "stream",
          "text": [
            "    Weeks to No. 1  Counts\n",
            "0                1      22\n",
            "1                2       4\n",
            "2                4       3\n",
            "4                5       2\n",
            "13               6       1\n"
          ]
        }
      ],
      "source": [
        "# Filter for songs that reached No. 1\n",
        "no1_songs = df[df['Rank'] == 1]\n",
        "\n",
        "# Find the weeks on chart for No. 1 songs grouped by title and singer\n",
        "weeks_to_best = no1_songs.groupby(['Title', 'Singer(s)'])['Weeks on Chart'].min()\n",
        "\n",
        "# Count how many songs took each number of weeks to get to No. 1\n",
        "weeks_to_no1_count = weeks_to_best.value_counts().reset_index()\n",
        "\n",
        "# Rename columns for clarity\n",
        "weeks_to_no1_count.columns = ['Weeks to No. 1', 'Counts']\n",
        "\n",
        "# Sort by the number of weeks in ascending order\n",
        "weeks_to_no1_count_sorted = weeks_to_no1_count.sort_values(by='Weeks to No. 1', ascending=True)\n",
        "\n",
        "# Get the top 5 results\n",
        "top5_weeks_to_no1_count = weeks_to_no1_count_sorted.head(5)\n",
        "\n",
        "# Display the final DataFrame\n",
        "print(top5_weeks_to_no1_count)\n"
      ]
    },
    {
      "cell_type": "code",
      "execution_count": 81,
      "metadata": {
        "colab": {
          "base_uri": "https://localhost:8080/",
          "height": 542
        },
        "id": "mV1ubf4mo-IL",
        "outputId": "d1c17fb0-f49c-4c1f-dad7-f3ffbd0148bd"
      },
      "outputs": [
        {
          "data": {
            "application/vnd.plotly.v1+json": {
              "config": {
                "plotlyServerURL": "https://plot.ly"
              },
              "data": [
                {
                  "alignmentgroup": "True",
                  "hovertemplate": "Weeks to No. 1=%{x}<br>Counts=%{y}<extra></extra>",
                  "legendgroup": "",
                  "marker": {
                    "color": "skyblue",
                    "pattern": {
                      "shape": ""
                    }
                  },
                  "name": "",
                  "offsetgroup": "",
                  "orientation": "v",
                  "showlegend": false,
                  "textposition": "auto",
                  "type": "bar",
                  "x": [
                    1,
                    2,
                    4,
                    5,
                    6
                  ],
                  "xaxis": "x",
                  "y": [
                    22,
                    4,
                    3,
                    2,
                    1
                  ],
                  "yaxis": "y"
                }
              ],
              "layout": {
                "bargap": 0.2,
                "barmode": "relative",
                "hoverlabel": {
                  "font": {
                    "family": "Arial",
                    "size": 14
                  }
                },
                "legend": {
                  "tracegroupgap": 0
                },
                "template": {
                  "data": {
                    "bar": [
                      {
                        "error_x": {
                          "color": "#2a3f5f"
                        },
                        "error_y": {
                          "color": "#2a3f5f"
                        },
                        "marker": {
                          "line": {
                            "color": "#E5ECF6",
                            "width": 0.5
                          },
                          "pattern": {
                            "fillmode": "overlay",
                            "size": 10,
                            "solidity": 0.2
                          }
                        },
                        "type": "bar"
                      }
                    ],
                    "barpolar": [
                      {
                        "marker": {
                          "line": {
                            "color": "#E5ECF6",
                            "width": 0.5
                          },
                          "pattern": {
                            "fillmode": "overlay",
                            "size": 10,
                            "solidity": 0.2
                          }
                        },
                        "type": "barpolar"
                      }
                    ],
                    "carpet": [
                      {
                        "aaxis": {
                          "endlinecolor": "#2a3f5f",
                          "gridcolor": "white",
                          "linecolor": "white",
                          "minorgridcolor": "white",
                          "startlinecolor": "#2a3f5f"
                        },
                        "baxis": {
                          "endlinecolor": "#2a3f5f",
                          "gridcolor": "white",
                          "linecolor": "white",
                          "minorgridcolor": "white",
                          "startlinecolor": "#2a3f5f"
                        },
                        "type": "carpet"
                      }
                    ],
                    "choropleth": [
                      {
                        "colorbar": {
                          "outlinewidth": 0,
                          "ticks": ""
                        },
                        "type": "choropleth"
                      }
                    ],
                    "contour": [
                      {
                        "colorbar": {
                          "outlinewidth": 0,
                          "ticks": ""
                        },
                        "colorscale": [
                          [
                            0,
                            "#0d0887"
                          ],
                          [
                            0.1111111111111111,
                            "#46039f"
                          ],
                          [
                            0.2222222222222222,
                            "#7201a8"
                          ],
                          [
                            0.3333333333333333,
                            "#9c179e"
                          ],
                          [
                            0.4444444444444444,
                            "#bd3786"
                          ],
                          [
                            0.5555555555555556,
                            "#d8576b"
                          ],
                          [
                            0.6666666666666666,
                            "#ed7953"
                          ],
                          [
                            0.7777777777777778,
                            "#fb9f3a"
                          ],
                          [
                            0.8888888888888888,
                            "#fdca26"
                          ],
                          [
                            1,
                            "#f0f921"
                          ]
                        ],
                        "type": "contour"
                      }
                    ],
                    "contourcarpet": [
                      {
                        "colorbar": {
                          "outlinewidth": 0,
                          "ticks": ""
                        },
                        "type": "contourcarpet"
                      }
                    ],
                    "heatmap": [
                      {
                        "colorbar": {
                          "outlinewidth": 0,
                          "ticks": ""
                        },
                        "colorscale": [
                          [
                            0,
                            "#0d0887"
                          ],
                          [
                            0.1111111111111111,
                            "#46039f"
                          ],
                          [
                            0.2222222222222222,
                            "#7201a8"
                          ],
                          [
                            0.3333333333333333,
                            "#9c179e"
                          ],
                          [
                            0.4444444444444444,
                            "#bd3786"
                          ],
                          [
                            0.5555555555555556,
                            "#d8576b"
                          ],
                          [
                            0.6666666666666666,
                            "#ed7953"
                          ],
                          [
                            0.7777777777777778,
                            "#fb9f3a"
                          ],
                          [
                            0.8888888888888888,
                            "#fdca26"
                          ],
                          [
                            1,
                            "#f0f921"
                          ]
                        ],
                        "type": "heatmap"
                      }
                    ],
                    "heatmapgl": [
                      {
                        "colorbar": {
                          "outlinewidth": 0,
                          "ticks": ""
                        },
                        "colorscale": [
                          [
                            0,
                            "#0d0887"
                          ],
                          [
                            0.1111111111111111,
                            "#46039f"
                          ],
                          [
                            0.2222222222222222,
                            "#7201a8"
                          ],
                          [
                            0.3333333333333333,
                            "#9c179e"
                          ],
                          [
                            0.4444444444444444,
                            "#bd3786"
                          ],
                          [
                            0.5555555555555556,
                            "#d8576b"
                          ],
                          [
                            0.6666666666666666,
                            "#ed7953"
                          ],
                          [
                            0.7777777777777778,
                            "#fb9f3a"
                          ],
                          [
                            0.8888888888888888,
                            "#fdca26"
                          ],
                          [
                            1,
                            "#f0f921"
                          ]
                        ],
                        "type": "heatmapgl"
                      }
                    ],
                    "histogram": [
                      {
                        "marker": {
                          "pattern": {
                            "fillmode": "overlay",
                            "size": 10,
                            "solidity": 0.2
                          }
                        },
                        "type": "histogram"
                      }
                    ],
                    "histogram2d": [
                      {
                        "colorbar": {
                          "outlinewidth": 0,
                          "ticks": ""
                        },
                        "colorscale": [
                          [
                            0,
                            "#0d0887"
                          ],
                          [
                            0.1111111111111111,
                            "#46039f"
                          ],
                          [
                            0.2222222222222222,
                            "#7201a8"
                          ],
                          [
                            0.3333333333333333,
                            "#9c179e"
                          ],
                          [
                            0.4444444444444444,
                            "#bd3786"
                          ],
                          [
                            0.5555555555555556,
                            "#d8576b"
                          ],
                          [
                            0.6666666666666666,
                            "#ed7953"
                          ],
                          [
                            0.7777777777777778,
                            "#fb9f3a"
                          ],
                          [
                            0.8888888888888888,
                            "#fdca26"
                          ],
                          [
                            1,
                            "#f0f921"
                          ]
                        ],
                        "type": "histogram2d"
                      }
                    ],
                    "histogram2dcontour": [
                      {
                        "colorbar": {
                          "outlinewidth": 0,
                          "ticks": ""
                        },
                        "colorscale": [
                          [
                            0,
                            "#0d0887"
                          ],
                          [
                            0.1111111111111111,
                            "#46039f"
                          ],
                          [
                            0.2222222222222222,
                            "#7201a8"
                          ],
                          [
                            0.3333333333333333,
                            "#9c179e"
                          ],
                          [
                            0.4444444444444444,
                            "#bd3786"
                          ],
                          [
                            0.5555555555555556,
                            "#d8576b"
                          ],
                          [
                            0.6666666666666666,
                            "#ed7953"
                          ],
                          [
                            0.7777777777777778,
                            "#fb9f3a"
                          ],
                          [
                            0.8888888888888888,
                            "#fdca26"
                          ],
                          [
                            1,
                            "#f0f921"
                          ]
                        ],
                        "type": "histogram2dcontour"
                      }
                    ],
                    "mesh3d": [
                      {
                        "colorbar": {
                          "outlinewidth": 0,
                          "ticks": ""
                        },
                        "type": "mesh3d"
                      }
                    ],
                    "parcoords": [
                      {
                        "line": {
                          "colorbar": {
                            "outlinewidth": 0,
                            "ticks": ""
                          }
                        },
                        "type": "parcoords"
                      }
                    ],
                    "pie": [
                      {
                        "automargin": true,
                        "type": "pie"
                      }
                    ],
                    "scatter": [
                      {
                        "fillpattern": {
                          "fillmode": "overlay",
                          "size": 10,
                          "solidity": 0.2
                        },
                        "type": "scatter"
                      }
                    ],
                    "scatter3d": [
                      {
                        "line": {
                          "colorbar": {
                            "outlinewidth": 0,
                            "ticks": ""
                          }
                        },
                        "marker": {
                          "colorbar": {
                            "outlinewidth": 0,
                            "ticks": ""
                          }
                        },
                        "type": "scatter3d"
                      }
                    ],
                    "scattercarpet": [
                      {
                        "marker": {
                          "colorbar": {
                            "outlinewidth": 0,
                            "ticks": ""
                          }
                        },
                        "type": "scattercarpet"
                      }
                    ],
                    "scattergeo": [
                      {
                        "marker": {
                          "colorbar": {
                            "outlinewidth": 0,
                            "ticks": ""
                          }
                        },
                        "type": "scattergeo"
                      }
                    ],
                    "scattergl": [
                      {
                        "marker": {
                          "colorbar": {
                            "outlinewidth": 0,
                            "ticks": ""
                          }
                        },
                        "type": "scattergl"
                      }
                    ],
                    "scattermapbox": [
                      {
                        "marker": {
                          "colorbar": {
                            "outlinewidth": 0,
                            "ticks": ""
                          }
                        },
                        "type": "scattermapbox"
                      }
                    ],
                    "scatterpolar": [
                      {
                        "marker": {
                          "colorbar": {
                            "outlinewidth": 0,
                            "ticks": ""
                          }
                        },
                        "type": "scatterpolar"
                      }
                    ],
                    "scatterpolargl": [
                      {
                        "marker": {
                          "colorbar": {
                            "outlinewidth": 0,
                            "ticks": ""
                          }
                        },
                        "type": "scatterpolargl"
                      }
                    ],
                    "scatterternary": [
                      {
                        "marker": {
                          "colorbar": {
                            "outlinewidth": 0,
                            "ticks": ""
                          }
                        },
                        "type": "scatterternary"
                      }
                    ],
                    "surface": [
                      {
                        "colorbar": {
                          "outlinewidth": 0,
                          "ticks": ""
                        },
                        "colorscale": [
                          [
                            0,
                            "#0d0887"
                          ],
                          [
                            0.1111111111111111,
                            "#46039f"
                          ],
                          [
                            0.2222222222222222,
                            "#7201a8"
                          ],
                          [
                            0.3333333333333333,
                            "#9c179e"
                          ],
                          [
                            0.4444444444444444,
                            "#bd3786"
                          ],
                          [
                            0.5555555555555556,
                            "#d8576b"
                          ],
                          [
                            0.6666666666666666,
                            "#ed7953"
                          ],
                          [
                            0.7777777777777778,
                            "#fb9f3a"
                          ],
                          [
                            0.8888888888888888,
                            "#fdca26"
                          ],
                          [
                            1,
                            "#f0f921"
                          ]
                        ],
                        "type": "surface"
                      }
                    ],
                    "table": [
                      {
                        "cells": {
                          "fill": {
                            "color": "#EBF0F8"
                          },
                          "line": {
                            "color": "white"
                          }
                        },
                        "header": {
                          "fill": {
                            "color": "#C8D4E3"
                          },
                          "line": {
                            "color": "white"
                          }
                        },
                        "type": "table"
                      }
                    ]
                  },
                  "layout": {
                    "annotationdefaults": {
                      "arrowcolor": "#2a3f5f",
                      "arrowhead": 0,
                      "arrowwidth": 1
                    },
                    "autotypenumbers": "strict",
                    "coloraxis": {
                      "colorbar": {
                        "outlinewidth": 0,
                        "ticks": ""
                      }
                    },
                    "colorscale": {
                      "diverging": [
                        [
                          0,
                          "#8e0152"
                        ],
                        [
                          0.1,
                          "#c51b7d"
                        ],
                        [
                          0.2,
                          "#de77ae"
                        ],
                        [
                          0.3,
                          "#f1b6da"
                        ],
                        [
                          0.4,
                          "#fde0ef"
                        ],
                        [
                          0.5,
                          "#f7f7f7"
                        ],
                        [
                          0.6,
                          "#e6f5d0"
                        ],
                        [
                          0.7,
                          "#b8e186"
                        ],
                        [
                          0.8,
                          "#7fbc41"
                        ],
                        [
                          0.9,
                          "#4d9221"
                        ],
                        [
                          1,
                          "#276419"
                        ]
                      ],
                      "sequential": [
                        [
                          0,
                          "#0d0887"
                        ],
                        [
                          0.1111111111111111,
                          "#46039f"
                        ],
                        [
                          0.2222222222222222,
                          "#7201a8"
                        ],
                        [
                          0.3333333333333333,
                          "#9c179e"
                        ],
                        [
                          0.4444444444444444,
                          "#bd3786"
                        ],
                        [
                          0.5555555555555556,
                          "#d8576b"
                        ],
                        [
                          0.6666666666666666,
                          "#ed7953"
                        ],
                        [
                          0.7777777777777778,
                          "#fb9f3a"
                        ],
                        [
                          0.8888888888888888,
                          "#fdca26"
                        ],
                        [
                          1,
                          "#f0f921"
                        ]
                      ],
                      "sequentialminus": [
                        [
                          0,
                          "#0d0887"
                        ],
                        [
                          0.1111111111111111,
                          "#46039f"
                        ],
                        [
                          0.2222222222222222,
                          "#7201a8"
                        ],
                        [
                          0.3333333333333333,
                          "#9c179e"
                        ],
                        [
                          0.4444444444444444,
                          "#bd3786"
                        ],
                        [
                          0.5555555555555556,
                          "#d8576b"
                        ],
                        [
                          0.6666666666666666,
                          "#ed7953"
                        ],
                        [
                          0.7777777777777778,
                          "#fb9f3a"
                        ],
                        [
                          0.8888888888888888,
                          "#fdca26"
                        ],
                        [
                          1,
                          "#f0f921"
                        ]
                      ]
                    },
                    "colorway": [
                      "#636efa",
                      "#EF553B",
                      "#00cc96",
                      "#ab63fa",
                      "#FFA15A",
                      "#19d3f3",
                      "#FF6692",
                      "#B6E880",
                      "#FF97FF",
                      "#FECB52"
                    ],
                    "font": {
                      "color": "#2a3f5f"
                    },
                    "geo": {
                      "bgcolor": "white",
                      "lakecolor": "white",
                      "landcolor": "#E5ECF6",
                      "showlakes": true,
                      "showland": true,
                      "subunitcolor": "white"
                    },
                    "hoverlabel": {
                      "align": "left"
                    },
                    "hovermode": "closest",
                    "mapbox": {
                      "style": "light"
                    },
                    "paper_bgcolor": "white",
                    "plot_bgcolor": "#E5ECF6",
                    "polar": {
                      "angularaxis": {
                        "gridcolor": "white",
                        "linecolor": "white",
                        "ticks": ""
                      },
                      "bgcolor": "#E5ECF6",
                      "radialaxis": {
                        "gridcolor": "white",
                        "linecolor": "white",
                        "ticks": ""
                      }
                    },
                    "scene": {
                      "xaxis": {
                        "backgroundcolor": "#E5ECF6",
                        "gridcolor": "white",
                        "gridwidth": 2,
                        "linecolor": "white",
                        "showbackground": true,
                        "ticks": "",
                        "zerolinecolor": "white"
                      },
                      "yaxis": {
                        "backgroundcolor": "#E5ECF6",
                        "gridcolor": "white",
                        "gridwidth": 2,
                        "linecolor": "white",
                        "showbackground": true,
                        "ticks": "",
                        "zerolinecolor": "white"
                      },
                      "zaxis": {
                        "backgroundcolor": "#E5ECF6",
                        "gridcolor": "white",
                        "gridwidth": 2,
                        "linecolor": "white",
                        "showbackground": true,
                        "ticks": "",
                        "zerolinecolor": "white"
                      }
                    },
                    "shapedefaults": {
                      "line": {
                        "color": "#2a3f5f"
                      }
                    },
                    "ternary": {
                      "aaxis": {
                        "gridcolor": "white",
                        "linecolor": "white",
                        "ticks": ""
                      },
                      "baxis": {
                        "gridcolor": "white",
                        "linecolor": "white",
                        "ticks": ""
                      },
                      "bgcolor": "#E5ECF6",
                      "caxis": {
                        "gridcolor": "white",
                        "linecolor": "white",
                        "ticks": ""
                      }
                    },
                    "title": {
                      "x": 0.05
                    },
                    "xaxis": {
                      "automargin": true,
                      "gridcolor": "white",
                      "linecolor": "white",
                      "ticks": "",
                      "title": {
                        "standoff": 15
                      },
                      "zerolinecolor": "white",
                      "zerolinewidth": 2
                    },
                    "yaxis": {
                      "automargin": true,
                      "gridcolor": "white",
                      "linecolor": "white",
                      "ticks": "",
                      "title": {
                        "standoff": 15
                      },
                      "zerolinecolor": "white",
                      "zerolinewidth": 2
                    }
                  }
                },
                "title": {
                  "font": {
                    "size": 24
                  },
                  "text": "Top 5 No. 1 Songs with the Fewest Weeks to Reach the Top Position (2022-2024)"
                },
                "width": 1000,
                "xaxis": {
                  "anchor": "y",
                  "domain": [
                    0,
                    1
                  ],
                  "tickfont": {
                    "size": 16
                  },
                  "title": {
                    "font": {
                      "size": 20
                    },
                    "text": "Weeks to No. 1"
                  }
                },
                "yaxis": {
                  "anchor": "x",
                  "domain": [
                    0,
                    1
                  ],
                  "tickfont": {
                    "size": 16
                  },
                  "title": {
                    "font": {
                      "size": 20
                    },
                    "text": "Counts"
                  }
                }
              }
            }
          },
          "metadata": {},
          "output_type": "display_data"
        }
      ],
      "source": [
        "# Top 5 No. 1 Songs with the Fewest Weeks to Reach the Top Position (2019-2024)\n",
        "# Create a bar chart\n",
        "fig = px.bar(\n",
        "    top5_weeks_to_no1_count,\n",
        "    x='Weeks to No. 1',\n",
        "    y='Counts',\n",
        "    color_discrete_sequence=['skyblue'],\n",
        "    title='Top 5 No. 1 Songs with the Fewest Weeks to Reach the Top Position (2019-2024)',\n",
        "    width=1000\n",
        ")\n",
        "\n",
        "# Customize the chart\n",
        "fig.update_layout(\n",
        "    title_font=dict(size=24),\n",
        "    xaxis_title='Weeks to No. 1',\n",
        "    yaxis_title='Counts',\n",
        "    xaxis_title_font=dict(size=20),\n",
        "    yaxis_title_font=dict(size=20),\n",
        "    xaxis=dict(\n",
        "        tickfont=dict(size=16)\n",
        "    ),\n",
        "    yaxis=dict(\n",
        "        tickfont=dict(size=16)\n",
        "    ),\n",
        "    hoverlabel=dict(\n",
        "        font=dict(\n",
        "            family=\"Arial\",\n",
        "            size=14\n",
        "        )\n",
        "    ),\n",
        "    bargap=0.2\n",
        ")\n",
        "\n",
        "# Show the chart\n",
        "fig.show()"
      ]
    },
    {
      "cell_type": "markdown",
      "metadata": {},
      "source": [
        "Monthly New Songs in Hot 100 (2022-2024)"
      ]
    },
    {
      "cell_type": "code",
      "execution_count": 35,
      "metadata": {},
      "outputs": [
        {
          "name": "stdout",
          "output_type": "stream",
          "text": [
            "    Year Month  Count of New Songs\n",
            "0   2022    01                 103\n",
            "1   2022    02                  54\n",
            "2   2022    03                  45\n",
            "3   2022    04                  57\n",
            "4   2022    05                  89\n",
            "5   2022    06                  61\n",
            "6   2022    07                  68\n",
            "7   2022    08                  64\n",
            "8   2022    09                  58\n",
            "9   2022    10                  58\n",
            "10  2022    11                  60\n",
            "11  2022    12                  85\n",
            "12  2023    01                  66\n",
            "13  2023    02                  44\n",
            "14  2023    03                  70\n",
            "15  2023    04                  56\n",
            "16  2023    05                  33\n",
            "17  2023    06                  56\n",
            "18  2023    07                 107\n",
            "19  2023    08                  67\n",
            "20  2023    09                  56\n",
            "21  2023    10                  80\n",
            "22  2023    11                  69\n",
            "23  2023    12                  77\n",
            "24  2024    01                  75\n",
            "25  2024    02                  53\n",
            "26  2024    03                  58\n",
            "27  2024    04                 102\n",
            "28  2024    05                  63\n",
            "29  2024    06                  59\n",
            "30  2024    07                  67\n",
            "31  2024    08                  68\n",
            "32  2024    09                  43\n"
          ]
        }
      ],
      "source": [
        "# Filter for new songs\n",
        "new_songs = df[df['Last Week Position'].isna()]\n",
        "\n",
        "# Count how many new songs are in each month and year\n",
        "new_songs_by_month = new_songs.groupby(['Year', 'Month']).size().reset_index(name='Count of New Songs')\n",
        "\n",
        "# Sort by Year and Month in ascending order\n",
        "new_songs_by_month_sorted = new_songs_by_month.sort_values(by=['Year', 'Month'], ascending=True)\n",
        "\n",
        "# Display the final DataFrame\n",
        "print(new_songs_by_month_sorted)"
      ]
    },
    {
      "cell_type": "code",
      "execution_count": 40,
      "metadata": {},
      "outputs": [
        {
          "data": {
            "application/vnd.plotly.v1+json": {
              "config": {
                "plotlyServerURL": "https://plot.ly"
              },
              "data": [
                {
                  "coloraxis": "coloraxis",
                  "histfunc": "sum",
                  "hovertemplate": "Month=%{x}<br>Year=%{y}<br>sum of Number of New Songs=%{z}<extra></extra>",
                  "name": "",
                  "type": "histogram2d",
                  "x": [
                    "01",
                    "02",
                    "03",
                    "04",
                    "05",
                    "06",
                    "07",
                    "08",
                    "09",
                    "10",
                    "11",
                    "12",
                    "01",
                    "02",
                    "03",
                    "04",
                    "05",
                    "06",
                    "07",
                    "08",
                    "09",
                    "10",
                    "11",
                    "12",
                    "01",
                    "02",
                    "03",
                    "04",
                    "05",
                    "06",
                    "07",
                    "08",
                    "09"
                  ],
                  "xaxis": "x",
                  "xbingroup": "x",
                  "y": [
                    "2022",
                    "2022",
                    "2022",
                    "2022",
                    "2022",
                    "2022",
                    "2022",
                    "2022",
                    "2022",
                    "2022",
                    "2022",
                    "2022",
                    "2023",
                    "2023",
                    "2023",
                    "2023",
                    "2023",
                    "2023",
                    "2023",
                    "2023",
                    "2023",
                    "2023",
                    "2023",
                    "2023",
                    "2024",
                    "2024",
                    "2024",
                    "2024",
                    "2024",
                    "2024",
                    "2024",
                    "2024",
                    "2024"
                  ],
                  "yaxis": "y",
                  "ybingroup": "y",
                  "z": [
                    103,
                    54,
                    45,
                    57,
                    89,
                    61,
                    68,
                    64,
                    58,
                    58,
                    60,
                    85,
                    66,
                    44,
                    70,
                    56,
                    33,
                    56,
                    107,
                    67,
                    56,
                    80,
                    69,
                    77,
                    75,
                    53,
                    58,
                    102,
                    63,
                    59,
                    67,
                    68,
                    43
                  ]
                }
              ],
              "layout": {
                "coloraxis": {
                  "colorbar": {
                    "title": {
                      "text": "sum of Number of New Songs"
                    }
                  },
                  "colorscale": [
                    [
                      0,
                      "#0d0887"
                    ],
                    [
                      0.1111111111111111,
                      "#46039f"
                    ],
                    [
                      0.2222222222222222,
                      "#7201a8"
                    ],
                    [
                      0.3333333333333333,
                      "#9c179e"
                    ],
                    [
                      0.4444444444444444,
                      "#bd3786"
                    ],
                    [
                      0.5555555555555556,
                      "#d8576b"
                    ],
                    [
                      0.6666666666666666,
                      "#ed7953"
                    ],
                    [
                      0.7777777777777778,
                      "#fb9f3a"
                    ],
                    [
                      0.8888888888888888,
                      "#fdca26"
                    ],
                    [
                      1,
                      "#f0f921"
                    ]
                  ]
                },
                "legend": {
                  "tracegroupgap": 0
                },
                "template": {
                  "data": {
                    "bar": [
                      {
                        "error_x": {
                          "color": "#2a3f5f"
                        },
                        "error_y": {
                          "color": "#2a3f5f"
                        },
                        "marker": {
                          "line": {
                            "color": "#E5ECF6",
                            "width": 0.5
                          },
                          "pattern": {
                            "fillmode": "overlay",
                            "size": 10,
                            "solidity": 0.2
                          }
                        },
                        "type": "bar"
                      }
                    ],
                    "barpolar": [
                      {
                        "marker": {
                          "line": {
                            "color": "#E5ECF6",
                            "width": 0.5
                          },
                          "pattern": {
                            "fillmode": "overlay",
                            "size": 10,
                            "solidity": 0.2
                          }
                        },
                        "type": "barpolar"
                      }
                    ],
                    "carpet": [
                      {
                        "aaxis": {
                          "endlinecolor": "#2a3f5f",
                          "gridcolor": "white",
                          "linecolor": "white",
                          "minorgridcolor": "white",
                          "startlinecolor": "#2a3f5f"
                        },
                        "baxis": {
                          "endlinecolor": "#2a3f5f",
                          "gridcolor": "white",
                          "linecolor": "white",
                          "minorgridcolor": "white",
                          "startlinecolor": "#2a3f5f"
                        },
                        "type": "carpet"
                      }
                    ],
                    "choropleth": [
                      {
                        "colorbar": {
                          "outlinewidth": 0,
                          "ticks": ""
                        },
                        "type": "choropleth"
                      }
                    ],
                    "contour": [
                      {
                        "colorbar": {
                          "outlinewidth": 0,
                          "ticks": ""
                        },
                        "colorscale": [
                          [
                            0,
                            "#0d0887"
                          ],
                          [
                            0.1111111111111111,
                            "#46039f"
                          ],
                          [
                            0.2222222222222222,
                            "#7201a8"
                          ],
                          [
                            0.3333333333333333,
                            "#9c179e"
                          ],
                          [
                            0.4444444444444444,
                            "#bd3786"
                          ],
                          [
                            0.5555555555555556,
                            "#d8576b"
                          ],
                          [
                            0.6666666666666666,
                            "#ed7953"
                          ],
                          [
                            0.7777777777777778,
                            "#fb9f3a"
                          ],
                          [
                            0.8888888888888888,
                            "#fdca26"
                          ],
                          [
                            1,
                            "#f0f921"
                          ]
                        ],
                        "type": "contour"
                      }
                    ],
                    "contourcarpet": [
                      {
                        "colorbar": {
                          "outlinewidth": 0,
                          "ticks": ""
                        },
                        "type": "contourcarpet"
                      }
                    ],
                    "heatmap": [
                      {
                        "colorbar": {
                          "outlinewidth": 0,
                          "ticks": ""
                        },
                        "colorscale": [
                          [
                            0,
                            "#0d0887"
                          ],
                          [
                            0.1111111111111111,
                            "#46039f"
                          ],
                          [
                            0.2222222222222222,
                            "#7201a8"
                          ],
                          [
                            0.3333333333333333,
                            "#9c179e"
                          ],
                          [
                            0.4444444444444444,
                            "#bd3786"
                          ],
                          [
                            0.5555555555555556,
                            "#d8576b"
                          ],
                          [
                            0.6666666666666666,
                            "#ed7953"
                          ],
                          [
                            0.7777777777777778,
                            "#fb9f3a"
                          ],
                          [
                            0.8888888888888888,
                            "#fdca26"
                          ],
                          [
                            1,
                            "#f0f921"
                          ]
                        ],
                        "type": "heatmap"
                      }
                    ],
                    "heatmapgl": [
                      {
                        "colorbar": {
                          "outlinewidth": 0,
                          "ticks": ""
                        },
                        "colorscale": [
                          [
                            0,
                            "#0d0887"
                          ],
                          [
                            0.1111111111111111,
                            "#46039f"
                          ],
                          [
                            0.2222222222222222,
                            "#7201a8"
                          ],
                          [
                            0.3333333333333333,
                            "#9c179e"
                          ],
                          [
                            0.4444444444444444,
                            "#bd3786"
                          ],
                          [
                            0.5555555555555556,
                            "#d8576b"
                          ],
                          [
                            0.6666666666666666,
                            "#ed7953"
                          ],
                          [
                            0.7777777777777778,
                            "#fb9f3a"
                          ],
                          [
                            0.8888888888888888,
                            "#fdca26"
                          ],
                          [
                            1,
                            "#f0f921"
                          ]
                        ],
                        "type": "heatmapgl"
                      }
                    ],
                    "histogram": [
                      {
                        "marker": {
                          "pattern": {
                            "fillmode": "overlay",
                            "size": 10,
                            "solidity": 0.2
                          }
                        },
                        "type": "histogram"
                      }
                    ],
                    "histogram2d": [
                      {
                        "colorbar": {
                          "outlinewidth": 0,
                          "ticks": ""
                        },
                        "colorscale": [
                          [
                            0,
                            "#0d0887"
                          ],
                          [
                            0.1111111111111111,
                            "#46039f"
                          ],
                          [
                            0.2222222222222222,
                            "#7201a8"
                          ],
                          [
                            0.3333333333333333,
                            "#9c179e"
                          ],
                          [
                            0.4444444444444444,
                            "#bd3786"
                          ],
                          [
                            0.5555555555555556,
                            "#d8576b"
                          ],
                          [
                            0.6666666666666666,
                            "#ed7953"
                          ],
                          [
                            0.7777777777777778,
                            "#fb9f3a"
                          ],
                          [
                            0.8888888888888888,
                            "#fdca26"
                          ],
                          [
                            1,
                            "#f0f921"
                          ]
                        ],
                        "type": "histogram2d"
                      }
                    ],
                    "histogram2dcontour": [
                      {
                        "colorbar": {
                          "outlinewidth": 0,
                          "ticks": ""
                        },
                        "colorscale": [
                          [
                            0,
                            "#0d0887"
                          ],
                          [
                            0.1111111111111111,
                            "#46039f"
                          ],
                          [
                            0.2222222222222222,
                            "#7201a8"
                          ],
                          [
                            0.3333333333333333,
                            "#9c179e"
                          ],
                          [
                            0.4444444444444444,
                            "#bd3786"
                          ],
                          [
                            0.5555555555555556,
                            "#d8576b"
                          ],
                          [
                            0.6666666666666666,
                            "#ed7953"
                          ],
                          [
                            0.7777777777777778,
                            "#fb9f3a"
                          ],
                          [
                            0.8888888888888888,
                            "#fdca26"
                          ],
                          [
                            1,
                            "#f0f921"
                          ]
                        ],
                        "type": "histogram2dcontour"
                      }
                    ],
                    "mesh3d": [
                      {
                        "colorbar": {
                          "outlinewidth": 0,
                          "ticks": ""
                        },
                        "type": "mesh3d"
                      }
                    ],
                    "parcoords": [
                      {
                        "line": {
                          "colorbar": {
                            "outlinewidth": 0,
                            "ticks": ""
                          }
                        },
                        "type": "parcoords"
                      }
                    ],
                    "pie": [
                      {
                        "automargin": true,
                        "type": "pie"
                      }
                    ],
                    "scatter": [
                      {
                        "fillpattern": {
                          "fillmode": "overlay",
                          "size": 10,
                          "solidity": 0.2
                        },
                        "type": "scatter"
                      }
                    ],
                    "scatter3d": [
                      {
                        "line": {
                          "colorbar": {
                            "outlinewidth": 0,
                            "ticks": ""
                          }
                        },
                        "marker": {
                          "colorbar": {
                            "outlinewidth": 0,
                            "ticks": ""
                          }
                        },
                        "type": "scatter3d"
                      }
                    ],
                    "scattercarpet": [
                      {
                        "marker": {
                          "colorbar": {
                            "outlinewidth": 0,
                            "ticks": ""
                          }
                        },
                        "type": "scattercarpet"
                      }
                    ],
                    "scattergeo": [
                      {
                        "marker": {
                          "colorbar": {
                            "outlinewidth": 0,
                            "ticks": ""
                          }
                        },
                        "type": "scattergeo"
                      }
                    ],
                    "scattergl": [
                      {
                        "marker": {
                          "colorbar": {
                            "outlinewidth": 0,
                            "ticks": ""
                          }
                        },
                        "type": "scattergl"
                      }
                    ],
                    "scattermapbox": [
                      {
                        "marker": {
                          "colorbar": {
                            "outlinewidth": 0,
                            "ticks": ""
                          }
                        },
                        "type": "scattermapbox"
                      }
                    ],
                    "scatterpolar": [
                      {
                        "marker": {
                          "colorbar": {
                            "outlinewidth": 0,
                            "ticks": ""
                          }
                        },
                        "type": "scatterpolar"
                      }
                    ],
                    "scatterpolargl": [
                      {
                        "marker": {
                          "colorbar": {
                            "outlinewidth": 0,
                            "ticks": ""
                          }
                        },
                        "type": "scatterpolargl"
                      }
                    ],
                    "scatterternary": [
                      {
                        "marker": {
                          "colorbar": {
                            "outlinewidth": 0,
                            "ticks": ""
                          }
                        },
                        "type": "scatterternary"
                      }
                    ],
                    "surface": [
                      {
                        "colorbar": {
                          "outlinewidth": 0,
                          "ticks": ""
                        },
                        "colorscale": [
                          [
                            0,
                            "#0d0887"
                          ],
                          [
                            0.1111111111111111,
                            "#46039f"
                          ],
                          [
                            0.2222222222222222,
                            "#7201a8"
                          ],
                          [
                            0.3333333333333333,
                            "#9c179e"
                          ],
                          [
                            0.4444444444444444,
                            "#bd3786"
                          ],
                          [
                            0.5555555555555556,
                            "#d8576b"
                          ],
                          [
                            0.6666666666666666,
                            "#ed7953"
                          ],
                          [
                            0.7777777777777778,
                            "#fb9f3a"
                          ],
                          [
                            0.8888888888888888,
                            "#fdca26"
                          ],
                          [
                            1,
                            "#f0f921"
                          ]
                        ],
                        "type": "surface"
                      }
                    ],
                    "table": [
                      {
                        "cells": {
                          "fill": {
                            "color": "#EBF0F8"
                          },
                          "line": {
                            "color": "white"
                          }
                        },
                        "header": {
                          "fill": {
                            "color": "#C8D4E3"
                          },
                          "line": {
                            "color": "white"
                          }
                        },
                        "type": "table"
                      }
                    ]
                  },
                  "layout": {
                    "annotationdefaults": {
                      "arrowcolor": "#2a3f5f",
                      "arrowhead": 0,
                      "arrowwidth": 1
                    },
                    "autotypenumbers": "strict",
                    "coloraxis": {
                      "colorbar": {
                        "outlinewidth": 0,
                        "ticks": ""
                      }
                    },
                    "colorscale": {
                      "diverging": [
                        [
                          0,
                          "#8e0152"
                        ],
                        [
                          0.1,
                          "#c51b7d"
                        ],
                        [
                          0.2,
                          "#de77ae"
                        ],
                        [
                          0.3,
                          "#f1b6da"
                        ],
                        [
                          0.4,
                          "#fde0ef"
                        ],
                        [
                          0.5,
                          "#f7f7f7"
                        ],
                        [
                          0.6,
                          "#e6f5d0"
                        ],
                        [
                          0.7,
                          "#b8e186"
                        ],
                        [
                          0.8,
                          "#7fbc41"
                        ],
                        [
                          0.9,
                          "#4d9221"
                        ],
                        [
                          1,
                          "#276419"
                        ]
                      ],
                      "sequential": [
                        [
                          0,
                          "#0d0887"
                        ],
                        [
                          0.1111111111111111,
                          "#46039f"
                        ],
                        [
                          0.2222222222222222,
                          "#7201a8"
                        ],
                        [
                          0.3333333333333333,
                          "#9c179e"
                        ],
                        [
                          0.4444444444444444,
                          "#bd3786"
                        ],
                        [
                          0.5555555555555556,
                          "#d8576b"
                        ],
                        [
                          0.6666666666666666,
                          "#ed7953"
                        ],
                        [
                          0.7777777777777778,
                          "#fb9f3a"
                        ],
                        [
                          0.8888888888888888,
                          "#fdca26"
                        ],
                        [
                          1,
                          "#f0f921"
                        ]
                      ],
                      "sequentialminus": [
                        [
                          0,
                          "#0d0887"
                        ],
                        [
                          0.1111111111111111,
                          "#46039f"
                        ],
                        [
                          0.2222222222222222,
                          "#7201a8"
                        ],
                        [
                          0.3333333333333333,
                          "#9c179e"
                        ],
                        [
                          0.4444444444444444,
                          "#bd3786"
                        ],
                        [
                          0.5555555555555556,
                          "#d8576b"
                        ],
                        [
                          0.6666666666666666,
                          "#ed7953"
                        ],
                        [
                          0.7777777777777778,
                          "#fb9f3a"
                        ],
                        [
                          0.8888888888888888,
                          "#fdca26"
                        ],
                        [
                          1,
                          "#f0f921"
                        ]
                      ]
                    },
                    "colorway": [
                      "#636efa",
                      "#EF553B",
                      "#00cc96",
                      "#ab63fa",
                      "#FFA15A",
                      "#19d3f3",
                      "#FF6692",
                      "#B6E880",
                      "#FF97FF",
                      "#FECB52"
                    ],
                    "font": {
                      "color": "#2a3f5f"
                    },
                    "geo": {
                      "bgcolor": "white",
                      "lakecolor": "white",
                      "landcolor": "#E5ECF6",
                      "showlakes": true,
                      "showland": true,
                      "subunitcolor": "white"
                    },
                    "hoverlabel": {
                      "align": "left"
                    },
                    "hovermode": "closest",
                    "mapbox": {
                      "style": "light"
                    },
                    "paper_bgcolor": "white",
                    "plot_bgcolor": "#E5ECF6",
                    "polar": {
                      "angularaxis": {
                        "gridcolor": "white",
                        "linecolor": "white",
                        "ticks": ""
                      },
                      "bgcolor": "#E5ECF6",
                      "radialaxis": {
                        "gridcolor": "white",
                        "linecolor": "white",
                        "ticks": ""
                      }
                    },
                    "scene": {
                      "xaxis": {
                        "backgroundcolor": "#E5ECF6",
                        "gridcolor": "white",
                        "gridwidth": 2,
                        "linecolor": "white",
                        "showbackground": true,
                        "ticks": "",
                        "zerolinecolor": "white"
                      },
                      "yaxis": {
                        "backgroundcolor": "#E5ECF6",
                        "gridcolor": "white",
                        "gridwidth": 2,
                        "linecolor": "white",
                        "showbackground": true,
                        "ticks": "",
                        "zerolinecolor": "white"
                      },
                      "zaxis": {
                        "backgroundcolor": "#E5ECF6",
                        "gridcolor": "white",
                        "gridwidth": 2,
                        "linecolor": "white",
                        "showbackground": true,
                        "ticks": "",
                        "zerolinecolor": "white"
                      }
                    },
                    "shapedefaults": {
                      "line": {
                        "color": "#2a3f5f"
                      }
                    },
                    "ternary": {
                      "aaxis": {
                        "gridcolor": "white",
                        "linecolor": "white",
                        "ticks": ""
                      },
                      "baxis": {
                        "gridcolor": "white",
                        "linecolor": "white",
                        "ticks": ""
                      },
                      "bgcolor": "#E5ECF6",
                      "caxis": {
                        "gridcolor": "white",
                        "linecolor": "white",
                        "ticks": ""
                      }
                    },
                    "title": {
                      "x": 0.05
                    },
                    "xaxis": {
                      "automargin": true,
                      "gridcolor": "white",
                      "linecolor": "white",
                      "ticks": "",
                      "title": {
                        "standoff": 15
                      },
                      "zerolinecolor": "white",
                      "zerolinewidth": 2
                    },
                    "yaxis": {
                      "automargin": true,
                      "gridcolor": "white",
                      "linecolor": "white",
                      "ticks": "",
                      "title": {
                        "standoff": 15
                      },
                      "zerolinecolor": "white",
                      "zerolinewidth": 2
                    }
                  }
                },
                "title": {
                  "font": {
                    "size": 24
                  },
                  "text": "Monthly New Songs in Hot 100 (2022-2024)",
                  "x": 0.5
                },
                "xaxis": {
                  "anchor": "y",
                  "domain": [
                    0,
                    1
                  ],
                  "title": {
                    "text": "Month"
                  }
                },
                "yaxis": {
                  "anchor": "x",
                  "domain": [
                    0,
                    1
                  ],
                  "title": {
                    "text": "Year"
                  }
                }
              }
            }
          },
          "metadata": {},
          "output_type": "display_data"
        }
      ],
      "source": [
        "# Monthly New Songs in Hot 100 (2022-2024)\n",
        "# Create the heatmap\n",
        "fig = px.density_heatmap(new_songs_by_month_sorted,\n",
        "                          x='Month',\n",
        "                          y='Year',\n",
        "                          z='Count of New Songs',\n",
        "                          title='Monthly New Songs in Hot 100 (2019-2024)',\n",
        "                          labels={'Count of New Songs': 'Number of New Songs'})\n",
        "\n",
        "fig.update_layout(\n",
        "    title=dict(\n",
        "        text='Monthly New Songs in Hot 100 (2019-2024)',\n",
        "        font=dict(size=24),  \n",
        "        x=0.5\n",
        "    )\n",
        ")\n",
        "\n",
        "# Show the heatmap\n",
        "fig.show()\n"
      ]
    }
  ],
  "metadata": {
    "colab": {
      "provenance": []
    },
    "kernelspec": {
      "display_name": "Python 3",
      "name": "python3"
    },
    "language_info": {
      "codemirror_mode": {
        "name": "ipython",
        "version": 3
      },
      "file_extension": ".py",
      "mimetype": "text/x-python",
      "name": "python",
      "nbconvert_exporter": "python",
      "pygments_lexer": "ipython3",
      "version": "3.12.4"
    }
  },
  "nbformat": 4,
  "nbformat_minor": 0
}
